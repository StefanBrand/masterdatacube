{
 "cells": [
  {
   "cell_type": "code",
   "execution_count": 1,
   "metadata": {},
   "outputs": [
    {
     "data": {
      "text/markdown": [
       "API credentials have automatically been injected for your active subscriptions.  \n",
       "The following environment variables are now available:\n",
       "* `SH_CLIENT_NAME`\n",
       "* `SH_CLIENT_SECRET`\n",
       "* `SH_INSTANCE_ID`\n",
       "* `SH_CLIENT_ID`\n",
       "\n",
       "The following additional environment variables have been loaded from `~/custom.env`:\n",
       "* `AWS_BUCKET`\n",
       "------\n"
      ],
      "text/plain": [
       "<IPython.core.display.Markdown object>"
      ]
     },
     "metadata": {},
     "output_type": "display_data"
    }
   ],
   "source": [
    "import pandas as pd\n",
    "from IPython.display import clear_output\n",
    "import time\n",
    "from edc import setup_environment_variables\n",
    "\n",
    "# Oauth\n",
    "from oauthlib.oauth2 import BackendApplicationClient\n",
    "from requests_oauthlib import OAuth2Session\n",
    "\n",
    "setup_environment_variables()"
   ]
  },
  {
   "cell_type": "code",
   "execution_count": 2,
   "metadata": {},
   "outputs": [],
   "source": [
    "# Your client credentials\n",
    "client_id = %env SH_CLIENT_ID\n",
    "client_secret = %env SH_CLIENT_SECRET\n",
    "\n",
    "# Create a session\n",
    "client = BackendApplicationClient(client_id=client_id)\n",
    "oauth = OAuth2Session(client=client)\n",
    "\n",
    "token = oauth.fetch_token(token_url='https://services.sentinel-hub.com/oauth/token',\n",
    "                          client_id=client_id, client_secret=client_secret)\n",
    "\n",
    "resp = oauth.get(\"https://services.sentinel-hub.com/oauth/tokeninfo\")\n",
    "\n",
    "url = 'https://services.sentinel-hub.com/batch/v1/process/'"
   ]
  },
  {
   "cell_type": "code",
   "execution_count": null,
   "metadata": {},
   "outputs": [
    {
     "name": "stdout",
     "output_type": "stream",
     "text": [
      "SCHEDULED    4\n",
      "dtype: int64\n",
      "SCHEDULED    4\n",
      "dtype: int64\n",
      "SCHEDULED    4\n",
      "dtype: int64\n"
     ]
    }
   ],
   "source": [
    "while(True):\n",
    "# Query REST endpoint for all requests\n",
    "    viewtoken = 0\n",
    "    active_requests = []\n",
    "    while viewtoken is not None:\n",
    "        response = oauth.request('GET', f'{url}?viewtoken={viewtoken}').json()\n",
    "        active_requests.extend([r for r in response['member'] if r['status'] == 'PROCESSING' and r['userAction'] == 'START']) \n",
    "        viewtoken=response['view']['nextToken']\n",
    "\n",
    "    len(active_requests)\n",
    "\n",
    "    arids = [ar['id'] for ar in active_requests]\n",
    "\n",
    "    clear_output(True)\n",
    "    for request_id in arids:\n",
    "        tiles = []\n",
    "        viewtoken = 0\n",
    "        while viewtoken is not None:\n",
    "            response = oauth.request('GET', f'{url}{request_id}/tiles?viewtoken={viewtoken}').json()\n",
    "            tiles.extend(response['member'])\n",
    "            viewtoken=response['view']['nextToken']\n",
    "\n",
    "        if 'FAILED' in [t['status'] for t in tiles]: print(tiles[0]['requestId'])\n",
    "        print(pd.Series([t['status'] for t in tiles]).value_counts())\n",
    "\n",
    "    time.sleep(1)"
   ]
  }
 ],
 "metadata": {
  "kernelspec": {
   "display_name": "Python 3",
   "language": "python",
   "name": "python3"
  },
  "language_info": {
   "codemirror_mode": {
    "name": "ipython",
    "version": 3
   },
   "file_extension": ".py",
   "mimetype": "text/x-python",
   "name": "python",
   "nbconvert_exporter": "python",
   "pygments_lexer": "ipython3",
   "version": "3.7.6"
  }
 },
 "nbformat": 4,
 "nbformat_minor": 4
}
