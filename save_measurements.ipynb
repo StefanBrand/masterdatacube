{
 "cells": [
  {
   "cell_type": "code",
   "execution_count": 1,
   "metadata": {},
   "outputs": [
    {
     "data": {
      "text/markdown": [
       "API credentials have automatically been injected for your active subscriptions.  \n",
       "The following environment variables are now available:\n",
       "* `SH_CLIENT_NAME`\n",
       "* `SH_CLIENT_SECRET`\n",
       "* `SH_INSTANCE_ID`\n",
       "* `SH_CLIENT_ID`\n",
       "\n",
       "The following additional environment variables have been loaded from `~/custom.env`:\n",
       "* `AWS_BUCKET`\n",
       "------\n"
      ],
      "text/plain": [
       "<IPython.core.display.Markdown object>"
      ]
     },
     "metadata": {},
     "output_type": "display_data"
    }
   ],
   "source": [
    "import boto3\n",
    "import json\n",
    "from datetime import datetime\n",
    "from edc import setup_environment_variables\n",
    "\n",
    "# Oauth\n",
    "from oauthlib.oauth2 import BackendApplicationClient\n",
    "from requests_oauthlib import OAuth2Session\n",
    "\n",
    "setup_environment_variables()"
   ]
  },
  {
   "cell_type": "code",
   "execution_count": 2,
   "metadata": {},
   "outputs": [],
   "source": [
    "# Your client credentials\n",
    "client_id = %env SH_CLIENT_ID\n",
    "client_secret = %env SH_CLIENT_SECRET\n",
    "\n",
    "# Create a session\n",
    "client = BackendApplicationClient(client_id=client_id)\n",
    "oauth = OAuth2Session(client=client)\n",
    "\n",
    "token = oauth.fetch_token(token_url='https://services.sentinel-hub.com/oauth/token',\n",
    "                          client_id=client_id, client_secret=client_secret)\n",
    "\n",
    "resp = oauth.get(\"https://services.sentinel-hub.com/oauth/tokeninfo\")\n",
    "\n",
    "url = 'https://services.sentinel-hub.com/batch/v1/process/'"
   ]
  },
  {
   "cell_type": "code",
   "execution_count": 3,
   "metadata": {},
   "outputs": [],
   "source": [
    "bucket_name = %env AWS_BUCKET"
   ]
  },
  {
   "cell_type": "code",
   "execution_count": 4,
   "metadata": {},
   "outputs": [
    {
     "name": "stdout",
     "output_type": "stream",
     "text": [
      "0 measurements written to bucket\n"
     ]
    }
   ],
   "source": [
    "i = 0\n",
    "\n",
    "s3 = boto3.resource('s3')\n",
    "bk = s3.Bucket(bucket_name)\n",
    "\n",
    "objects = list(bk.objects.all())\n",
    "request_ids = set([o.key.split('/')[0] for o in objects if '/' in o.key])\n",
    "\n",
    "for rid in request_ids:\n",
    "    # Check if measurements.json already exists for a request\n",
    "    if f'{rid}/measurements.json' in [o.key for o in objects]:\n",
    "        pass\n",
    "    else:\n",
    "        response = oauth.request('GET', f'{url}{rid}')\n",
    "\n",
    "        if response.ok:\n",
    "            request = response.json()\n",
    "\n",
    "            if request['status'] == 'DONE':\n",
    "                # Collect size\n",
    "                size = sum([o.size for o in objects if o.key.startswith(rid)])\n",
    "                \n",
    "                # Collect execution time\n",
    "                created = datetime.fromisoformat(request['created'].replace('Z','+00:00'))\n",
    "                finished = max([o.last_modified for o in objects if o.key.startswith(rid) and\n",
    "                               o.key.endswith('tif')])\n",
    "                \n",
    "                # Collect costs\n",
    "                tiles = []\n",
    "                viewtoken = 0\n",
    "                while viewtoken is not None:\n",
    "                    response = oauth.request('GET', f'{url}{rid}/tiles?viewtoken={viewtoken}').json()\n",
    "                    tiles.extend(response['member'])\n",
    "                    viewtoken=response['view']['nextToken']\n",
    "                costs = sum([t['cost'] for t in tiles])\n",
    "\n",
    "                # Save measurements to bucket\n",
    "                bk.put_object(Key=rid + '/measurements.json', Body=json.dumps({\n",
    "                    'description': request['description'],\n",
    "                    'id': rid,\n",
    "                    'execution time': str(finished-created),\n",
    "                    'costs': costs,\n",
    "                    'n_tiles': len(tiles),\n",
    "                    'n_timeslices': len(json.load(bk.Object(key=f'{rid}/userdata.json').get()['Body'])['time']),\n",
    "                    'size': size\n",
    "                }))\n",
    "                \n",
    "                i+=1\n",
    "\n",
    "\n",
    "print(i, 'measurements written to bucket')"
   ]
  },
  {
   "cell_type": "code",
   "execution_count": 5,
   "metadata": {},
   "outputs": [
    {
     "data": {
      "text/html": [
       "<div>\n",
       "<style scoped>\n",
       "    .dataframe tbody tr th:only-of-type {\n",
       "        vertical-align: middle;\n",
       "    }\n",
       "\n",
       "    .dataframe tbody tr th {\n",
       "        vertical-align: top;\n",
       "    }\n",
       "\n",
       "    .dataframe thead th {\n",
       "        text-align: right;\n",
       "    }\n",
       "</style>\n",
       "<table border=\"1\" class=\"dataframe\">\n",
       "  <thead>\n",
       "    <tr style=\"text-align: right;\">\n",
       "      <th></th>\n",
       "      <th>description</th>\n",
       "      <th>id</th>\n",
       "      <th>execution time</th>\n",
       "      <th>costs</th>\n",
       "      <th>size</th>\n",
       "      <th>n_tiles</th>\n",
       "      <th>n_timeslices</th>\n",
       "    </tr>\n",
       "  </thead>\n",
       "  <tbody>\n",
       "    <tr>\n",
       "      <th>51</th>\n",
       "      <td>Test MAB 20170901_20170930</td>\n",
       "      <td>59240413-4e97-4023-ac04-81da91eb5e71</td>\n",
       "      <td>0:08:30.490000</td>\n",
       "      <td>20818.306003</td>\n",
       "      <td>7.327729</td>\n",
       "      <td>NaN</td>\n",
       "      <td>NaN</td>\n",
       "    </tr>\n",
       "    <tr>\n",
       "      <th>125</th>\n",
       "      <td>Test MAB 20170901_20170930</td>\n",
       "      <td>d0382f75-3b67-4ed7-8481-b6393d6cdb64</td>\n",
       "      <td>0:08:51.300000</td>\n",
       "      <td>21729.555494</td>\n",
       "      <td>7.328047</td>\n",
       "      <td>57.0</td>\n",
       "      <td>2.0</td>\n",
       "    </tr>\n",
       "  </tbody>\n",
       "</table>\n",
       "</div>"
      ],
      "text/plain": [
       "                    description                                    id  \\\n",
       "51   Test MAB 20170901_20170930  59240413-4e97-4023-ac04-81da91eb5e71   \n",
       "125  Test MAB 20170901_20170930  d0382f75-3b67-4ed7-8481-b6393d6cdb64   \n",
       "\n",
       "     execution time         costs      size  n_tiles  n_timeslices  \n",
       "51   0:08:30.490000  20818.306003  7.327729      NaN           NaN  \n",
       "125  0:08:51.300000  21729.555494  7.328047     57.0           2.0  "
      ]
     },
     "execution_count": 5,
     "metadata": {},
     "output_type": "execute_result"
    }
   ],
   "source": [
    "import pandas as pd\n",
    "objects = list(bk.objects.all())\n",
    "df= pd.DataFrame([json.load(o.get()['Body']) for o in objects if o.key.endswith('measurements.json')])\n",
    "df['size'] = df['size'] /2**30 #GiB\n",
    "df[(df.description.str.contains('Test MAB'))]#.plot()"
   ]
  }
 ],
 "metadata": {
  "kernelspec": {
   "display_name": "Python 3",
   "language": "python",
   "name": "python3"
  },
  "language_info": {
   "codemirror_mode": {
    "name": "ipython",
    "version": 3
   },
   "file_extension": ".py",
   "mimetype": "text/x-python",
   "name": "python",
   "nbconvert_exporter": "python",
   "pygments_lexer": "ipython3",
   "version": "3.7.6"
  }
 },
 "nbformat": 4,
 "nbformat_minor": 4
}
