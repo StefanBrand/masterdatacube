{
 "cells": [
  {
   "cell_type": "code",
   "execution_count": 1,
   "metadata": {},
   "outputs": [
    {
     "data": {
      "text/markdown": [
       "API credentials have automatically been injected for your active subscriptions.  \n",
       "The following environment variables are now available:\n",
       "* `SH_CLIENT_NAME`\n",
       "* `SH_CLIENT_SECRET`\n",
       "* `SH_INSTANCE_ID`\n",
       "* `SH_CLIENT_ID`\n",
       "\n",
       "The following additional environment variables have been loaded from `~/custom.env`:\n",
       "* `AWS_BUCKET`\n",
       "------\n"
      ],
      "text/plain": [
       "<IPython.core.display.Markdown object>"
      ]
     },
     "metadata": {},
     "output_type": "display_data"
    }
   ],
   "source": [
    "import boto3\n",
    "import json\n",
    "from datetime import datetime\n",
    "from edc import setup_environment_variables\n",
    "\n",
    "# Oauth\n",
    "from oauthlib.oauth2 import BackendApplicationClient\n",
    "from requests_oauthlib import OAuth2Session\n",
    "\n",
    "setup_environment_variables()"
   ]
  },
  {
   "cell_type": "code",
   "execution_count": 2,
   "metadata": {},
   "outputs": [],
   "source": [
    "# Your client credentials\n",
    "client_id = %env SH_CLIENT_ID\n",
    "client_secret = %env SH_CLIENT_SECRET\n",
    "\n",
    "# Create a session\n",
    "client = BackendApplicationClient(client_id=client_id)\n",
    "oauth = OAuth2Session(client=client)\n",
    "\n",
    "token = oauth.fetch_token(token_url='https://services.sentinel-hub.com/oauth/token',\n",
    "                          client_id=client_id, client_secret=client_secret)\n",
    "\n",
    "resp = oauth.get(\"https://services.sentinel-hub.com/oauth/tokeninfo\")\n",
    "\n",
    "url = 'https://services.sentinel-hub.com/batch/v1/process/'"
   ]
  },
  {
   "cell_type": "code",
   "execution_count": 3,
   "metadata": {},
   "outputs": [],
   "source": [
    "bucket_name = %env AWS_BUCKET"
   ]
  },
  {
   "cell_type": "code",
   "execution_count": 4,
   "metadata": {},
   "outputs": [
    {
     "name": "stdout",
     "output_type": "stream",
     "text": [
      "0 measurements written to bucket\n"
     ]
    }
   ],
   "source": [
    "i = 0\n",
    "\n",
    "s3 = boto3.resource('s3')\n",
    "bk = s3.Bucket(bucket_name)\n",
    "\n",
    "objects = list(bk.objects.all())\n",
    "request_ids = set([o.key.split('/')[0] for o in objects if '/' in o.key])\n",
    "\n",
    "for rid in request_ids:\n",
    "    # Check if measurements.json already exists for a request\n",
    "    if f'{rid}/measurements.json' in [o.key for o in objects]:\n",
    "        pass\n",
    "    else:\n",
    "        response = oauth.request('GET', f'{url}{rid}')\n",
    "\n",
    "        if response.ok:\n",
    "            request = response.json()\n",
    "\n",
    "            if request['status'] == 'DONE':\n",
    "                # Collect size\n",
    "                size = sum([o.size for o in objects if o.key.startswith(rid)])\n",
    "                \n",
    "                # Collect execution time\n",
    "                created = datetime.fromisoformat(request['created'].replace('Z','+00:00'))\n",
    "                finished = max([o.last_modified for o in objects if o.key.startswith(rid) and\n",
    "                               o.key.endswith('tif')])\n",
    "                \n",
    "                # Collect costs\n",
    "                tiles = []\n",
    "                viewtoken = 0\n",
    "                while viewtoken is not None:\n",
    "                    response = oauth.request('GET', f'{url}{rid}/tiles?viewtoken={viewtoken}').json()\n",
    "                    tiles.extend(response['member'])\n",
    "                    viewtoken=response['view']['nextToken']\n",
    "                costs = sum([t['cost'] for t in tiles])\n",
    "\n",
    "                # Save measurements to bucket\n",
    "                bk.put_object(Key=rid + '/measurements.json', Body=json.dumps({\n",
    "                    'description': request['description'],\n",
    "                    'id': rid,\n",
    "                    'execution time': str(finished-created),\n",
    "                    'costs': costs,\n",
    "                    'n_tiles': len(tiles),\n",
    "                    'n_timeslices': len(json.load(bk.Object(key=f'{rid}/userdata.json').get()['Body'])['time']),\n",
    "                    'size': size\n",
    "                }))\n",
    "                \n",
    "                i+=1\n",
    "\n",
    "\n",
    "print(i, 'measurements written to bucket')"
   ]
  },
  {
   "cell_type": "code",
   "execution_count": 5,
   "metadata": {},
   "outputs": [],
   "source": [
    "import pandas as pd\n",
    "objects = list(bk.objects.all())\n",
    "df= pd.DataFrame([json.load(o.get()['Body']) for o in objects if o.key.endswith('measurements.json')])\n",
    "df['size'] = df['size'] /2**30 #GiB\n",
    "df['execution time'] = pd.to_timedelta(df['execution time'])"
   ]
  },
  {
   "cell_type": "code",
   "execution_count": 6,
   "metadata": {},
   "outputs": [
    {
     "data": {
      "text/html": [
       "<div>\n",
       "<style scoped>\n",
       "    .dataframe tbody tr th:only-of-type {\n",
       "        vertical-align: middle;\n",
       "    }\n",
       "\n",
       "    .dataframe tbody tr th {\n",
       "        vertical-align: top;\n",
       "    }\n",
       "\n",
       "    .dataframe thead th {\n",
       "        text-align: right;\n",
       "    }\n",
       "</style>\n",
       "<table border=\"1\" class=\"dataframe\">\n",
       "  <thead>\n",
       "    <tr style=\"text-align: right;\">\n",
       "      <th></th>\n",
       "      <th>description</th>\n",
       "      <th>id</th>\n",
       "      <th>execution time</th>\n",
       "      <th>costs</th>\n",
       "      <th>size</th>\n",
       "      <th>n_tiles</th>\n",
       "      <th>n_timeslices</th>\n",
       "    </tr>\n",
       "  </thead>\n",
       "  <tbody>\n",
       "    <tr>\n",
       "      <th>127</th>\n",
       "      <td>Test MAB</td>\n",
       "      <td>cb56bf1d-8dbb-405b-b24b-d024ab6613ec</td>\n",
       "      <td>00:16:54.499000</td>\n",
       "      <td>53171.563823</td>\n",
       "      <td>13.278564</td>\n",
       "      <td>57.0</td>\n",
       "      <td>4.0</td>\n",
       "    </tr>\n",
       "    <tr>\n",
       "      <th>77</th>\n",
       "      <td>Test MAB</td>\n",
       "      <td>801bdcc7-ec03-4bac-8c4b-b947b61e2945</td>\n",
       "      <td>00:26:11.840000</td>\n",
       "      <td>82917.462226</td>\n",
       "      <td>18.617208</td>\n",
       "      <td>57.0</td>\n",
       "      <td>6.0</td>\n",
       "    </tr>\n",
       "    <tr>\n",
       "      <th>70</th>\n",
       "      <td>Test MAB</td>\n",
       "      <td>777c0ee9-c2b8-4fea-b585-69bae11322ab</td>\n",
       "      <td>00:34:55.094000</td>\n",
       "      <td>113603.476756</td>\n",
       "      <td>24.080159</td>\n",
       "      <td>57.0</td>\n",
       "      <td>8.0</td>\n",
       "    </tr>\n",
       "    <tr>\n",
       "      <th>73</th>\n",
       "      <td>Test MAB</td>\n",
       "      <td>789bb20c-2074-4c5b-ba7b-35a0d12440ea</td>\n",
       "      <td>00:43:50.979000</td>\n",
       "      <td>147444.536613</td>\n",
       "      <td>29.590905</td>\n",
       "      <td>57.0</td>\n",
       "      <td>10.0</td>\n",
       "    </tr>\n",
       "    <tr>\n",
       "      <th>2</th>\n",
       "      <td>Test MAB</td>\n",
       "      <td>0af8bd9f-95fb-48db-bba6-3338951690ab</td>\n",
       "      <td>00:51:35.152000</td>\n",
       "      <td>174327.956949</td>\n",
       "      <td>34.839634</td>\n",
       "      <td>57.0</td>\n",
       "      <td>12.0</td>\n",
       "    </tr>\n",
       "    <tr>\n",
       "      <th>92</th>\n",
       "      <td>Test MAB</td>\n",
       "      <td>9e9ea55a-1dde-4ec4-b570-785d273bcb15</td>\n",
       "      <td>02:03:28.556000</td>\n",
       "      <td>247670.277908</td>\n",
       "      <td>50.396634</td>\n",
       "      <td>57.0</td>\n",
       "      <td>17.0</td>\n",
       "    </tr>\n",
       "  </tbody>\n",
       "</table>\n",
       "</div>"
      ],
      "text/plain": [
       "    description                                    id  execution time  \\\n",
       "127    Test MAB  cb56bf1d-8dbb-405b-b24b-d024ab6613ec 00:16:54.499000   \n",
       "77     Test MAB  801bdcc7-ec03-4bac-8c4b-b947b61e2945 00:26:11.840000   \n",
       "70     Test MAB  777c0ee9-c2b8-4fea-b585-69bae11322ab 00:34:55.094000   \n",
       "73     Test MAB  789bb20c-2074-4c5b-ba7b-35a0d12440ea 00:43:50.979000   \n",
       "2      Test MAB  0af8bd9f-95fb-48db-bba6-3338951690ab 00:51:35.152000   \n",
       "92     Test MAB  9e9ea55a-1dde-4ec4-b570-785d273bcb15 02:03:28.556000   \n",
       "\n",
       "             costs       size  n_tiles  n_timeslices  \n",
       "127   53171.563823  13.278564     57.0           4.0  \n",
       "77    82917.462226  18.617208     57.0           6.0  \n",
       "70   113603.476756  24.080159     57.0           8.0  \n",
       "73   147444.536613  29.590905     57.0          10.0  \n",
       "2    174327.956949  34.839634     57.0          12.0  \n",
       "92   247670.277908  50.396634     57.0          17.0  "
      ]
     },
     "execution_count": 6,
     "metadata": {},
     "output_type": "execute_result"
    }
   ],
   "source": [
    "df[df.description == 'Test MAB'].sort_values('n_timeslices')"
   ]
  },
  {
   "cell_type": "code",
   "execution_count": 7,
   "metadata": {},
   "outputs": [
    {
     "data": {
      "text/plain": [
       "<matplotlib.axes._subplots.AxesSubplot at 0x7fcd4661cf90>"
      ]
     },
     "execution_count": 7,
     "metadata": {},
     "output_type": "execute_result"
    },
    {
     "data": {
      "image/png": "[encoded data removed]",
      "text/plain": [
       "<Figure size 432x288 with 2 Axes>"
      ]
     },
     "metadata": {
      "needs_background": "light"
     },
     "output_type": "display_data"
    }
   ],
   "source": [
    "df_mab = df[df.description == 'Test MAB']\n",
    "df_mab.loc[:, df_mab.columns != 'n_tiles'].sort_values('n_timeslices').plot(x='n_timeslices', secondary_y='execution time')"
   ]
  },
  {
   "cell_type": "code",
   "execution_count": 8,
   "metadata": {},
   "outputs": [
    {
     "data": {
      "text/plain": [
       "2073448.383147053"
      ]
     },
     "execution_count": 8,
     "metadata": {},
     "output_type": "execute_result"
    }
   ],
   "source": [
    "import statsmodels.formula.api as sm\n",
    "\n",
    "res = df_mab.pipe((sm.ols, 'data'), 'costs ~ n_timeslices').fit()\n",
    "params = res.params\n",
    "(params.Intercept + params.n_timeslices * 30) *266/57 # Austria has 266 tiles"
   ]
  }
 ],
 "metadata": {
  "kernelspec": {
   "display_name": "Python 3",
   "language": "python",
   "name": "python3"
  },
  "language_info": {
   "codemirror_mode": {
    "name": "ipython",
    "version": 3
   },
   "file_extension": ".py",
   "mimetype": "text/x-python",
   "name": "python",
   "nbconvert_exporter": "python",
   "pygments_lexer": "ipython3",
   "version": "3.7.6"
  }
 },
 "nbformat": 4,
 "nbformat_minor": 4
}
