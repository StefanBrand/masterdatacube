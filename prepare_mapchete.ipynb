{
 "cells": [
  {
   "cell_type": "code",
   "execution_count": 1,
   "metadata": {},
   "outputs": [],
   "source": [
    "import xarray as xr\n",
    "import json\n",
    "from pandas import to_datetime, IntervalIndex\n",
    "from pathlib import Path\n",
    "\n",
    "from util import date_interval_endpoints as endpoints\n",
    "from datetime import datetime\n",
    "from dateutil.rrule import rrule, MONTHLY \n",
    "\n",
    "home = str(Path.home())"
   ]
  },
  {
   "cell_type": "code",
   "execution_count": 2,
   "metadata": {},
   "outputs": [
    {
     "data": {
      "text/html": [
       "<pre>&lt;xarray.Dataset&gt;\n",
       "Dimensions:     (timestamps: 35, x: 256, y: 256)\n",
       "Coordinates:\n",
       "  * timestamps  (timestamps) datetime64[ns] 2019-06-02T09:58:14 ... 2019-08-29T10:07:49\n",
       "Dimensions without coordinates: x, y\n",
       "Data variables:\n",
       "    B04         (timestamps, x, y) uint16 291 296 294 286 ... 4121 4117 4109\n",
       "    B03         (timestamps, x, y) uint16 621 646 672 668 ... 4601 4599 4601\n",
       "    B02         (timestamps, x, y) uint16 390 394 396 392 ... 5129 5137 5143\n",
       "    B08         (timestamps, x, y) uint16 5122 5304 5430 5331 ... 5074 5093 5116</pre>"
      ],
      "text/plain": [
       "<xarray.Dataset>\n",
       "Dimensions:     (timestamps: 35, x: 256, y: 256)\n",
       "Coordinates:\n",
       "  * timestamps  (timestamps) datetime64[ns] 2019-06-02T09:58:14 ... 2019-08-29T10:07:49\n",
       "Dimensions without coordinates: x, y\n",
       "Data variables:\n",
       "    B04         (timestamps, x, y) uint16 291 296 294 286 ... 4121 4117 4109\n",
       "    B03         (timestamps, x, y) uint16 621 646 672 668 ... 4601 4599 4601\n",
       "    B02         (timestamps, x, y) uint16 390 394 396 392 ... 5129 5137 5143\n",
       "    B08         (timestamps, x, y) uint16 5122 5304 5430 5331 ... 5074 5093 5116"
      ]
     },
     "execution_count": 2,
     "metadata": {},
     "output_type": "execute_result"
    }
   ],
   "source": [
    "cube = xr.open_zarr(home+\"/stacks/13/2002/8920.zarr\", chunks=None)[\"data\"]\n",
    "\n",
    "timestamps = [to_datetime(v['timestamp']) for v in json.loads(cube.json).values()]\n",
    "cube.coords['slice_ids'] = timestamps\n",
    "cube = cube.rename({'slice_ids': 'timestamps'})\n",
    "cube = cube.sortby('timestamps')\n",
    "cube = cube.assign_coords(bands=[b.split('_')[0] for b in cube.bands.data])\n",
    "cube = xr.Dataset({b: cube.sel(dict(bands=b)).reset_coords('bands', drop=True) for b in cube.bands.data})\n",
    "cube"
   ]
  },
  {
   "cell_type": "code",
   "execution_count": 3,
   "metadata": {},
   "outputs": [
    {
     "data": {
      "text/plain": [
       "IntervalIndex([(2019-06-02, 2019-06-15 23:59:59], (2019-06-16, 2019-06-30 23:59:59], (2019-07-01, 2019-07-15 23:59:59], (2019-07-16, 2019-07-31 23:59:59], (2019-08-01, 2019-08-15 23:59:59], (2019-08-16, 2019-08-29 23:59:59]],\n",
       "              closed='right',\n",
       "              dtype='interval[datetime64[ns]]')"
      ]
     },
     "execution_count": 3,
     "metadata": {},
     "output_type": "execute_result"
    }
   ],
   "source": [
    "starttime = datetime(*min(timestamps).timetuple()[:3],0,0,0)\n",
    "endtime = datetime(*max(timestamps).timetuple()[:3],0,0,0)\n",
    "\n",
    "eps = endpoints(starttime, endtime, 16)\n",
    "idx = IntervalIndex.from_arrays(eps[::2], eps[1::2])\n",
    "idx"
   ]
  },
  {
   "cell_type": "code",
   "execution_count": 4,
   "metadata": {},
   "outputs": [
    {
     "data": {
      "text/html": [
       "<pre>&lt;xarray.Dataset&gt;\n",
       "Dimensions:          (timestamps_bins: 6, x: 256, y: 256)\n",
       "Coordinates:\n",
       "  * timestamps_bins  (timestamps_bins) object (2019-06-02, 2019-06-15 23:59:59] ... (2019-08-16, 2019-08-29 23:59:59]\n",
       "Dimensions without coordinates: x, y\n",
       "Data variables:\n",
       "    B04              (timestamps_bins, x, y) float64 1.812e+03 ... 3.099e+03\n",
       "    B03              (timestamps_bins, x, y) float64 2.067e+03 ... 3.353e+03\n",
       "    B02              (timestamps_bins, x, y) float64 2.029e+03 ... 3.623e+03\n",
       "    B08              (timestamps_bins, x, y) float64 4.83e+03 ... 4.542e+03\n",
       "    B05              (timestamps_bins, x, y) float64 6.135 ... 1.987e+03\n",
       "    B06              (timestamps_bins, x, y) float64 3.364e+03 ... 485.8\n",
       "    B07              (timestamps_bins, x, y) float64 470.2 ... 3.818e+03\n",
       "    B8A              (timestamps_bins, x, y) float64 3.373e+03 ... 1.629e+03\n",
       "    B11              (timestamps_bins, x, y) float64 2.946e+03 907.5 ... 399.1\n",
       "    B12              (timestamps_bins, x, y) float64 659.0 3.245e+03 ... 388.0</pre>"
      ],
      "text/plain": [
       "<xarray.Dataset>\n",
       "Dimensions:          (timestamps_bins: 6, x: 256, y: 256)\n",
       "Coordinates:\n",
       "  * timestamps_bins  (timestamps_bins) object (2019-06-02, 2019-06-15 23:59:59] ... (2019-08-16, 2019-08-29 23:59:59]\n",
       "Dimensions without coordinates: x, y\n",
       "Data variables:\n",
       "    B04              (timestamps_bins, x, y) float64 1.812e+03 ... 3.099e+03\n",
       "    B03              (timestamps_bins, x, y) float64 2.067e+03 ... 3.353e+03\n",
       "    B02              (timestamps_bins, x, y) float64 2.029e+03 ... 3.623e+03\n",
       "    B08              (timestamps_bins, x, y) float64 4.83e+03 ... 4.542e+03\n",
       "    B05              (timestamps_bins, x, y) float64 6.135 ... 1.987e+03\n",
       "    B06              (timestamps_bins, x, y) float64 3.364e+03 ... 485.8\n",
       "    B07              (timestamps_bins, x, y) float64 470.2 ... 3.818e+03\n",
       "    B8A              (timestamps_bins, x, y) float64 3.373e+03 ... 1.629e+03\n",
       "    B11              (timestamps_bins, x, y) float64 2.946e+03 907.5 ... 399.1\n",
       "    B12              (timestamps_bins, x, y) float64 659.0 3.245e+03 ... 388.0"
      ]
     },
     "execution_count": 4,
     "metadata": {},
     "output_type": "execute_result"
    }
   ],
   "source": [
    "# Calculate values in time intervals\n",
    "avg_cube = cube.groupby_bins('timestamps',bins=idx).mean('timestamps')\n",
    "\n",
    "# Fake data\n",
    "from numpy.random import random_sample\n",
    "for b in ['B05', 'B06', 'B07', 'B8A', 'B11', 'B12']:\n",
    "    avg_cube[b] = avg_cube.B04\n",
    "    avg_cube[b].data = random_sample(avg_cube.B04.shape)*4000\n",
    "\n",
    "avg_cube"
   ]
  },
  {
   "cell_type": "code",
   "execution_count": 5,
   "metadata": {},
   "outputs": [
    {
     "data": {
      "text/html": [
       "<pre>&lt;xarray.Dataset&gt;\n",
       "Dimensions:          (timestamps_bins: 6, x: 256, y: 256)\n",
       "Coordinates:\n",
       "  * timestamps_bins  (timestamps_bins) object (2019-06-02, 2019-06-15 23:59:59] ... (2019-08-16, 2019-08-29 23:59:59]\n",
       "Dimensions without coordinates: x, y\n",
       "Data variables:\n",
       "    B04              (timestamps_bins, x, y) float64 1.812e+03 ... 3.099e+03\n",
       "    B03              (timestamps_bins, x, y) float64 2.067e+03 ... 3.353e+03\n",
       "    B02              (timestamps_bins, x, y) float64 2.029e+03 ... 3.623e+03\n",
       "    B08              (timestamps_bins, x, y) float64 4.83e+03 ... 4.542e+03\n",
       "    B05              (timestamps_bins, x, y) float64 6.135 ... 1.987e+03\n",
       "    B06              (timestamps_bins, x, y) float64 3.364e+03 ... 485.8\n",
       "    B07              (timestamps_bins, x, y) float64 470.2 ... 3.818e+03\n",
       "    B8A              (timestamps_bins, x, y) float64 3.373e+03 ... 1.629e+03\n",
       "    B11              (timestamps_bins, x, y) float64 2.946e+03 907.5 ... 399.1\n",
       "    B12              (timestamps_bins, x, y) float64 659.0 3.245e+03 ... 388.0\n",
       "    NDVI             (timestamps_bins, x, y) float64 0.4545 0.4568 ... 0.1888\n",
       "    GNDVI            (timestamps_bins, x, y) float64 0.4005 0.4034 ... 0.1505\n",
       "    BNDVI            (timestamps_bins, x, y) float64 0.4083 0.4138 ... 0.1125\n",
       "    NDSI             (timestamps_bins, x, y) float64 0.6344 -0.563 ... 0.01407\n",
       "    NDWI             (timestamps_bins, x, y) float64 -0.4005 -0.4034 ... -0.1505\n",
       "    CVI              (timestamps_bins, x, y) float64 0.006935 1.262 ... 0.8026</pre>"
      ],
      "text/plain": [
       "<xarray.Dataset>\n",
       "Dimensions:          (timestamps_bins: 6, x: 256, y: 256)\n",
       "Coordinates:\n",
       "  * timestamps_bins  (timestamps_bins) object (2019-06-02, 2019-06-15 23:59:59] ... (2019-08-16, 2019-08-29 23:59:59]\n",
       "Dimensions without coordinates: x, y\n",
       "Data variables:\n",
       "    B04              (timestamps_bins, x, y) float64 1.812e+03 ... 3.099e+03\n",
       "    B03              (timestamps_bins, x, y) float64 2.067e+03 ... 3.353e+03\n",
       "    B02              (timestamps_bins, x, y) float64 2.029e+03 ... 3.623e+03\n",
       "    B08              (timestamps_bins, x, y) float64 4.83e+03 ... 4.542e+03\n",
       "    B05              (timestamps_bins, x, y) float64 6.135 ... 1.987e+03\n",
       "    B06              (timestamps_bins, x, y) float64 3.364e+03 ... 485.8\n",
       "    B07              (timestamps_bins, x, y) float64 470.2 ... 3.818e+03\n",
       "    B8A              (timestamps_bins, x, y) float64 3.373e+03 ... 1.629e+03\n",
       "    B11              (timestamps_bins, x, y) float64 2.946e+03 907.5 ... 399.1\n",
       "    B12              (timestamps_bins, x, y) float64 659.0 3.245e+03 ... 388.0\n",
       "    NDVI             (timestamps_bins, x, y) float64 0.4545 0.4568 ... 0.1888\n",
       "    GNDVI            (timestamps_bins, x, y) float64 0.4005 0.4034 ... 0.1505\n",
       "    BNDVI            (timestamps_bins, x, y) float64 0.4083 0.4138 ... 0.1125\n",
       "    NDSI             (timestamps_bins, x, y) float64 0.6344 -0.563 ... 0.01407\n",
       "    NDWI             (timestamps_bins, x, y) float64 -0.4005 -0.4034 ... -0.1505\n",
       "    CVI              (timestamps_bins, x, y) float64 0.006935 1.262 ... 0.8026"
      ]
     },
     "execution_count": 5,
     "metadata": {},
     "output_type": "execute_result"
    }
   ],
   "source": [
    "def calculate_index(a,b):\n",
    "    return (a-b)/(a+b)\n",
    "\n",
    "ics = { # index components\n",
    "  \"NDVI\":  [\"B08\", \"B04\"],\n",
    "  \"GNDVI\": [\"B08\", \"B03\"],\n",
    "  \"BNDVI\": [\"B08\", \"B02\"],\n",
    "  \"NDSI\":  [\"B11\", \"B12\"],\n",
    "  \"NDWI\":  [\"B03\", \"B08\"]\n",
    "}\n",
    "\n",
    "for ic in ics:\n",
    "    avg_cube[ic] = calculate_index(avg_cube[ics[ic][0]], avg_cube[ics[ic][1]])\n",
    "    \n",
    "avg_cube['CVI'] = avg_cube.B08 * avg_cube.B05 / avg_cube.B03**2\n",
    "\n",
    "avg_cube"
   ]
  }
 ],
 "metadata": {
  "kernelspec": {
   "display_name": "Python 3",
   "language": "python",
   "name": "python3"
  },
  "language_info": {
   "codemirror_mode": {
    "name": "ipython",
    "version": 3
   },
   "file_extension": ".py",
   "mimetype": "text/x-python",
   "name": "python",
   "nbconvert_exporter": "python",
   "pygments_lexer": "ipython3",
   "version": "3.7.6"
  }
 },
 "nbformat": 4,
 "nbformat_minor": 4
}
