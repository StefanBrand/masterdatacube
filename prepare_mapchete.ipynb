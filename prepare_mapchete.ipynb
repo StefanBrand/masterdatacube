{
 "cells": [
  {
   "cell_type": "code",
   "execution_count": 1,
   "metadata": {},
   "outputs": [],
   "source": [
    "import xarray as xr\n",
    "import numpy as np\n",
    "import json\n",
    "\n",
    "from pandas import to_datetime, IntervalIndex\n",
    "from rasterio.features import geometry_mask\n",
    "from rasterio.transform import from_bounds\n",
    "from shapely.geometry import shape\n",
    "from pathlib import Path\n",
    "\n",
    "\n",
    "from util import date_interval_endpoints as endpoints\n",
    "from datetime import datetime\n",
    "from dateutil.rrule import rrule, MONTHLY \n",
    "\n",
    "home = str(Path.home())"
   ]
  },
  {
   "cell_type": "code",
   "execution_count": 2,
   "metadata": {},
   "outputs": [
    {
     "data": {
      "text/html": [
       "<pre>&lt;xarray.Dataset&gt;\n",
       "Dimensions:     (timestamps: 35, x: 256, y: 256)\n",
       "Coordinates:\n",
       "  * timestamps  (timestamps) datetime64[ns] 2019-06-02T09:58:14 ... 2019-08-29T10:07:49\n",
       "Dimensions without coordinates: x, y\n",
       "Data variables:\n",
       "    B04         (timestamps, x, y) float64 291.0 296.0 294.0 ... nan nan nan\n",
       "    B03         (timestamps, x, y) float64 621.0 646.0 672.0 ... nan nan nan\n",
       "    B02         (timestamps, x, y) float64 390.0 394.0 396.0 ... nan nan nan\n",
       "    B08         (timestamps, x, y) float64 5.122e+03 5.304e+03 ... nan nan</pre>"
      ],
      "text/plain": [
       "<xarray.Dataset>\n",
       "Dimensions:     (timestamps: 35, x: 256, y: 256)\n",
       "Coordinates:\n",
       "  * timestamps  (timestamps) datetime64[ns] 2019-06-02T09:58:14 ... 2019-08-29T10:07:49\n",
       "Dimensions without coordinates: x, y\n",
       "Data variables:\n",
       "    B04         (timestamps, x, y) float64 291.0 296.0 294.0 ... nan nan nan\n",
       "    B03         (timestamps, x, y) float64 621.0 646.0 672.0 ... nan nan nan\n",
       "    B02         (timestamps, x, y) float64 390.0 394.0 396.0 ... nan nan nan\n",
       "    B08         (timestamps, x, y) float64 5.122e+03 5.304e+03 ... nan nan"
      ]
     },
     "execution_count": 2,
     "metadata": {},
     "output_type": "execute_result"
    }
   ],
   "source": [
    "cube = xr.open_zarr(home+\"/stacks/13/2002/8920.zarr\", chunks=None)[\"data\"]\n",
    "spatial_shape = cube.shape[-2:]\n",
    "\n",
    "metadata = json.loads(cube.json)\n",
    "\n",
    "# Masking\n",
    "masks = []\n",
    "for sid in cube['slice_ids'].data:\n",
    "    m = metadata[sid]\n",
    "    \n",
    "    transform = from_bounds(*shape(m['footprint']).bounds, *spatial_shape)\n",
    "    if m['cloud_polys']:\n",
    "        mask = geometry_mask(m['cloud_polys'], out_shape = spatial_shape, transform=transform)\n",
    "    else:\n",
    "        mask = np.ones(spatial_shape, dtype=bool)\n",
    "    mask = np.tile(mask, (len(cube.bands),1,1)) # Clone array to mask all bands at once\n",
    "    masks.append(mask)\n",
    "\n",
    "masks = np.array(masks)\n",
    "cube = cube.where(masks)\n",
    "\n",
    "# Tidy up cube\n",
    "timestamps = [to_datetime(v['timestamp']) for v in metadata.values()]\n",
    "cube.coords['slice_ids'] = timestamps\n",
    "cube = cube.rename({'slice_ids': 'timestamps'})\n",
    "cube = cube.sortby('timestamps')\n",
    "\n",
    "# get rid of resolution in band name\n",
    "cube = cube.assign_coords(bands=[b.split('_')[0] for b in cube.bands.data])\n",
    "\n",
    "# Change bands coordinate to data variables in a Dataset\n",
    "cube = xr.Dataset({b: cube.sel(dict(bands=b)).reset_coords('bands', drop=True) for b in cube.bands.data})\n",
    "cube"
   ]
  },
  {
   "cell_type": "code",
   "execution_count": 3,
   "metadata": {},
   "outputs": [
    {
     "data": {
      "text/plain": [
       "IntervalIndex([(2019-06-02, 2019-06-15 23:59:59], (2019-06-16, 2019-06-30 23:59:59], (2019-07-01, 2019-07-15 23:59:59], (2019-07-16, 2019-07-31 23:59:59], (2019-08-01, 2019-08-15 23:59:59], (2019-08-16, 2019-08-29 23:59:59]],\n",
       "              closed='right',\n",
       "              dtype='interval[datetime64[ns]]')"
      ]
     },
     "execution_count": 3,
     "metadata": {},
     "output_type": "execute_result"
    }
   ],
   "source": [
    "starttime = datetime(*min(timestamps).timetuple()[:3],0,0,0)\n",
    "endtime = datetime(*max(timestamps).timetuple()[:3],0,0,0)\n",
    "\n",
    "eps = endpoints(starttime, endtime, 16)\n",
    "idx = IntervalIndex.from_arrays(eps[::2], eps[1::2])\n",
    "idx"
   ]
  },
  {
   "cell_type": "code",
   "execution_count": 4,
   "metadata": {},
   "outputs": [
    {
     "data": {
      "text/html": [
       "<pre>&lt;xarray.Dataset&gt;\n",
       "Dimensions:          (timestamps_bins: 6, x: 256, y: 256)\n",
       "Coordinates:\n",
       "  * timestamps_bins  (timestamps_bins) object (2019-06-02, 2019-06-15 23:59:59] ... (2019-08-16, 2019-08-29 23:59:59]\n",
       "Dimensions without coordinates: x, y\n",
       "Data variables:\n",
       "    B04              (timestamps_bins, x, y) float64 324.0 329.0 ... 361.5 282.5\n",
       "    B03              (timestamps_bins, x, y) float64 582.2 604.2 ... 541.5 469.5\n",
       "    B02              (timestamps_bins, x, y) float64 367.2 374.2 ... 324.5 289.0\n",
       "    B08              (timestamps_bins, x, y) float64 4.623e+03 ... 2.704e+03\n",
       "    B05              (timestamps_bins, x, y) float64 46.74 3.413e+03 ... 658.4\n",
       "    B06              (timestamps_bins, x, y) float64 3.292e+03 82.56 ... 87.42\n",
       "    B07              (timestamps_bins, x, y) float64 917.3 ... 2.667e+03\n",
       "    B8A              (timestamps_bins, x, y) float64 1.949e+03 ... 3.117e+03\n",
       "    B11              (timestamps_bins, x, y) float64 3.202e+03 ... 1.902e+03\n",
       "    B12              (timestamps_bins, x, y) float64 3.241e+03 ... 2.556e+03</pre>"
      ],
      "text/plain": [
       "<xarray.Dataset>\n",
       "Dimensions:          (timestamps_bins: 6, x: 256, y: 256)\n",
       "Coordinates:\n",
       "  * timestamps_bins  (timestamps_bins) object (2019-06-02, 2019-06-15 23:59:59] ... (2019-08-16, 2019-08-29 23:59:59]\n",
       "Dimensions without coordinates: x, y\n",
       "Data variables:\n",
       "    B04              (timestamps_bins, x, y) float64 324.0 329.0 ... 361.5 282.5\n",
       "    B03              (timestamps_bins, x, y) float64 582.2 604.2 ... 541.5 469.5\n",
       "    B02              (timestamps_bins, x, y) float64 367.2 374.2 ... 324.5 289.0\n",
       "    B08              (timestamps_bins, x, y) float64 4.623e+03 ... 2.704e+03\n",
       "    B05              (timestamps_bins, x, y) float64 46.74 3.413e+03 ... 658.4\n",
       "    B06              (timestamps_bins, x, y) float64 3.292e+03 82.56 ... 87.42\n",
       "    B07              (timestamps_bins, x, y) float64 917.3 ... 2.667e+03\n",
       "    B8A              (timestamps_bins, x, y) float64 1.949e+03 ... 3.117e+03\n",
       "    B11              (timestamps_bins, x, y) float64 3.202e+03 ... 1.902e+03\n",
       "    B12              (timestamps_bins, x, y) float64 3.241e+03 ... 2.556e+03"
      ]
     },
     "execution_count": 4,
     "metadata": {},
     "output_type": "execute_result"
    }
   ],
   "source": [
    "# Calculate values in time intervals\n",
    "avg_cube = cube.groupby_bins('timestamps',bins=idx).mean('timestamps')\n",
    "\n",
    "# Fake data\n",
    "from numpy.random import random_sample\n",
    "for b in ['B05', 'B06', 'B07', 'B8A', 'B11', 'B12']:\n",
    "    avg_cube[b] = avg_cube.B04\n",
    "    avg_cube[b].data = random_sample(avg_cube.B04.shape)*4000\n",
    "\n",
    "avg_cube"
   ]
  },
  {
   "cell_type": "code",
   "execution_count": 5,
   "metadata": {},
   "outputs": [
    {
     "data": {
      "text/html": [
       "<pre>&lt;xarray.Dataset&gt;\n",
       "Dimensions:          (timestamps_bins: 6, x: 256, y: 256)\n",
       "Coordinates:\n",
       "  * timestamps_bins  (timestamps_bins) object (2019-06-02, 2019-06-15 23:59:59] ... (2019-08-16, 2019-08-29 23:59:59]\n",
       "Dimensions without coordinates: x, y\n",
       "Data variables:\n",
       "    B04              (timestamps_bins, x, y) uint16 324 329 325 ... 412 361 282\n",
       "    B03              (timestamps_bins, x, y) uint16 582 604 612 ... 583 541 469\n",
       "    B02              (timestamps_bins, x, y) uint16 367 374 373 ... 359 324 289\n",
       "    B08              (timestamps_bins, x, y) uint16 4623 4802 4878 ... 2838 2704\n",
       "    B05              (timestamps_bins, x, y) uint16 46 3412 595 ... 56 3366 658\n",
       "    B06              (timestamps_bins, x, y) uint16 3292 82 1029 ... 3787 87\n",
       "    B07              (timestamps_bins, x, y) uint16 917 3286 2781 ... 1420 2666\n",
       "    B8A              (timestamps_bins, x, y) uint16 1948 520 252 ... 2980 3116\n",
       "    B11              (timestamps_bins, x, y) uint16 3201 1362 3254 ... 3736 1901\n",
       "    B12              (timestamps_bins, x, y) uint16 3241 3698 1121 ... 669 2556\n",
       "    NDVI             (timestamps_bins, x, y) uint16 61055 61145 ... 57953 59155\n",
       "    GNDVI            (timestamps_bins, x, y) uint16 58026 58032 ... 54866 55670\n",
       "    BNDVI            (timestamps_bins, x, y) uint16 60526 60611 ... 58631 59027\n",
       "    NDSI             (timestamps_bins, x, y) uint16 32465 17588 ... 55410 27872\n",
       "    NDWI             (timestamps_bins, x, y) uint16 7308 7302 ... 10468 9664\n",
       "    CVI              (timestamps_bins, x, y) float32 1.4532778 ... 0.41793346</pre>"
      ],
      "text/plain": [
       "<xarray.Dataset>\n",
       "Dimensions:          (timestamps_bins: 6, x: 256, y: 256)\n",
       "Coordinates:\n",
       "  * timestamps_bins  (timestamps_bins) object (2019-06-02, 2019-06-15 23:59:59] ... (2019-08-16, 2019-08-29 23:59:59]\n",
       "Dimensions without coordinates: x, y\n",
       "Data variables:\n",
       "    B04              (timestamps_bins, x, y) uint16 324 329 325 ... 412 361 282\n",
       "    B03              (timestamps_bins, x, y) uint16 582 604 612 ... 583 541 469\n",
       "    B02              (timestamps_bins, x, y) uint16 367 374 373 ... 359 324 289\n",
       "    B08              (timestamps_bins, x, y) uint16 4623 4802 4878 ... 2838 2704\n",
       "    B05              (timestamps_bins, x, y) uint16 46 3412 595 ... 56 3366 658\n",
       "    B06              (timestamps_bins, x, y) uint16 3292 82 1029 ... 3787 87\n",
       "    B07              (timestamps_bins, x, y) uint16 917 3286 2781 ... 1420 2666\n",
       "    B8A              (timestamps_bins, x, y) uint16 1948 520 252 ... 2980 3116\n",
       "    B11              (timestamps_bins, x, y) uint16 3201 1362 3254 ... 3736 1901\n",
       "    B12              (timestamps_bins, x, y) uint16 3241 3698 1121 ... 669 2556\n",
       "    NDVI             (timestamps_bins, x, y) uint16 61055 61145 ... 57953 59155\n",
       "    GNDVI            (timestamps_bins, x, y) uint16 58026 58032 ... 54866 55670\n",
       "    BNDVI            (timestamps_bins, x, y) uint16 60526 60611 ... 58631 59027\n",
       "    NDSI             (timestamps_bins, x, y) uint16 32465 17588 ... 55410 27872\n",
       "    NDWI             (timestamps_bins, x, y) uint16 7308 7302 ... 10468 9664\n",
       "    CVI              (timestamps_bins, x, y) float32 1.4532778 ... 0.41793346"
      ]
     },
     "execution_count": 5,
     "metadata": {},
     "output_type": "execute_result"
    }
   ],
   "source": [
    "def calculate_index(a,b):\n",
    "    return ((a-b)/(a+b)+1)/2 # stretch [-1,+1] to [0,1]\n",
    "\n",
    "ics = { # index components\n",
    "  \"NDVI\":  [\"B08\", \"B04\"],\n",
    "  \"GNDVI\": [\"B08\", \"B03\"],\n",
    "  \"BNDVI\": [\"B08\", \"B02\"],\n",
    "  \"NDSI\":  [\"B11\", \"B12\"],\n",
    "  \"NDWI\":  [\"B03\", \"B08\"]\n",
    "}\n",
    "\n",
    "for idx in ics:\n",
    "    ic1, ic2 = ics[idx]\n",
    "    if ic1 in avg_cube and ic2 in avg_cube:\n",
    "        avg_cube[idx] = calculate_index(avg_cube[ic1], avg_cube[ic2])*65335 # 2**16\n",
    "\n",
    "# Typing conforming to SH Mass output\n",
    "avg_cube = avg_cube.astype(np.uint16)\n",
    "\n",
    "# CVI calculation\n",
    "if \"B03\" in avg_cube and \"B05\" in avg_cube and \"B08\" in avg_cube:\n",
    "    avg_cube['CVI'] = (avg_cube.B08 * avg_cube.B05 / avg_cube.B03**2).astype(np.float32)\n",
    "\n",
    "avg_cube"
   ]
  }
 ],
 "metadata": {
  "kernelspec": {
   "display_name": "Python 3",
   "language": "python",
   "name": "python3"
  },
  "language_info": {
   "codemirror_mode": {
    "name": "ipython",
    "version": 3
   },
   "file_extension": ".py",
   "mimetype": "text/x-python",
   "name": "python",
   "nbconvert_exporter": "python",
   "pygments_lexer": "ipython3",
   "version": "3.7.6"
  }
 },
 "nbformat": 4,
 "nbformat_minor": 4
}
