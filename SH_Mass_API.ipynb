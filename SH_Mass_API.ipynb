{
 "cells": [
  {
   "cell_type": "code",
   "execution_count": 1,
   "metadata": {},
   "outputs": [],
   "source": [
    "%store -z # remove all variables from variable storage"
   ]
  },
  {
   "cell_type": "code",
   "execution_count": 2,
   "metadata": {},
   "outputs": [],
   "source": [
    "# load credentials from environment variables\n",
    "%load_ext dotenv\n",
    "%dotenv\n",
    "\n",
    "# util\n",
    "import numpy as np\n",
    "import boto3\n",
    "import json\n",
    "\n",
    "# date & time\n",
    "import time\n",
    "from datetime import timezone, date, datetime\n",
    "from dateutil.relativedelta import relativedelta as rdelta\n",
    "from dateutil.rrule import rrule, MONTHLY\n",
    "\n",
    "# Oauth\n",
    "from oauthlib.oauth2 import BackendApplicationClient\n",
    "from requests_oauthlib import OAuth2Session"
   ]
  },
  {
   "cell_type": "markdown",
   "metadata": {},
   "source": [
    "## Get authorization token"
   ]
  },
  {
   "cell_type": "code",
   "execution_count": 4,
   "metadata": {},
   "outputs": [],
   "source": [
    "# Your client credentials\n",
    "client_id = %env SH_CLIENT_ID\n",
    "client_secret = %env SH_CLIENT_SECRET\n",
    "\n",
    "# Create a session\n",
    "client = BackendApplicationClient(client_id=client_id)\n",
    "oauth = OAuth2Session(client=client)\n",
    "\n",
    "token = oauth.fetch_token(token_url='https://services.sentinel-hub.com/oauth/token',\n",
    "                          client_id=client_id, client_secret=client_secret)\n",
    "\n",
    "resp = oauth.get(\"https://services.sentinel-hub.com/oauth/tokeninfo\")"
   ]
  },
  {
   "cell_type": "markdown",
   "metadata": {},
   "source": [
    "## Configure request (evalscript)\n",
    "\n",
    "Enter start and end date, input bands, indices. The resulting files will have two time intervals per month, being split at `day_of_new_interval`."
   ]
  },
  {
   "cell_type": "code",
   "execution_count": 4,
   "metadata": {},
   "outputs": [],
   "source": [
    "startdate = date(2018,7,1) # Y,M,D\n",
    "enddate = date(2018,9,15)  # Y,M,D\n",
    "\n",
    "input_bands = [\"B03\",\n",
    "               \"B04\",\n",
    "               \"B05\",\n",
    "               \"B08\"]\n",
    "indices = ['NDVI',\n",
    "           \"NDWI\",\n",
    "           \"CVI\"]\n",
    "\n",
    "bucket_name = \"eox-masterdatacube\"\n",
    "\n",
    "day_of_new_interval = 16 # leave this unchanged in most of the cases"
   ]
  },
  {
   "cell_type": "markdown",
   "metadata": {},
   "source": [
    "### Calculate parameters"
   ]
  },
  {
   "cell_type": "code",
   "execution_count": 6,
   "metadata": {
    "scrolled": true
   },
   "outputs": [],
   "source": [
    "starttime = datetime(*startdate.timetuple()[:6])\n",
    "endtime = datetime(*enddate.timetuple()[:6])\n",
    "\n",
    "d=day_of_new_interval\n",
    "dates = list(rrule(MONTHLY, dtstart=startdate, until=enddate, bymonthday=[1,d-1,d,31]))\n",
    "dates = [starttime] + dates if dates[0] != starttime else dates\n",
    "dates = dates + [endtime] if dates[-1] != endtime else dates\n",
    "\n",
    "starts = dates[0::2]\n",
    "starts = [int(d.timestamp()) for d in starts] # timestamps for arithmetic\n",
    "ends   = [d+rdelta(hour=23, minute=59, second=59) for d in dates[1::2]]\n",
    "ends   = [int(d.timestamp()) for d in ends]   # timestamps for arithmetic\n",
    "avg_times = list(np.mean(list(zip(starts,ends)), axis=1))\n",
    "avg_times = [datetime.utcfromtimestamp(a) for a in avg_times]\n",
    "avg_times = [dt.isoformat() for dt in avg_times]"
   ]
  },
  {
   "cell_type": "code",
   "execution_count": 7,
   "metadata": {},
   "outputs": [],
   "source": [
    "masks = [\"SCL\", \"dataMask\"] # SCL ... Scene Classification Layer\n",
    "\n",
    "output_bands = input_bands + indices\n",
    "output_array =  ','.join([f\"{{id: '{ob}', bands: {len(avg_times)}, \"+\n",
    "                          f\"sampleType: SampleType.UINT16}}\" for ob in output_bands])\n",
    "int_bands = '{' + ','.join([f'{ib}: []' for ib in input_bands]) + '}'\n",
    "results_object = '{' + ','.join([f'{ob}: []' for ob in output_bands]) + '}'\n",
    "debug_results = '{' + ','.join([f\"{output_bands[i]}: [{i+1}]\" for i in range(len(output_bands))]) + '}'\n",
    "responses = [{\"identifier\": ob,\"format\": {\"type\": \"image/tiff\"}} for ob in output_bands]"
   ]
  },
  {
   "cell_type": "markdown",
   "metadata": {},
   "source": [
    "### Evalscript & Payload"
   ]
  },
  {
   "cell_type": "code",
   "execution_count": 8,
   "metadata": {
    "scrolled": true
   },
   "outputs": [],
   "source": [
    "#double curly brackets render as single curly brackets in f-strings\n",
    "evalscript = f\"\"\"\n",
    "//VERSION=3\n",
    "\n",
    "var debug = []\n",
    "\n",
    "var ic = {{  // index components\n",
    "  'NDVI':  [\"B08\", \"B04\"],\n",
    "  \"GNDVI\": [\"B08\", \"B03\"],\n",
    "  \"BNDVI\": [\"B08\", \"B02\"],\n",
    "  \"NDSI\":  [\"B11\", \"B12\"],\n",
    "  \"NDWI\":  [\"B03\", \"B08\"]\n",
    "}}\n",
    "\n",
    "function setup(ds) {{\n",
    "  return {{\n",
    "    input: [{{\n",
    "      bands: {str(input_bands + masks)}, \n",
    "      units: \"DN\"\n",
    "    }}],\n",
    "    output: [        \n",
    "      {output_array}\n",
    "    ],\n",
    "    mosaicking: Mosaicking.ORBIT       \n",
    "  }}\n",
    "}}\n",
    "\n",
    "function validate (sample) {{\n",
    "  if (sample.dataMask!=1) return false;\n",
    "  \n",
    "  var scl = Math.round(sample.SCL);\n",
    "  \n",
    "  if (scl === 3) {{ // SC_CLOUD_SHADOW\n",
    "    return false;\n",
    "  }} else if (scl === 9) {{ // SC_CLOUD_HIGH_PROBA\n",
    "    return false; \n",
    "  }} else if (scl === 8) {{ // SC_CLOUD_MEDIUM_PROBA\n",
    "    return false;\n",
    "  }} else if (scl === 7) {{ // SC_CLOUD_LOW_PROBA\n",
    "    //return false;\n",
    "  }} else if (scl === 10) {{ // SC_THIN_CIRRUS\n",
    "    return false;\n",
    "  }} else if (scl === 11) {{ // SC_SNOW_ICE\n",
    "    return false;\n",
    "  }} else if (scl === 1) {{ // SC_SATURATED_DEFECTIVE\n",
    "    return false;\n",
    "  }} else if (scl === 2) {{ // SC_DARK_FEATURE_SHADOW\n",
    "    //return false;\n",
    "  }}\n",
    "  return true;\n",
    "}}\n",
    "\n",
    "function calculateIndex(a,b)\n",
    "{{\n",
    "  if ((a+b)==0) return 0;\n",
    "  // stretch [-1,+1] to [0,1]\n",
    "  return ((a-b)/(a+b)+1)/2;\n",
    "}}\n",
    "\n",
    "function interpolatedValue(arr)\n",
    "{{\n",
    "  //here we define the function on how to define the proper value - e.g. linear interpolation; we will use average \n",
    "  if (arr.length==0) return 0;\n",
    "  if (arr.length==1) return arr[0];\n",
    "  var sum = 0;\n",
    "  for (j=0;j<arr.length;j++)\n",
    "  {{sum+=arr[j];}}\n",
    "  return Math.round(sum/arr.length);\n",
    "}}\n",
    "\n",
    "var results = {results_object}\n",
    "\n",
    "// We split each month into two halves. This will make it easier to append months to data cube later\n",
    "var day_of_new_interval = {day_of_new_interval}\n",
    "var endtime = new Date({datetime(*enddate.timetuple()[:3],23,59,59).timestamp()*1000}) // UNIX epoch in ms\n",
    "\n",
    "function evaluatePixel(samples, scenes, inputMetadata, customData, outputMetadata) {{\n",
    "  \n",
    "  //Debug part returning \"something\" if there are no  valid samples (no observations)\n",
    "  if (!samples.length)\n",
    "  return {debug_results}\n",
    "  \n",
    "  var is_in_last_half_of_month = endtime.getUTCDate() >= day_of_new_interval\n",
    "  var i = 0; // interval number\n",
    "  var int_bands = {int_bands}\n",
    "  \n",
    "  for (var j = 0; j < samples.length; j++) {{\n",
    "    \n",
    "    //TODO order should be reversed when we go leastRecent\n",
    "    \n",
    "    // if scene is outside of current half of month, fill result array and change half of month\n",
    "    // algorithm starts with most recent observation\n",
    "    if (( !is_in_last_half_of_month && scenes[j].date.getUTCDate() >= day_of_new_interval) ||\n",
    "    (  is_in_last_half_of_month && scenes[j].date.getUTCDate() <  day_of_new_interval))\n",
    "    {{\n",
    "      fillResultArray(i, int_bands)\n",
    "      \n",
    "      //reset values\n",
    "      for (var int_b in int_bands) {{\n",
    "        int_bands[int_b] = []\n",
    "      }}\n",
    "      \n",
    "      is_in_last_half_of_month = !is_in_last_half_of_month;\n",
    "      i++;\n",
    "    }}\n",
    "    \n",
    "    if (validate(samples[j]))\n",
    "    {{\n",
    "      // push input samples into their respective arrays\n",
    "      for (var int_b in int_bands) {{\n",
    "        int_bands[int_b].push(samples[j][int_b])\n",
    "      }}\n",
    "    }}\n",
    "    \n",
    "  }}\n",
    "  \n",
    "  //execute this for the last interval \n",
    "  fillResultArray(i, int_bands);\n",
    "  \n",
    "  return results\n",
    "}}\n",
    "\n",
    "function fillResultArray(i, int_bands)\n",
    "{{\n",
    "  for (var b in int_bands) {{\n",
    "    if(int_bands[b].length==0) results[b][i] = 0\n",
    "    else results[b][i] = interpolatedValue(int_bands[b])\n",
    "  }}\n",
    "  \n",
    "  for (var ix of {indices}) {{\n",
    "    if(ic.hasOwnProperty(ix)) {{\n",
    "      results[ix][i] = 65535*calculateIndex(\n",
    "        results[ic[ix][0]][i],\n",
    "        results[ic[ix][1]][i]\n",
    "      )\n",
    "    }}\n",
    "    if(ix===\"CVI\"){{\n",
    "      results[ix][i] = 65535*results[\"B08\"][i]*results[\"B05\"][i] / (results[\"B03\"][i]*results[\"B03\"][i])\n",
    "    }}\n",
    "  }}\n",
    "}}\n",
    "\n",
    "function updateOutputMetadata(scenes, inputMetadata, outputMetadata) {{\n",
    "  outputMetadata.userData = {{\n",
    "    \"date_created\": Date(),\n",
    "    \"metadata\": scenes.map(s => {{\n",
    "      s.date = s.date.toString()\n",
    "      return s\n",
    "    }}),\n",
    "    \"time\" : {avg_times},\n",
    "    \"debug\": debug\n",
    "  }}\n",
    "}}\n",
    "\"\"\""
   ]
  },
  {
   "cell_type": "code",
   "execution_count": 9,
   "metadata": {},
   "outputs": [],
   "source": [
    "payload = {\n",
    "  \"processRequest\": {\n",
    "    \"input\": {\n",
    "      \"bounds\": {\n",
    "        \"properties\": {\n",
    "          \"crs\": \"http://www.opengis.net/def/crs/OGC/1.3/CRS84\"\n",
    "        },\n",
    "        \"bbox\": [16.446445736463346, 47.680841561177864, 16.49776618971013, 47.72587417451863]\n",
    "      },\n",
    "      \"data\": [\n",
    "        {\n",
    "          \"location\": \"AWS:eu-central-1\",\n",
    "          \"type\": \"S2L2A\",\n",
    "          \"dataFilter\": {\n",
    "            \"timeRange\": {\n",
    "              \"from\": starttime.isoformat() + 'Z',\n",
    "              \"to\": endtime.isoformat() + 'Z'\n",
    "            },\n",
    "            \"mosaickingOrder\": \"mostRecent\",\n",
    "            \"maxCloudCoverage\": 100,\n",
    "            \"previewMode\": \"DETAIL\"\n",
    "          }\n",
    "        }\n",
    "      ]\n",
    "    },\n",
    "    \"output\": {\n",
    "#       \"width\": 512,\n",
    "#       \"height\": 512,\n",
    "      \"responses\": [*responses#,\n",
    "#         {\n",
    "#           \"identifier\": \"userdata\",\n",
    "#           \"format\": {\n",
    "#             \"type\": \"application/json\"\n",
    "#           }\n",
    "#         }\n",
    "      ]\n",
    "    },\n",
    "    \"evalscript\": evalscript\n",
    "  },\n",
    "  \"tilingGridId\": 0,\n",
    "  \"bucketName\": bucket_name,\n",
    "  \"resolution\": 60.0,\n",
    "  \"description\": \"Test Loipersbach\"\n",
    "}\n",
    "\n",
    "headers = {\n",
    "  #'Accept': 'application/tar'\n",
    "}"
   ]
  },
  {
   "cell_type": "markdown",
   "metadata": {},
   "source": [
    "## Send request"
   ]
  },
  {
   "cell_type": "code",
   "execution_count": 10,
   "metadata": {},
   "outputs": [],
   "source": [
    "def generate_url(request_id=\"\", action=\"\"):\n",
    "    url = 'https://services.sentinel-hub.com/batch/v1/process/'\n",
    "    if request_id:\n",
    "        url += f'{request_id}/'\n",
    "        if action:\n",
    "            url += f'{action}'\n",
    "    return url"
   ]
  },
  {
   "cell_type": "code",
   "execution_count": 11,
   "metadata": {},
   "outputs": [
    {
     "name": "stdout",
     "output_type": "stream",
     "text": [
      "CPU times: user 4.3 ms, sys: 0 ns, total: 4.3 ms\n",
      "Wall time: 1.33 s\n"
     ]
    },
    {
     "data": {
      "text/plain": [
       "(201, 'ae9a808d-84d9-4b6b-ba78-3e7856d3a1b6', 'CREATED', 3.6462630964959843)"
      ]
     },
     "execution_count": 11,
     "metadata": {},
     "output_type": "execute_result"
    }
   ],
   "source": [
    "%%time\n",
    "response = oauth.request(\"POST\", generate_url(), headers=headers, json = payload)\n",
    "request_id = response.json()[\"id\"]\n",
    "response.status_code, response.json()['id'], response.json()['status'], response.json()['valueEstimate']"
   ]
  },
  {
   "cell_type": "code",
   "execution_count": 12,
   "metadata": {},
   "outputs": [
    {
     "data": {
      "text/plain": [
       "<Response [204]>"
      ]
     },
     "execution_count": 12,
     "metadata": {},
     "output_type": "execute_result"
    }
   ],
   "source": [
    "analysis_response = oauth.request(\"POST\", generate_url(request_id,'analyse'))\n",
    "analysis_response"
   ]
  },
  {
   "cell_type": "code",
   "execution_count": 13,
   "metadata": {},
   "outputs": [
    {
     "data": {
      "text/plain": [
       "<Response [204]>"
      ]
     },
     "execution_count": 13,
     "metadata": {},
     "output_type": "execute_result"
    }
   ],
   "source": [
    "oauth.request(\"POST\", generate_url(request_id, 'start'))"
   ]
  },
  {
   "cell_type": "code",
   "execution_count": 14,
   "metadata": {},
   "outputs": [
    {
     "name": "stdout",
     "output_type": "stream",
     "text": [
      "CPU times: user 375 ms, sys: 19 ms, total: 394 ms\n",
      "Wall time: 2min 9s\n"
     ]
    },
    {
     "data": {
      "text/plain": [
       "'DONE'"
      ]
     },
     "execution_count": 13,
     "metadata": {},
     "output_type": "execute_result"
    }
   ],
   "source": [
    "%%time\n",
    "\n",
    "response_status = \"\"\n",
    "while response_status not in ['DONE', 'FAILED']:\n",
    "    get_response = oauth.request(\"GET\", generate_url(request_id))\n",
    "    response_status = get_response.json()['status']\n",
    "    time.sleep(1)\n",
    "\n",
    "response_status"
   ]
  },
  {
   "cell_type": "code",
   "execution_count": 15,
   "metadata": {},
   "outputs": [
    {
     "data": {
      "text/plain": [
       "'DONE'"
      ]
     },
     "execution_count": 15,
     "metadata": {},
     "output_type": "execute_result"
    }
   ],
   "source": [
    "oauth.request(\"GET\", generate_url(request_id)).json()['status']"
   ]
  },
  {
   "cell_type": "code",
   "execution_count": 16,
   "metadata": {},
   "outputs": [
    {
     "data": {
      "text/plain": [
       "(200, 'ae9a808d-84d9-4b6b-ba78-3e7856d3a1b6', 'DONE', 7.281674013077767)"
      ]
     },
     "execution_count": 16,
     "metadata": {},
     "output_type": "execute_result"
    }
   ],
   "source": [
    "get_response.status_code, get_response.json()['id'], get_response.json()['status'], get_response.json()['valueEstimate']"
   ]
  },
  {
   "cell_type": "code",
   "execution_count": 17,
   "metadata": {},
   "outputs": [
    {
     "data": {
      "text/plain": [
       "[(1621, 7.801793585440464)]"
      ]
     },
     "execution_count": 17,
     "metadata": {},
     "output_type": "execute_result"
    }
   ],
   "source": [
    "tiles = oauth.request('GET', generate_url(request_id, 'tiles')).json()['member']\n",
    "[(t['id'], t['cost']) for t in tiles]"
   ]
  },
  {
   "cell_type": "code",
   "execution_count": 18,
   "metadata": {},
   "outputs": [
    {
     "data": {
      "text/plain": [
       "s3.Object(bucket_name='eox-masterdatacube', key='ae9a808d-84d9-4b6b-ba78-3e7856d3a1b6/userdata.json')"
      ]
     },
     "execution_count": 18,
     "metadata": {},
     "output_type": "execute_result"
    }
   ],
   "source": [
    "s3 = boto3.resource('s3')\n",
    "s3.Bucket(bucket_name).put_object(Key=request_id + '/userdata.json', Body=json.dumps({\n",
    "    'bands': output_bands,\n",
    "    'request_id': request_id,\n",
    "    'tiles': tiles,\n",
    "    'time': avg_times    \n",
    "}))"
   ]
  },
  {
   "cell_type": "code",
   "execution_count": 19,
   "metadata": {},
   "outputs": [
    {
     "name": "stdout",
     "output_type": "stream",
     "text": [
      "Stored 'bucket_name' (str)\n",
      "Stored 'request_id' (str)\n",
      "Stored variables and their in-db values:\n",
      "bucket_name             -> 'eox-masterdatacube'\n",
      "request_id              -> 'ae9a808d-84d9-4b6b-ba78-3e7856d3a1b6'\n"
     ]
    }
   ],
   "source": [
    "%store bucket_name\n",
    "%store request_id\n",
    "%store"
   ]
  }
 ],
 "metadata": {
  "kernelspec": {
   "display_name": "Python 3",
   "language": "python",
   "name": "python3"
  },
  "language_info": {
   "codemirror_mode": {
    "name": "ipython",
    "version": 3
   },
   "file_extension": ".py",
   "mimetype": "text/x-python",
   "name": "python",
   "nbconvert_exporter": "python",
   "pygments_lexer": "ipython3",
   "version": "3.7.3"
  }
 },
 "nbformat": 4,
 "nbformat_minor": 4
}
