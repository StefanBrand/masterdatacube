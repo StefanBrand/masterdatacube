{
 "cells": [
  {
   "cell_type": "code",
   "execution_count": 1,
   "metadata": {},
   "outputs": [],
   "source": [
    "%store -z # remove all variables from variable storage"
   ]
  },
  {
   "cell_type": "code",
   "execution_count": 2,
   "metadata": {},
   "outputs": [],
   "source": [
    "%%capture\n",
    "!pip uninstall jupyternotify -y\n",
    "!pip install git+https://github.com/cphyc/jupyter-notify.git\n",
    "%reload_ext jupyternotify"
   ]
  },
  {
   "cell_type": "code",
   "execution_count": 3,
   "metadata": {},
   "outputs": [],
   "source": [
    "# load credentials from environment variables\n",
    "%load_ext dotenv\n",
    "%dotenv\n",
    "\n",
    "# util\n",
    "import numpy as np\n",
    "\n",
    "# date & time\n",
    "from datetime import timezone, date, datetime\n",
    "from dateutil.relativedelta import relativedelta as rdelta\n",
    "from dateutil.rrule import rrule, MONTHLY\n",
    "\n",
    "# output processing and plotting\n",
    "import io\n",
    "import tarfile\n",
    "import rasterio\n",
    "from rasterio.plot import show\n",
    "from matplotlib import pyplot\n",
    "\n",
    "# Oauth\n",
    "from oauthlib.oauth2 import BackendApplicationClient\n",
    "from requests_oauthlib import OAuth2Session"
   ]
  },
  {
   "cell_type": "markdown",
   "metadata": {},
   "source": [
    "## Get authorization token"
   ]
  },
  {
   "cell_type": "code",
   "execution_count": 4,
   "metadata": {},
   "outputs": [],
   "source": [
    "# Your client credentials\n",
    "client_id = %env SH_CLIENT_ID\n",
    "client_secret = %env SH_CLIENT_SECRET\n",
    "\n",
    "# Create a session\n",
    "client = BackendApplicationClient(client_id=client_id)\n",
    "oauth = OAuth2Session(client=client)\n",
    "\n",
    "token = oauth.fetch_token(token_url='https://services.sentinel-hub.com/oauth/token',\n",
    "                          client_id=client_id, client_secret=client_secret)\n",
    "\n",
    "resp = oauth.get(\"https://services.sentinel-hub.com/oauth/tokeninfo\")"
   ]
  },
  {
   "cell_type": "markdown",
   "metadata": {},
   "source": [
    "## Configure request (evalscript)\n",
    "\n",
    "Enter start and end date, input bands, indices. The resulting files will have two time intervals per month, being split at `day_of_new_interval`."
   ]
  },
  {
   "cell_type": "code",
   "execution_count": 5,
   "metadata": {},
   "outputs": [],
   "source": [
    "startdate = date(2018,1,1) # Y,M,D\n",
    "enddate = date(2018,9,15)  # Y,M,D\n",
    "\n",
    "input_bands = [\"B02\",\n",
    "               \"B03\",\n",
    "               \"B04\",\n",
    "               \"B05\",\n",
    "               \"B06\",\n",
    "               \"B07\",\n",
    "               \"B08\",\n",
    "               \"B8A\",\n",
    "               \"B11\",\n",
    "               \"B12\"]\n",
    "indices = ['NDVI',\n",
    "           \"GNDVI\",\n",
    "           \"BNDVI\",\n",
    "           \"NDWI\",\n",
    "           \"CVI\",\n",
    "           \"NDSI\"]\n",
    "\n",
    "bucket_name = \"eox-masterdatacube\"\n",
    "\n",
    "day_of_new_interval = 16 # leave this unchanged in most of the cases"
   ]
  },
  {
   "cell_type": "markdown",
   "metadata": {},
   "source": [
    "### Calculate parameters"
   ]
  },
  {
   "cell_type": "code",
   "execution_count": 6,
   "metadata": {
    "scrolled": true
   },
   "outputs": [],
   "source": [
    "starttime = datetime(*startdate.timetuple()[:6])\n",
    "endtime = datetime(*enddate.timetuple()[:6])\n",
    "\n",
    "d=day_of_new_interval\n",
    "full_month_dates = list(rrule(MONTHLY, dtstart=startdate, until=enddate, bymonthday=[1,d-1,d,31]))\n",
    "all_dates = [starttime] + full_month_dates + [endtime] # bounds of all intervals\n",
    "\n",
    "starts = all_dates[0::2]\n",
    "starts = [int(d.timestamp()) for d in starts] # timestamps for arithmetic\n",
    "ends   = [d+rdelta(hour=23, minute=59, second=59) for d in all_dates[1::2]]\n",
    "ends   = [int(d.timestamp()) for d in ends]   # timestamps for arithmetic\n",
    "avg_times = list(np.mean(list(zip(starts,ends)), axis=1))\n",
    "avg_times = [datetime.utcfromtimestamp(a) for a in avg_times]\n",
    "avg_times = [dt.isoformat() for dt in avg_times]"
   ]
  },
  {
   "cell_type": "code",
   "execution_count": 7,
   "metadata": {},
   "outputs": [],
   "source": [
    "masks = [\"SCL\", \"dataMask\"] # SCL ... Scene Classification Layer\n",
    "\n",
    "output_bands = input_bands + indices\n",
    "output_array =  ','.join([f\"{{id: '{ob}', bands: {len(avg_times)}, \"+\n",
    "                          f\"sampleType: SampleType.UINT16}}\" for ob in output_bands])\n",
    "int_bands = '{' + ','.join([f'{ib}: []' for ib in input_bands]) + '}'\n",
    "results_object = '{' + ','.join([f'{ob}: []' for ob in output_bands]) + '}'\n",
    "debug_results = '{' + ','.join([f\"{output_bands[i]}: [{i+1}]\" for i in range(len(output_bands))]) + '}'\n",
    "responses = [{\"identifier\": ob,\"format\": {\"type\": \"image/tiff\"}} for ob in output_bands]"
   ]
  },
  {
   "cell_type": "markdown",
   "metadata": {},
   "source": [
    "### Evalscript & Payload"
   ]
  },
  {
   "cell_type": "code",
   "execution_count": 8,
   "metadata": {
    "scrolled": true
   },
   "outputs": [],
   "source": [
    "#double curly brackets render as single curly brackets in f-strings\n",
    "evalscript = f\"\"\"\n",
    "//VERSION=3\n",
    "\n",
    "var debug = []\n",
    "\n",
    "var ic = {{  // index components\n",
    "  'NDVI':  [\"B08\", \"B04\"],\n",
    "  \"GNDVI\": [\"B08\", \"B03\"],\n",
    "  \"BNDVI\": [\"B08\", \"B02\"],\n",
    "  \"NDSI\":  [\"B11\", \"B12\"],\n",
    "  \"NDWI\":  [\"B03\", \"B08\"]\n",
    "}}\n",
    "\n",
    "function setup(ds) {{\n",
    "  return {{\n",
    "    input: [{{\n",
    "      bands: {str(input_bands + masks)}, \n",
    "      units: \"DN\"\n",
    "    }}],\n",
    "    output: [        \n",
    "      {output_array}\n",
    "    ],\n",
    "    mosaicking: Mosaicking.ORBIT       \n",
    "  }}\n",
    "}}\n",
    "\n",
    "function validate (sample) {{\n",
    "  if (sample.dataMask!=1) return false;\n",
    "  \n",
    "  var scl = Math.round(sample.SCL);\n",
    "  \n",
    "  if (scl === 3) {{ // SC_CLOUD_SHADOW\n",
    "    return false;\n",
    "  }} else if (scl === 9) {{ // SC_CLOUD_HIGH_PROBA\n",
    "    return false; \n",
    "  }} else if (scl === 8) {{ // SC_CLOUD_MEDIUM_PROBA\n",
    "    return false;\n",
    "  }} else if (scl === 7) {{ // SC_CLOUD_LOW_PROBA\n",
    "    //return false;\n",
    "  }} else if (scl === 10) {{ // SC_THIN_CIRRUS\n",
    "    return false;\n",
    "  }} else if (scl === 11) {{ // SC_SNOW_ICE\n",
    "    return false;\n",
    "  }} else if (scl === 1) {{ // SC_SATURATED_DEFECTIVE\n",
    "    return false;\n",
    "  }} else if (scl === 2) {{ // SC_DARK_FEATURE_SHADOW\n",
    "    //return false;\n",
    "  }}\n",
    "  return true;\n",
    "}}\n",
    "\n",
    "function calculateIndex(a,b)\n",
    "{{\n",
    "  if ((a+b)==0) return 0;\n",
    "  var val = (a-b)/(a+b);\n",
    "  if (val<0) val = 0;\n",
    "  //TODO - we might need to return false instead of 0; depends on the output format - a value needs to be designated as \"null\"\n",
    "  return val;\n",
    "}}\n",
    "\n",
    "function interpolatedValue(arr)\n",
    "{{\n",
    "  //here we define the function on how to define the proper value - e.g. linear interpolation; we will use average \n",
    "  if (arr.length==0) return 0;\n",
    "  if (arr.length==1) return arr[0];\n",
    "  var sum = 0;\n",
    "  for (j=0;j<arr.length;j++)\n",
    "  {{sum+=arr[j];}}\n",
    "  return Math.round(sum/arr.length);\n",
    "}}\n",
    "\n",
    "var results = {results_object}\n",
    "\n",
    "// We split each month into two halves. This will make it easier to append months to data cube later\n",
    "var day_of_new_interval = {day_of_new_interval}\n",
    "var endtime = new Date({endtime.timestamp()*1000}) // UNIX epoch in ms\n",
    "\n",
    "function evaluatePixel(samples, scenes, inputMetadata, customData, outputMetadata) {{\n",
    "  \n",
    "  //Debug part returning \"something\" if there are no  valid samples (no observations)\n",
    "  if (!samples.length)\n",
    "  return {debug_results}\n",
    "  \n",
    "  var is_in_last_half_of_month = endtime.getDate() >= day_of_new_interval\n",
    "  var i = 0; // interval number\n",
    "  var int_bands = {int_bands}\n",
    "  \n",
    "  for (var j = 0; j < samples.length; j++) {{\n",
    "    \n",
    "    //TODO order should be reversed when we go leastRecent\n",
    "    \n",
    "    // if scene is outside of current half of month, fill result array and change half of month\n",
    "    // algorithm starts with least recent observation\n",
    "    if (( !is_in_last_half_of_month && scenes[j].date.getDate() >= day_of_new_interval) ||\n",
    "    (  is_in_last_half_of_month && scenes[j].date.getDate() <  day_of_new_interval))\n",
    "    {{\n",
    "      fillResultArray(i, int_bands)\n",
    "      \n",
    "      //reset values\n",
    "      for (var int_b in int_bands) {{\n",
    "        int_bands[int_b] = []\n",
    "      }}\n",
    "      \n",
    "      is_in_last_half_of_month = !is_in_last_half_of_month;\n",
    "      i++;\n",
    "    }}\n",
    "    \n",
    "    if (validate(samples[j]))\n",
    "    {{\n",
    "      // push input samples into their respective arrays\n",
    "      for (var int_b in int_bands) {{\n",
    "        int_bands[int_b].push(samples[j][int_b])\n",
    "      }}\n",
    "    }}\n",
    "    \n",
    "  }}\n",
    "  \n",
    "  //execute this for the last interval \n",
    "  fillResultArray(i, int_bands);\n",
    "  \n",
    "  return results\n",
    "}}\n",
    "\n",
    "function fillResultArray(i, int_bands)\n",
    "{{\n",
    "  for (var b in int_bands) {{\n",
    "    if(int_bands[b].length==0) results[b][i] = 0\n",
    "    else results[b][i] = interpolatedValue(int_bands[b])\n",
    "  }}\n",
    "  \n",
    "  for (var ix of {indices}) {{\n",
    "    if(ic.hasOwnProperty(ix)) {{\n",
    "      results[ix][i] = 65535*calculateIndex(\n",
    "        results[ic[ix][0]][i],\n",
    "        results[ic[ix][1]][i]\n",
    "      )\n",
    "    }}\n",
    "    if(ix===\"CVI\"){{\n",
    "      results[ix][i] = 65535*results[\"B08\"][i]*results[\"B05\"][i] / (results[\"B03\"][i]*results[\"B03\"][i])\n",
    "    }}\n",
    "  }}\n",
    "}}\n",
    "\n",
    "function updateOutputMetadata(scenes, inputMetadata, outputMetadata) {{\n",
    "  outputMetadata.userData = {{\n",
    "    \"date_created\": Date(),\n",
    "    \"metadata\": scenes.map(s => {{\n",
    "      s.date = s.date.toString()\n",
    "      return s\n",
    "    }}),\n",
    "    \"time\" : {avg_times},\n",
    "    \"debug\": debug\n",
    "  }}\n",
    "}}\n",
    "\"\"\""
   ]
  },
  {
   "cell_type": "code",
   "execution_count": 9,
   "metadata": {},
   "outputs": [],
   "source": [
    "payload = {\n",
    "  \"processRequest\": {\n",
    "    \"input\": {\n",
    "      \"bounds\": {\n",
    "        \"properties\": {\n",
    "          \"crs\": \"http://www.opengis.net/def/crs/OGC/1.3/CRS84\"\n",
    "        },\n",
    "        \"bbox\": [16.446445736463346, 47.680841561177864, 16.49776618971013, 47.72587417451863]\n",
    "      },\n",
    "      \"data\": [\n",
    "        {\n",
    "          \"location\": \"AWS:eu-central-1\",\n",
    "          \"type\": \"S2L2A\",\n",
    "          \"dataFilter\": {\n",
    "            \"timeRange\": {\n",
    "              \"from\": starttime.isoformat() + 'Z',\n",
    "              \"to\": endtime.isoformat() + 'Z'\n",
    "            },\n",
    "            \"mosaickingOrder\": \"mostRecent\",\n",
    "            \"maxCloudCoverage\": 100,\n",
    "            \"previewMode\": \"DETAIL\"\n",
    "          }\n",
    "        }\n",
    "      ]\n",
    "    },\n",
    "    \"output\": {\n",
    "#       \"width\": 512,\n",
    "#       \"height\": 512,\n",
    "      \"responses\": [*responses#,\n",
    "#         {\n",
    "#           \"identifier\": \"userdata\",\n",
    "#           \"format\": {\n",
    "#             \"type\": \"application/json\"\n",
    "#           }\n",
    "#         }\n",
    "      ]\n",
    "    },\n",
    "    \"evalscript\": evalscript\n",
    "  },\n",
    "  \"tilingGridId\": 0,\n",
    "  \"bucketName\": bucket_name,\n",
    "  \"resolution\": 60.0,\n",
    "  \"description\": \"Test Loipersbach\"\n",
    "}\n",
    "\n",
    "headers = {\n",
    "  #'Accept': 'application/tar'\n",
    "}"
   ]
  },
  {
   "cell_type": "code",
   "execution_count": 10,
   "metadata": {},
   "outputs": [
    {
     "data": {
      "text/plain": [
       "{}"
      ]
     },
     "execution_count": 10,
     "metadata": {},
     "output_type": "execute_result"
    }
   ],
   "source": [
    "headers"
   ]
  },
  {
   "cell_type": "markdown",
   "metadata": {},
   "source": [
    "## Send request"
   ]
  },
  {
   "cell_type": "code",
   "execution_count": 11,
   "metadata": {},
   "outputs": [],
   "source": [
    "def generate_url(request_id=\"\", action=\"\"):\n",
    "    url = 'https://services.sentinel-hub.com/batch/v1/process/'\n",
    "    if request_id:\n",
    "        url += f'{request_id}/'\n",
    "        if action:\n",
    "            url += f'{action}'\n",
    "    return url"
   ]
  },
  {
   "cell_type": "code",
   "execution_count": 12,
   "metadata": {},
   "outputs": [
    {
     "name": "stdout",
     "output_type": "stream",
     "text": [
      "CPU times: user 810 µs, sys: 3.34 ms, total: 4.15 ms\n",
      "Wall time: 2.45 s\n"
     ]
    },
    {
     "data": {
      "text/plain": [
       "{'id': '816826d9-605e-4a95-a38c-84d22152e667',\n",
       " 'processRequest': {'input': {'bounds': {'bbox': [16.446445736463346,\n",
       "     47.680841561177864,\n",
       "     16.49776618971013,\n",
       "     47.72587417451863],\n",
       "    'geometry': None,\n",
       "    'properties': {'crs': 'http://www.opengis.net/def/crs/OGC/1.3/CRS84'}},\n",
       "   'data': [{'location': 'AWS:eu-central-1',\n",
       "     'dataFilter': {'timeRange': {'from': '2018-01-01T00:00:00Z',\n",
       "       'to': '2018-09-15T00:00:00Z'},\n",
       "      'mosaickingOrder': 'mostRecent',\n",
       "      'maxCloudCoverage': 100.0},\n",
       "     'processing': None,\n",
       "     'tileList': None,\n",
       "     'id': None,\n",
       "     'type': 'S2L2A'}]},\n",
       "  'output': {'width': None,\n",
       "   'height': None,\n",
       "   'resx': None,\n",
       "   'resy': None,\n",
       "   'responses': [{'identifier': 'B02', 'format': {'type': 'image/tiff'}},\n",
       "    {'identifier': 'B03', 'format': {'type': 'image/tiff'}},\n",
       "    {'identifier': 'B04', 'format': {'type': 'image/tiff'}},\n",
       "    {'identifier': 'B05', 'format': {'type': 'image/tiff'}},\n",
       "    {'identifier': 'B06', 'format': {'type': 'image/tiff'}},\n",
       "    {'identifier': 'B07', 'format': {'type': 'image/tiff'}},\n",
       "    {'identifier': 'B08', 'format': {'type': 'image/tiff'}},\n",
       "    {'identifier': 'B8A', 'format': {'type': 'image/tiff'}},\n",
       "    {'identifier': 'B11', 'format': {'type': 'image/tiff'}},\n",
       "    {'identifier': 'B12', 'format': {'type': 'image/tiff'}},\n",
       "    {'identifier': 'NDVI', 'format': {'type': 'image/tiff'}},\n",
       "    {'identifier': 'GNDVI', 'format': {'type': 'image/tiff'}},\n",
       "    {'identifier': 'BNDVI', 'format': {'type': 'image/tiff'}},\n",
       "    {'identifier': 'NDWI', 'format': {'type': 'image/tiff'}},\n",
       "    {'identifier': 'CVI', 'format': {'type': 'image/tiff'}},\n",
       "    {'identifier': 'NDSI', 'format': {'type': 'image/tiff'}}]},\n",
       "  'dataProduct': None,\n",
       "  'evalscript': '\\n//VERSION=3\\n\\nvar debug = []\\n\\nvar ic = {  // index components\\n  \\'NDVI\\':  [\"B08\", \"B04\"],\\n  \"GNDVI\": [\"B08\", \"B03\"],\\n  \"BNDVI\": [\"B08\", \"B02\"],\\n  \"NDSI\":  [\"B11\", \"B12\"],\\n  \"NDWI\":  [\"B03\", \"B08\"]\\n}\\n\\nfunction setup(ds) {\\n  return {\\n    input: [{\\n      bands: [\\'B02\\', \\'B03\\', \\'B04\\', \\'B05\\', \\'B06\\', \\'B07\\', \\'B08\\', \\'B8A\\', \\'B11\\', \\'B12\\', \\'SCL\\', \\'dataMask\\'], \\n      units: \"DN\"\\n    }],\\n    output: [        \\n      {id: \\'B02\\', bands: 16, sampleType: SampleType.UINT16},{id: \\'B03\\', bands: 16, sampleType: SampleType.UINT16},{id: \\'B04\\', bands: 16, sampleType: SampleType.UINT16},{id: \\'B05\\', bands: 16, sampleType: SampleType.UINT16},{id: \\'B06\\', bands: 16, sampleType: SampleType.UINT16},{id: \\'B07\\', bands: 16, sampleType: SampleType.UINT16},{id: \\'B08\\', bands: 16, sampleType: SampleType.UINT16},{id: \\'B8A\\', bands: 16, sampleType: SampleType.UINT16},{id: \\'B11\\', bands: 16, sampleType: SampleType.UINT16},{id: \\'B12\\', bands: 16, sampleType: SampleType.UINT16},{id: \\'NDVI\\', bands: 16, sampleType: SampleType.UINT16},{id: \\'GNDVI\\', bands: 16, sampleType: SampleType.UINT16},{id: \\'BNDVI\\', bands: 16, sampleType: SampleType.UINT16},{id: \\'NDWI\\', bands: 16, sampleType: SampleType.UINT16},{id: \\'CVI\\', bands: 16, sampleType: SampleType.UINT16},{id: \\'NDSI\\', bands: 16, sampleType: SampleType.UINT16}\\n    ],\\n    mosaicking: Mosaicking.ORBIT       \\n  }\\n}\\n\\nfunction validate (sample) {\\n  if (sample.dataMask!=1) return false;\\n  \\n  var scl = Math.round(sample.SCL);\\n  \\n  if (scl === 3) { // SC_CLOUD_SHADOW\\n    return false;\\n  } else if (scl === 9) { // SC_CLOUD_HIGH_PROBA\\n    return false; \\n  } else if (scl === 8) { // SC_CLOUD_MEDIUM_PROBA\\n    return false;\\n  } else if (scl === 7) { // SC_CLOUD_LOW_PROBA\\n    //return false;\\n  } else if (scl === 10) { // SC_THIN_CIRRUS\\n    return false;\\n  } else if (scl === 11) { // SC_SNOW_ICE\\n    return false;\\n  } else if (scl === 1) { // SC_SATURATED_DEFECTIVE\\n    return false;\\n  } else if (scl === 2) { // SC_DARK_FEATURE_SHADOW\\n    //return false;\\n  }\\n  return true;\\n}\\n\\nfunction calculateIndex(a,b)\\n{\\n  if ((a+b)==0) return 0;\\n  var val = (a-b)/(a+b);\\n  if (val<0) val = 0;\\n  //TODO - we might need to return false instead of 0; depends on the output format - a value needs to be designated as \"null\"\\n  return val;\\n}\\n\\nfunction interpolatedValue(arr)\\n{\\n  //here we define the function on how to define the proper value - e.g. linear interpolation; we will use average \\n  if (arr.length==0) return 0;\\n  if (arr.length==1) return arr[0];\\n  var sum = 0;\\n  for (j=0;j<arr.length;j++)\\n  {sum+=arr[j];}\\n  return Math.round(sum/arr.length);\\n}\\n\\nvar results = {B02: [],B03: [],B04: [],B05: [],B06: [],B07: [],B08: [],B8A: [],B11: [],B12: [],NDVI: [],GNDVI: [],BNDVI: [],NDWI: [],CVI: [],NDSI: []}\\n\\n// We split each month into two halves. This will make it easier to append months to data cube later\\nvar day_of_new_interval = 16\\nvar endtime = new Date(1536969600000.0) // UNIX epoch in ms\\n\\nfunction evaluatePixel(samples, scenes, inputMetadata, customData, outputMetadata) {\\n  \\n  //Debug part returning \"something\" if there are no  valid samples (no observations)\\n  if (!samples.length)\\n  return {B02: [1],B03: [2],B04: [3],B05: [4],B06: [5],B07: [6],B08: [7],B8A: [8],B11: [9],B12: [10],NDVI: [11],GNDVI: [12],BNDVI: [13],NDWI: [14],CVI: [15],NDSI: [16]}\\n  \\n  var is_in_last_half_of_month = endtime.getDate() >= day_of_new_interval\\n  var i = 0; // interval number\\n  var int_bands = {B02: [],B03: [],B04: [],B05: [],B06: [],B07: [],B08: [],B8A: [],B11: [],B12: []}\\n  \\n  for (var j = 0; j < samples.length; j++) {\\n    \\n    //TODO order should be reversed when we go leastRecent\\n    \\n    // if scene is outside of current half of month, fill result array and change half of month\\n    // algorithm starts with least recent observation\\n    if (( !is_in_last_half_of_month && scenes[j].date.getDate() >= day_of_new_interval) ||\\n    (  is_in_last_half_of_month && scenes[j].date.getDate() <  day_of_new_interval))\\n    {\\n      fillResultArray(i, int_bands)\\n      \\n      //reset values\\n      for (var int_b in int_bands) {\\n        int_bands[int_b] = []\\n      }\\n      \\n      is_in_last_half_of_month = !is_in_last_half_of_month;\\n      i++;\\n    }\\n    \\n    if (validate(samples[j]))\\n    {\\n      // push input samples into their respective arrays\\n      for (var int_b in int_bands) {\\n        int_bands[int_b].push(samples[j][int_b])\\n      }\\n    }\\n    \\n  }\\n  \\n  //execute this for the last interval \\n  fillResultArray(i, int_bands);\\n  \\n  return results\\n}\\n\\nfunction fillResultArray(i, int_bands)\\n{\\n  for (var b in int_bands) {\\n    if(int_bands[b].length==0) results[b][i] = 0\\n    else results[b][i] = interpolatedValue(int_bands[b])\\n  }\\n  \\n  for (var ix of [\\'NDVI\\', \\'GNDVI\\', \\'BNDVI\\', \\'NDWI\\', \\'CVI\\', \\'NDSI\\']) {\\n    if(ic.hasOwnProperty(ix)) {\\n      results[ix][i] = 65535*calculateIndex(\\n        results[ic[ix][0]][i],\\n        results[ic[ix][1]][i]\\n      )\\n    }\\n    if(ix===\"CVI\"){\\n      results[ix][i] = 65535*results[\"B08\"][i]*results[\"B05\"][i] / (results[\"B03\"][i]*results[\"B03\"][i])\\n    }\\n  }\\n}\\n\\nfunction updateOutputMetadata(scenes, inputMetadata, outputMetadata) {\\n  outputMetadata.userData = {\\n    \"date_created\": Date(),\\n    \"metadata\": scenes.map(s => {\\n      s.date = s.date.toString()\\n      return s\\n    }),\\n    \"time\" : [\\'2018-01-01T11:59:59.500000\\', \\'2018-01-15T23:59:59.500000\\', \\'2018-01-31T23:59:59.500000\\', \\'2018-02-15T23:59:59.500000\\', \\'2018-03-08T11:59:59.500000\\', \\'2018-03-23T23:59:59.500000\\', \\'2018-04-08T11:59:59.500000\\', \\'2018-04-23T23:59:59.500000\\', \\'2018-05-15T23:59:59.500000\\', \\'2018-05-31T23:59:59.500000\\', \\'2018-06-15T23:59:59.500000\\', \\'2018-07-08T11:59:59.500000\\', \\'2018-07-23T23:59:59.500000\\', \\'2018-08-08T11:59:59.500000\\', \\'2018-08-23T23:59:59.500000\\', \\'2018-09-08T11:59:59.500000\\'],\\n    \"debug\": debug\\n  }\\n}\\n'},\n",
       " 'tilingGridId': 0,\n",
       " 'userId': 'cea7e9da-2035-45b1-94c8-361b1c6c2ea2',\n",
       " 'status': 'CREATED',\n",
       " 'userAction': 'NONE',\n",
       " 'bucketName': 'eox-masterdatacube',\n",
       " 'resolution': 60.0,\n",
       " 'description': 'Test Loipersbach',\n",
       " 'created': '2020-03-26T15:42:04.512Z',\n",
       " 'valueEstimate': 66.93497255710486,\n",
       " 'tileCount': None,\n",
       " 'tileWidthPx': 334,\n",
       " 'tileHeightPx': 334}"
      ]
     },
     "execution_count": 12,
     "metadata": {},
     "output_type": "execute_result"
    }
   ],
   "source": [
    "%%time\n",
    "response = oauth.request(\"POST\", generate_url(), headers=headers, json = payload)\n",
    "request_id = response.json()[\"id\"]\n",
    "response.json()"
   ]
  },
  {
   "cell_type": "code",
   "execution_count": 13,
   "metadata": {},
   "outputs": [
    {
     "data": {
      "text/plain": [
       "201"
      ]
     },
     "execution_count": 13,
     "metadata": {},
     "output_type": "execute_result"
    }
   ],
   "source": [
    "response.status_code"
   ]
  },
  {
   "cell_type": "code",
   "execution_count": 14,
   "metadata": {},
   "outputs": [
    {
     "data": {
      "text/plain": [
       "{'id': '816826d9-605e-4a95-a38c-84d22152e667',\n",
       " 'processRequest': {'input': {'bounds': {'bbox': [16.446445736463346,\n",
       "     47.680841561177864,\n",
       "     16.49776618971013,\n",
       "     47.72587417451863],\n",
       "    'geometry': None,\n",
       "    'properties': {'crs': 'http://www.opengis.net/def/crs/OGC/1.3/CRS84'}},\n",
       "   'data': [{'location': 'AWS:eu-central-1',\n",
       "     'dataFilter': {'timeRange': {'from': '2018-01-01T00:00:00Z',\n",
       "       'to': '2018-09-15T00:00:00Z'},\n",
       "      'mosaickingOrder': 'mostRecent',\n",
       "      'maxCloudCoverage': 100.0},\n",
       "     'processing': None,\n",
       "     'tileList': None,\n",
       "     'id': None,\n",
       "     'type': 'S2L2A'}]},\n",
       "  'output': {'width': None,\n",
       "   'height': None,\n",
       "   'resx': None,\n",
       "   'resy': None,\n",
       "   'responses': [{'identifier': 'B02', 'format': {'type': 'image/tiff'}},\n",
       "    {'identifier': 'B03', 'format': {'type': 'image/tiff'}},\n",
       "    {'identifier': 'B04', 'format': {'type': 'image/tiff'}},\n",
       "    {'identifier': 'B05', 'format': {'type': 'image/tiff'}},\n",
       "    {'identifier': 'B06', 'format': {'type': 'image/tiff'}},\n",
       "    {'identifier': 'B07', 'format': {'type': 'image/tiff'}},\n",
       "    {'identifier': 'B08', 'format': {'type': 'image/tiff'}},\n",
       "    {'identifier': 'B8A', 'format': {'type': 'image/tiff'}},\n",
       "    {'identifier': 'B11', 'format': {'type': 'image/tiff'}},\n",
       "    {'identifier': 'B12', 'format': {'type': 'image/tiff'}},\n",
       "    {'identifier': 'NDVI', 'format': {'type': 'image/tiff'}},\n",
       "    {'identifier': 'GNDVI', 'format': {'type': 'image/tiff'}},\n",
       "    {'identifier': 'BNDVI', 'format': {'type': 'image/tiff'}},\n",
       "    {'identifier': 'NDWI', 'format': {'type': 'image/tiff'}},\n",
       "    {'identifier': 'CVI', 'format': {'type': 'image/tiff'}},\n",
       "    {'identifier': 'NDSI', 'format': {'type': 'image/tiff'}}]},\n",
       "  'dataProduct': None,\n",
       "  'evalscript': '\\n//VERSION=3\\n\\nvar debug = []\\n\\nvar ic = {  // index components\\n  \\'NDVI\\':  [\"B08\", \"B04\"],\\n  \"GNDVI\": [\"B08\", \"B03\"],\\n  \"BNDVI\": [\"B08\", \"B02\"],\\n  \"NDSI\":  [\"B11\", \"B12\"],\\n  \"NDWI\":  [\"B03\", \"B08\"]\\n}\\n\\nfunction setup(ds) {\\n  return {\\n    input: [{\\n      bands: [\\'B02\\', \\'B03\\', \\'B04\\', \\'B05\\', \\'B06\\', \\'B07\\', \\'B08\\', \\'B8A\\', \\'B11\\', \\'B12\\', \\'SCL\\', \\'dataMask\\'], \\n      units: \"DN\"\\n    }],\\n    output: [        \\n      {id: \\'B02\\', bands: 16, sampleType: SampleType.UINT16},{id: \\'B03\\', bands: 16, sampleType: SampleType.UINT16},{id: \\'B04\\', bands: 16, sampleType: SampleType.UINT16},{id: \\'B05\\', bands: 16, sampleType: SampleType.UINT16},{id: \\'B06\\', bands: 16, sampleType: SampleType.UINT16},{id: \\'B07\\', bands: 16, sampleType: SampleType.UINT16},{id: \\'B08\\', bands: 16, sampleType: SampleType.UINT16},{id: \\'B8A\\', bands: 16, sampleType: SampleType.UINT16},{id: \\'B11\\', bands: 16, sampleType: SampleType.UINT16},{id: \\'B12\\', bands: 16, sampleType: SampleType.UINT16},{id: \\'NDVI\\', bands: 16, sampleType: SampleType.UINT16},{id: \\'GNDVI\\', bands: 16, sampleType: SampleType.UINT16},{id: \\'BNDVI\\', bands: 16, sampleType: SampleType.UINT16},{id: \\'NDWI\\', bands: 16, sampleType: SampleType.UINT16},{id: \\'CVI\\', bands: 16, sampleType: SampleType.UINT16},{id: \\'NDSI\\', bands: 16, sampleType: SampleType.UINT16}\\n    ],\\n    mosaicking: Mosaicking.ORBIT       \\n  }\\n}\\n\\nfunction validate (sample) {\\n  if (sample.dataMask!=1) return false;\\n  \\n  var scl = Math.round(sample.SCL);\\n  \\n  if (scl === 3) { // SC_CLOUD_SHADOW\\n    return false;\\n  } else if (scl === 9) { // SC_CLOUD_HIGH_PROBA\\n    return false; \\n  } else if (scl === 8) { // SC_CLOUD_MEDIUM_PROBA\\n    return false;\\n  } else if (scl === 7) { // SC_CLOUD_LOW_PROBA\\n    //return false;\\n  } else if (scl === 10) { // SC_THIN_CIRRUS\\n    return false;\\n  } else if (scl === 11) { // SC_SNOW_ICE\\n    return false;\\n  } else if (scl === 1) { // SC_SATURATED_DEFECTIVE\\n    return false;\\n  } else if (scl === 2) { // SC_DARK_FEATURE_SHADOW\\n    //return false;\\n  }\\n  return true;\\n}\\n\\nfunction calculateIndex(a,b)\\n{\\n  if ((a+b)==0) return 0;\\n  var val = (a-b)/(a+b);\\n  if (val<0) val = 0;\\n  //TODO - we might need to return false instead of 0; depends on the output format - a value needs to be designated as \"null\"\\n  return val;\\n}\\n\\nfunction interpolatedValue(arr)\\n{\\n  //here we define the function on how to define the proper value - e.g. linear interpolation; we will use average \\n  if (arr.length==0) return 0;\\n  if (arr.length==1) return arr[0];\\n  var sum = 0;\\n  for (j=0;j<arr.length;j++)\\n  {sum+=arr[j];}\\n  return Math.round(sum/arr.length);\\n}\\n\\nvar results = {B02: [],B03: [],B04: [],B05: [],B06: [],B07: [],B08: [],B8A: [],B11: [],B12: [],NDVI: [],GNDVI: [],BNDVI: [],NDWI: [],CVI: [],NDSI: []}\\n\\n// We split each month into two halves. This will make it easier to append months to data cube later\\nvar day_of_new_interval = 16\\nvar endtime = new Date(1536969600000.0) // UNIX epoch in ms\\n\\nfunction evaluatePixel(samples, scenes, inputMetadata, customData, outputMetadata) {\\n  \\n  //Debug part returning \"something\" if there are no  valid samples (no observations)\\n  if (!samples.length)\\n  return {B02: [1],B03: [2],B04: [3],B05: [4],B06: [5],B07: [6],B08: [7],B8A: [8],B11: [9],B12: [10],NDVI: [11],GNDVI: [12],BNDVI: [13],NDWI: [14],CVI: [15],NDSI: [16]}\\n  \\n  var is_in_last_half_of_month = endtime.getDate() >= day_of_new_interval\\n  var i = 0; // interval number\\n  var int_bands = {B02: [],B03: [],B04: [],B05: [],B06: [],B07: [],B08: [],B8A: [],B11: [],B12: []}\\n  \\n  for (var j = 0; j < samples.length; j++) {\\n    \\n    //TODO order should be reversed when we go leastRecent\\n    \\n    // if scene is outside of current half of month, fill result array and change half of month\\n    // algorithm starts with least recent observation\\n    if (( !is_in_last_half_of_month && scenes[j].date.getDate() >= day_of_new_interval) ||\\n    (  is_in_last_half_of_month && scenes[j].date.getDate() <  day_of_new_interval))\\n    {\\n      fillResultArray(i, int_bands)\\n      \\n      //reset values\\n      for (var int_b in int_bands) {\\n        int_bands[int_b] = []\\n      }\\n      \\n      is_in_last_half_of_month = !is_in_last_half_of_month;\\n      i++;\\n    }\\n    \\n    if (validate(samples[j]))\\n    {\\n      // push input samples into their respective arrays\\n      for (var int_b in int_bands) {\\n        int_bands[int_b].push(samples[j][int_b])\\n      }\\n    }\\n    \\n  }\\n  \\n  //execute this for the last interval \\n  fillResultArray(i, int_bands);\\n  \\n  return results\\n}\\n\\nfunction fillResultArray(i, int_bands)\\n{\\n  for (var b in int_bands) {\\n    if(int_bands[b].length==0) results[b][i] = 0\\n    else results[b][i] = interpolatedValue(int_bands[b])\\n  }\\n  \\n  for (var ix of [\\'NDVI\\', \\'GNDVI\\', \\'BNDVI\\', \\'NDWI\\', \\'CVI\\', \\'NDSI\\']) {\\n    if(ic.hasOwnProperty(ix)) {\\n      results[ix][i] = 65535*calculateIndex(\\n        results[ic[ix][0]][i],\\n        results[ic[ix][1]][i]\\n      )\\n    }\\n    if(ix===\"CVI\"){\\n      results[ix][i] = 65535*results[\"B08\"][i]*results[\"B05\"][i] / (results[\"B03\"][i]*results[\"B03\"][i])\\n    }\\n  }\\n}\\n\\nfunction updateOutputMetadata(scenes, inputMetadata, outputMetadata) {\\n  outputMetadata.userData = {\\n    \"date_created\": Date(),\\n    \"metadata\": scenes.map(s => {\\n      s.date = s.date.toString()\\n      return s\\n    }),\\n    \"time\" : [\\'2018-01-01T11:59:59.500000\\', \\'2018-01-15T23:59:59.500000\\', \\'2018-01-31T23:59:59.500000\\', \\'2018-02-15T23:59:59.500000\\', \\'2018-03-08T11:59:59.500000\\', \\'2018-03-23T23:59:59.500000\\', \\'2018-04-08T11:59:59.500000\\', \\'2018-04-23T23:59:59.500000\\', \\'2018-05-15T23:59:59.500000\\', \\'2018-05-31T23:59:59.500000\\', \\'2018-06-15T23:59:59.500000\\', \\'2018-07-08T11:59:59.500000\\', \\'2018-07-23T23:59:59.500000\\', \\'2018-08-08T11:59:59.500000\\', \\'2018-08-23T23:59:59.500000\\', \\'2018-09-08T11:59:59.500000\\'],\\n    \"debug\": debug\\n  }\\n}\\n'},\n",
       " 'tilingGridId': 0,\n",
       " 'userId': 'cea7e9da-2035-45b1-94c8-361b1c6c2ea2',\n",
       " 'status': 'CREATED',\n",
       " 'userAction': 'NONE',\n",
       " 'bucketName': 'eox-masterdatacube',\n",
       " 'resolution': 60.0,\n",
       " 'description': 'Test Loipersbach',\n",
       " 'created': '2020-03-26T15:42:04.512Z',\n",
       " 'valueEstimate': 66.93497255710486,\n",
       " 'tileCount': None,\n",
       " 'tileWidthPx': 334,\n",
       " 'tileHeightPx': 334}"
      ]
     },
     "execution_count": 14,
     "metadata": {},
     "output_type": "execute_result"
    }
   ],
   "source": [
    "response.json()"
   ]
  },
  {
   "cell_type": "code",
   "execution_count": 15,
   "metadata": {},
   "outputs": [
    {
     "data": {
      "text/plain": [
       "<Response [204]>"
      ]
     },
     "execution_count": 15,
     "metadata": {},
     "output_type": "execute_result"
    }
   ],
   "source": [
    "analysis_response = oauth.request(\"POST\", generate_url(request_id,'analyse'))\n",
    "analysis_response"
   ]
  },
  {
   "cell_type": "code",
   "execution_count": 16,
   "metadata": {},
   "outputs": [
    {
     "data": {
      "text/plain": [
       "<Response [204]>"
      ]
     },
     "execution_count": 16,
     "metadata": {},
     "output_type": "execute_result"
    }
   ],
   "source": [
    "oauth.request(\"POST\", generate_url(request_id, 'start'))"
   ]
  },
  {
   "cell_type": "code",
   "execution_count": 17,
   "metadata": {},
   "outputs": [
    {
     "name": "stdout",
     "output_type": "stream",
     "text": [
      "CPU times: user 878 ms, sys: 32.7 ms, total: 911 ms\n",
      "Wall time: 5min 33s\n"
     ]
    },
    {
     "data": {
      "text/plain": [
       "{'id': '816826d9-605e-4a95-a38c-84d22152e667',\n",
       " 'processRequest': {'input': {'bounds': {'bbox': [16.446445736463346,\n",
       "     47.680841561177864,\n",
       "     16.49776618971013,\n",
       "     47.72587417451863],\n",
       "    'geometry': None,\n",
       "    'properties': {'crs': 'http://www.opengis.net/def/crs/OGC/1.3/CRS84'}},\n",
       "   'data': [{'location': 'AWS:eu-central-1',\n",
       "     'dataFilter': {'timeRange': {'from': '2018-01-01T00:00:00Z',\n",
       "       'to': '2018-09-15T00:00:00Z'},\n",
       "      'mosaickingOrder': 'mostRecent',\n",
       "      'maxCloudCoverage': 100.0},\n",
       "     'processing': None,\n",
       "     'tileList': None,\n",
       "     'id': None,\n",
       "     'type': 'S2L2A'}]},\n",
       "  'output': {'width': None,\n",
       "   'height': None,\n",
       "   'resx': None,\n",
       "   'resy': None,\n",
       "   'responses': [{'identifier': 'B02', 'format': {'type': 'image/tiff'}},\n",
       "    {'identifier': 'B03', 'format': {'type': 'image/tiff'}},\n",
       "    {'identifier': 'B04', 'format': {'type': 'image/tiff'}},\n",
       "    {'identifier': 'B05', 'format': {'type': 'image/tiff'}},\n",
       "    {'identifier': 'B06', 'format': {'type': 'image/tiff'}},\n",
       "    {'identifier': 'B07', 'format': {'type': 'image/tiff'}},\n",
       "    {'identifier': 'B08', 'format': {'type': 'image/tiff'}},\n",
       "    {'identifier': 'B8A', 'format': {'type': 'image/tiff'}},\n",
       "    {'identifier': 'B11', 'format': {'type': 'image/tiff'}},\n",
       "    {'identifier': 'B12', 'format': {'type': 'image/tiff'}},\n",
       "    {'identifier': 'NDVI', 'format': {'type': 'image/tiff'}},\n",
       "    {'identifier': 'GNDVI', 'format': {'type': 'image/tiff'}},\n",
       "    {'identifier': 'BNDVI', 'format': {'type': 'image/tiff'}},\n",
       "    {'identifier': 'NDWI', 'format': {'type': 'image/tiff'}},\n",
       "    {'identifier': 'CVI', 'format': {'type': 'image/tiff'}},\n",
       "    {'identifier': 'NDSI', 'format': {'type': 'image/tiff'}}]},\n",
       "  'dataProduct': None,\n",
       "  'evalscript': '\\n//VERSION=3\\n\\nvar debug = []\\n\\nvar ic = {  // index components\\n  \\'NDVI\\':  [\"B08\", \"B04\"],\\n  \"GNDVI\": [\"B08\", \"B03\"],\\n  \"BNDVI\": [\"B08\", \"B02\"],\\n  \"NDSI\":  [\"B11\", \"B12\"],\\n  \"NDWI\":  [\"B03\", \"B08\"]\\n}\\n\\nfunction setup(ds) {\\n  return {\\n    input: [{\\n      bands: [\\'B02\\', \\'B03\\', \\'B04\\', \\'B05\\', \\'B06\\', \\'B07\\', \\'B08\\', \\'B8A\\', \\'B11\\', \\'B12\\', \\'SCL\\', \\'dataMask\\'], \\n      units: \"DN\"\\n    }],\\n    output: [        \\n      {id: \\'B02\\', bands: 16, sampleType: SampleType.UINT16},{id: \\'B03\\', bands: 16, sampleType: SampleType.UINT16},{id: \\'B04\\', bands: 16, sampleType: SampleType.UINT16},{id: \\'B05\\', bands: 16, sampleType: SampleType.UINT16},{id: \\'B06\\', bands: 16, sampleType: SampleType.UINT16},{id: \\'B07\\', bands: 16, sampleType: SampleType.UINT16},{id: \\'B08\\', bands: 16, sampleType: SampleType.UINT16},{id: \\'B8A\\', bands: 16, sampleType: SampleType.UINT16},{id: \\'B11\\', bands: 16, sampleType: SampleType.UINT16},{id: \\'B12\\', bands: 16, sampleType: SampleType.UINT16},{id: \\'NDVI\\', bands: 16, sampleType: SampleType.UINT16},{id: \\'GNDVI\\', bands: 16, sampleType: SampleType.UINT16},{id: \\'BNDVI\\', bands: 16, sampleType: SampleType.UINT16},{id: \\'NDWI\\', bands: 16, sampleType: SampleType.UINT16},{id: \\'CVI\\', bands: 16, sampleType: SampleType.UINT16},{id: \\'NDSI\\', bands: 16, sampleType: SampleType.UINT16}\\n    ],\\n    mosaicking: Mosaicking.ORBIT       \\n  }\\n}\\n\\nfunction validate (sample) {\\n  if (sample.dataMask!=1) return false;\\n  \\n  var scl = Math.round(sample.SCL);\\n  \\n  if (scl === 3) { // SC_CLOUD_SHADOW\\n    return false;\\n  } else if (scl === 9) { // SC_CLOUD_HIGH_PROBA\\n    return false; \\n  } else if (scl === 8) { // SC_CLOUD_MEDIUM_PROBA\\n    return false;\\n  } else if (scl === 7) { // SC_CLOUD_LOW_PROBA\\n    //return false;\\n  } else if (scl === 10) { // SC_THIN_CIRRUS\\n    return false;\\n  } else if (scl === 11) { // SC_SNOW_ICE\\n    return false;\\n  } else if (scl === 1) { // SC_SATURATED_DEFECTIVE\\n    return false;\\n  } else if (scl === 2) { // SC_DARK_FEATURE_SHADOW\\n    //return false;\\n  }\\n  return true;\\n}\\n\\nfunction calculateIndex(a,b)\\n{\\n  if ((a+b)==0) return 0;\\n  var val = (a-b)/(a+b);\\n  if (val<0) val = 0;\\n  //TODO - we might need to return false instead of 0; depends on the output format - a value needs to be designated as \"null\"\\n  return val;\\n}\\n\\nfunction interpolatedValue(arr)\\n{\\n  //here we define the function on how to define the proper value - e.g. linear interpolation; we will use average \\n  if (arr.length==0) return 0;\\n  if (arr.length==1) return arr[0];\\n  var sum = 0;\\n  for (j=0;j<arr.length;j++)\\n  {sum+=arr[j];}\\n  return Math.round(sum/arr.length);\\n}\\n\\nvar results = {B02: [],B03: [],B04: [],B05: [],B06: [],B07: [],B08: [],B8A: [],B11: [],B12: [],NDVI: [],GNDVI: [],BNDVI: [],NDWI: [],CVI: [],NDSI: []}\\n\\n// We split each month into two halves. This will make it easier to append months to data cube later\\nvar day_of_new_interval = 16\\nvar endtime = new Date(1536969600000.0) // UNIX epoch in ms\\n\\nfunction evaluatePixel(samples, scenes, inputMetadata, customData, outputMetadata) {\\n  \\n  //Debug part returning \"something\" if there are no  valid samples (no observations)\\n  if (!samples.length)\\n  return {B02: [1],B03: [2],B04: [3],B05: [4],B06: [5],B07: [6],B08: [7],B8A: [8],B11: [9],B12: [10],NDVI: [11],GNDVI: [12],BNDVI: [13],NDWI: [14],CVI: [15],NDSI: [16]}\\n  \\n  var is_in_last_half_of_month = endtime.getDate() >= day_of_new_interval\\n  var i = 0; // interval number\\n  var int_bands = {B02: [],B03: [],B04: [],B05: [],B06: [],B07: [],B08: [],B8A: [],B11: [],B12: []}\\n  \\n  for (var j = 0; j < samples.length; j++) {\\n    \\n    //TODO order should be reversed when we go leastRecent\\n    \\n    // if scene is outside of current half of month, fill result array and change half of month\\n    // algorithm starts with least recent observation\\n    if (( !is_in_last_half_of_month && scenes[j].date.getDate() >= day_of_new_interval) ||\\n    (  is_in_last_half_of_month && scenes[j].date.getDate() <  day_of_new_interval))\\n    {\\n      fillResultArray(i, int_bands)\\n      \\n      //reset values\\n      for (var int_b in int_bands) {\\n        int_bands[int_b] = []\\n      }\\n      \\n      is_in_last_half_of_month = !is_in_last_half_of_month;\\n      i++;\\n    }\\n    \\n    if (validate(samples[j]))\\n    {\\n      // push input samples into their respective arrays\\n      for (var int_b in int_bands) {\\n        int_bands[int_b].push(samples[j][int_b])\\n      }\\n    }\\n    \\n  }\\n  \\n  //execute this for the last interval \\n  fillResultArray(i, int_bands);\\n  \\n  return results\\n}\\n\\nfunction fillResultArray(i, int_bands)\\n{\\n  for (var b in int_bands) {\\n    if(int_bands[b].length==0) results[b][i] = 0\\n    else results[b][i] = interpolatedValue(int_bands[b])\\n  }\\n  \\n  for (var ix of [\\'NDVI\\', \\'GNDVI\\', \\'BNDVI\\', \\'NDWI\\', \\'CVI\\', \\'NDSI\\']) {\\n    if(ic.hasOwnProperty(ix)) {\\n      results[ix][i] = 65535*calculateIndex(\\n        results[ic[ix][0]][i],\\n        results[ic[ix][1]][i]\\n      )\\n    }\\n    if(ix===\"CVI\"){\\n      results[ix][i] = 65535*results[\"B08\"][i]*results[\"B05\"][i] / (results[\"B03\"][i]*results[\"B03\"][i])\\n    }\\n  }\\n}\\n\\nfunction updateOutputMetadata(scenes, inputMetadata, outputMetadata) {\\n  outputMetadata.userData = {\\n    \"date_created\": Date(),\\n    \"metadata\": scenes.map(s => {\\n      s.date = s.date.toString()\\n      return s\\n    }),\\n    \"time\" : [\\'2018-01-01T11:59:59.500000\\', \\'2018-01-15T23:59:59.500000\\', \\'2018-01-31T23:59:59.500000\\', \\'2018-02-15T23:59:59.500000\\', \\'2018-03-08T11:59:59.500000\\', \\'2018-03-23T23:59:59.500000\\', \\'2018-04-08T11:59:59.500000\\', \\'2018-04-23T23:59:59.500000\\', \\'2018-05-15T23:59:59.500000\\', \\'2018-05-31T23:59:59.500000\\', \\'2018-06-15T23:59:59.500000\\', \\'2018-07-08T11:59:59.500000\\', \\'2018-07-23T23:59:59.500000\\', \\'2018-08-08T11:59:59.500000\\', \\'2018-08-23T23:59:59.500000\\', \\'2018-09-08T11:59:59.500000\\'],\\n    \"debug\": debug\\n  }\\n}\\n'},\n",
       " 'tilingGridId': 0,\n",
       " 'userId': 'cea7e9da-2035-45b1-94c8-361b1c6c2ea2',\n",
       " 'status': 'DONE',\n",
       " 'userAction': 'START',\n",
       " 'bucketName': 'eox-masterdatacube',\n",
       " 'resolution': 60.0,\n",
       " 'description': 'Test Loipersbach',\n",
       " 'created': '2020-03-26T15:42:04.512Z',\n",
       " 'valueEstimate': 133.6707300972133,\n",
       " 'tileCount': 1,\n",
       " 'tileWidthPx': 334,\n",
       " 'tileHeightPx': 334}"
      ]
     },
     "execution_count": 17,
     "metadata": {},
     "output_type": "execute_result"
    },
    {
     "data": {
      "application/javascript": [
       "$(document).ready(\n",
       "    function() {\n",
       "        function appendUniqueDiv(){\n",
       "            // append a div with our uuid so we can check that it's already\n",
       "            // been sent and avoid duplicates on page reload\n",
       "            var notifiedDiv = document.createElement(\"div\")\n",
       "            notifiedDiv.id = \"9f24678a-bb3a-444e-89c0-4ad9627bc000\"\n",
       "            element.append(notifiedDiv)\n",
       "        }\n",
       "\n",
       "        // only send notifications if the pageload is complete; this will\n",
       "        // help stop extra notifications when a saved notebook is loaded,\n",
       "        // which during testing gives us state \"interactive\", not \"complete\"\n",
       "        if (document.readyState === 'complete') {\n",
       "            // check for the div that signifies that the notification\n",
       "            // was already sent\n",
       "            if (document.getElementById(\"9f24678a-bb3a-444e-89c0-4ad9627bc000\") === null) {\n",
       "                var notificationPayload = {\"requireInteraction\": false, \"icon\": \"/static/base/images/favicon.ico\", \"body\": \"{'id': '816826d9-605e-4a95-a38c-84d22152e667', 'processRequest': {'input': {'bounds': {'bbox': [16.446445736463346, 47.680841561177864, 16.49776618971013, 47.72587417451863], 'geometry': None, 'properties': {'crs': 'http://www.opengis.net/def/crs/OGC/1.3/CRS84'}}, 'data': [{'location': 'AWS:eu-central-1', 'dataFilter': {'timeRange': {'from': '2018-01-01T00:00:00Z', 'to': '2018-09-15T00:00:00Z'}, 'mosaickingOrder': 'mostRecent', 'maxCloudCoverage': 100.0}, 'processing': None, 'tileList': None, 'id': None, 'type': 'S2L2A'}]}, 'output': {'width': None, 'height': None, 'resx': None, 'resy': None, 'responses': [{'identifier': 'B02', 'format': {'type': 'image/tiff'}}, {'identifier': 'B03', 'format': {'type': 'image/tiff'}}, {'identifier': 'B04', 'format': {'type': 'image/tiff'}}, {'identifier': 'B05', 'format': {'type': 'image/tiff'}}, {'identifier': 'B06', 'format': {'type': 'image/tiff'}}, {'identifier': 'B07', 'format': {'type': 'image/tiff'}}, {'identifier': 'B08', 'format': {'type': 'image/tiff'}}, {'identifier': 'B8A', 'format': {'type': 'image/tiff'}}, {'identifier': 'B11', 'format': {'type': 'image/tiff'}}, {'identifier': 'B12', 'format': {'type': 'image/tiff'}}, {'identifier': 'NDVI', 'format': {'type': 'image/tiff'}}, {'identifier': 'GNDVI', 'format': {'type': 'image/tiff'}}, {'identifier': 'BNDVI', 'format': {'type': 'image/tiff'}}, {'identifier': 'NDWI', 'format': {'type': 'image/tiff'}}, {'identifier': 'CVI', 'format': {'type': 'image/tiff'}}, {'identifier': 'NDSI', 'format': {'type': 'image/tiff'}}]}, 'dataProduct': None, 'evalscript': '\\\\n//VERSION=3\\\\n\\\\nvar debug = []\\\\n\\\\nvar ic = {  // index components\\\\n  \\\\'NDVI\\\\':  [\\\"B08\\\", \\\"B04\\\"],\\\\n  \\\"GNDVI\\\": [\\\"B08\\\", \\\"B03\\\"],\\\\n  \\\"BNDVI\\\": [\\\"B08\\\", \\\"B02\\\"],\\\\n  \\\"NDSI\\\":  [\\\"B11\\\", \\\"B12\\\"],\\\\n  \\\"NDWI\\\":  [\\\"B03\\\", \\\"B08\\\"]\\\\n}\\\\n\\\\nfunction setup(ds) {\\\\n  return {\\\\n    input: [{\\\\n      bands: [\\\\'B02\\\\', \\\\'B03\\\\', \\\\'B04\\\\', \\\\'B05\\\\', \\\\'B06\\\\', \\\\'B07\\\\', \\\\'B08\\\\', \\\\'B8A\\\\', \\\\'B11\\\\', \\\\'B12\\\\', \\\\'SCL\\\\', \\\\'dataMask\\\\'], \\\\n      units: \\\"DN\\\"\\\\n    }],\\\\n    output: [        \\\\n      {id: \\\\'B02\\\\', bands: 16, sampleType: SampleType.UINT16},{id: \\\\'B03\\\\', bands: 16, sampleType: SampleType.UINT16},{id: \\\\'B04\\\\', bands: 16, sampleType: SampleType.UINT16},{id: \\\\'B05\\\\', bands: 16, sampleType: SampleType.UINT16},{id: \\\\'B06\\\\', bands: 16, sampleType: SampleType.UINT16},{id: \\\\'B07\\\\', bands: 16, sampleType: SampleType.UINT16},{id: \\\\'B08\\\\', bands: 16, sampleType: SampleType.UINT16},{id: \\\\'B8A\\\\', bands: 16, sampleType: SampleType.UINT16},{id: \\\\'B11\\\\', bands: 16, sampleType: SampleType.UINT16},{id: \\\\'B12\\\\', bands: 16, sampleType: SampleType.UINT16},{id: \\\\'NDVI\\\\', bands: 16, sampleType: SampleType.UINT16},{id: \\\\'GNDVI\\\\', bands: 16, sampleType: SampleType.UINT16},{id: \\\\'BNDVI\\\\', bands: 16, sampleType: SampleType.UINT16},{id: \\\\'NDWI\\\\', bands: 16, sampleType: SampleType.UINT16},{id: \\\\'CVI\\\\', bands: 16, sampleType: SampleType.UINT16},{id: \\\\'NDSI\\\\', bands: 16, sampleType: SampleType.UINT16}\\\\n    ],\\\\n    mosaicking: Mosaicking.ORBIT       \\\\n  }\\\\n}\\\\n\\\\nfunction validate (sample) {\\\\n  if (sample.dataMask!=1) return false;\\\\n  \\\\n  var scl = Math.round(sample.SCL);\\\\n  \\\\n  if (scl === 3) { // SC_CLOUD_SHADOW\\\\n    return false;\\\\n  } else if (scl === 9) { // SC_CLOUD_HIGH_PROBA\\\\n    return false; \\\\n  } else if (scl === 8) { // SC_CLOUD_MEDIUM_PROBA\\\\n    return false;\\\\n  } else if (scl === 7) { // SC_CLOUD_LOW_PROBA\\\\n    //return false;\\\\n  } else if (scl === 10) { // SC_THIN_CIRRUS\\\\n    return false;\\\\n  } else if (scl === 11) { // SC_SNOW_ICE\\\\n    return false;\\\\n  } else if (scl === 1) { // SC_SATURATED_DEFECTIVE\\\\n    return false;\\\\n  } else if (scl === 2) { // SC_DARK_FEATURE_SHADOW\\\\n    //return false;\\\\n  }\\\\n  return true;\\\\n}\\\\n\\\\nfunction calculateIndex(a,b)\\\\n{\\\\n  if ((a+b)==0) return 0;\\\\n  var val = (a-b)/(a+b);\\\\n  if (val<0) val = 0;\\\\n  //TODO - we might need to return false instead of 0; depends on the output format - a value needs to be designated as \\\"null\\\"\\\\n  return val;\\\\n}\\\\n\\\\nfunction interpolatedValue(arr)\\\\n{\\\\n  //here we define the function on how to define the proper value - e.g. linear interpolation; we will use average \\\\n  if (arr.length==0) return 0;\\\\n  if (arr.length==1) return arr[0];\\\\n  var sum = 0;\\\\n  for (j=0;j<arr.length;j++)\\\\n  {sum+=arr[j];}\\\\n  return Math.round(sum/arr.length);\\\\n}\\\\n\\\\nvar results = {B02: [],B03: [],B04: [],B05: [],B06: [],B07: [],B08: [],B8A: [],B11: [],B12: [],NDVI: [],GNDVI: [],BNDVI: [],NDWI: [],CVI: [],NDSI: []}\\\\n\\\\n// We split each month into two halves. This will make it easier to append months to data cube later\\\\nvar day_of_new_interval = 16\\\\nvar endtime = new Date(1536969600000.0) // UNIX epoch in ms\\\\n\\\\nfunction evaluatePixel(samples, scenes, inputMetadata, customData, outputMetadata) {\\\\n  \\\\n  //Debug part returning \\\"something\\\" if there are no  valid samples (no observations)\\\\n  if (!samples.length)\\\\n  return {B02: [1],B03: [2],B04: [3],B05: [4],B06: [5],B07: [6],B08: [7],B8A: [8],B11: [9],B12: [10],NDVI: [11],GNDVI: [12],BNDVI: [13],NDWI: [14],CVI: [15],NDSI: [16]}\\\\n  \\\\n  var is_in_last_half_of_month = endtime.getDate() >= day_of_new_interval\\\\n  var i = 0; // interval number\\\\n  var int_bands = {B02: [],B03: [],B04: [],B05: [],B06: [],B07: [],B08: [],B8A: [],B11: [],B12: []}\\\\n  \\\\n  for (var j = 0; j < samples.length; j++) {\\\\n    \\\\n    //TODO order should be reversed when we go leastRecent\\\\n    \\\\n    // if scene is outside of current half of month, fill result array and change half of month\\\\n    // algorithm starts with least recent observation\\\\n    if (( !is_in_last_half_of_month && scenes[j].date.getDate() >= day_of_new_interval) ||\\\\n    (  is_in_last_half_of_month && scenes[j].date.getDate() <  day_of_new_interval))\\\\n    {\\\\n      fillResultArray(i, int_bands)\\\\n      \\\\n      //reset values\\\\n      for (var int_b in int_bands) {\\\\n        int_bands[int_b] = []\\\\n      }\\\\n      \\\\n      is_in_last_half_of_month = !is_in_last_half_of_month;\\\\n      i++;\\\\n    }\\\\n    \\\\n    if (validate(samples[j]))\\\\n    {\\\\n      // push input samples into their respective arrays\\\\n      for (var int_b in int_bands) {\\\\n        int_bands[int_b].push(samples[j][int_b])\\\\n      }\\\\n    }\\\\n    \\\\n  }\\\\n  \\\\n  //execute this for the last interval \\\\n  fillResultArray(i, int_bands);\\\\n  \\\\n  return results\\\\n}\\\\n\\\\nfunction fillResultArray(i, int_bands)\\\\n{\\\\n  for (var b in int_bands) {\\\\n    if(int_bands[b].length==0) results[b][i] = 0\\\\n    else results[b][i] = interpolatedValue(int_bands[b])\\\\n  }\\\\n  \\\\n  for (var ix of [\\\\'NDVI\\\\', \\\\'GNDVI\\\\', \\\\'BNDVI\\\\', \\\\'NDWI\\\\', \\\\'CVI\\\\', \\\\'NDSI\\\\']) {\\\\n    if(ic.hasOwnProperty(ix)) {\\\\n      results[ix][i] = 65535*calculateIndex(\\\\n        results[ic[ix][0]][i],\\\\n        results[ic[ix][1]][i]\\\\n      )\\\\n    }\\\\n    if(ix===\\\"CVI\\\"){\\\\n      results[ix][i] = 65535*results[\\\"B08\\\"][i]*results[\\\"B05\\\"][i] / (results[\\\"B03\\\"][i]*results[\\\"B03\\\"][i])\\\\n    }\\\\n  }\\\\n}\\\\n\\\\nfunction updateOutputMetadata(scenes, inputMetadata, outputMetadata) {\\\\n  outputMetadata.userData = {\\\\n    \\\"date_created\\\": Date(),\\\\n    \\\"metadata\\\": scenes.map(s => {\\\\n      s.date = s.date.toString()\\\\n      return s\\\\n    }),\\\\n    \\\"time\\\" : [\\\\'2018-01-01T11:59:59.500000\\\\', \\\\'2018-01-15T23:59:59.500000\\\\', \\\\'2018-01-31T23:59:59.500000\\\\', \\\\'2018-02-15T23:59:59.500000\\\\', \\\\'2018-03-08T11:59:59.500000\\\\', \\\\'2018-03-23T23:59:59.500000\\\\', \\\\'2018-04-08T11:59:59.500000\\\\', \\\\'2018-04-23T23:59:59.500000\\\\', \\\\'2018-05-15T23:59:59.500000\\\\', \\\\'2018-05-31T23:59:59.500000\\\\', \\\\'2018-06-15T23:59:59.500000\\\\', \\\\'2018-07-08T11:59:59.500000\\\\', \\\\'2018-07-23T23:59:59.500000\\\\', \\\\'2018-08-08T11:59:59.500000\\\\', \\\\'2018-08-23T23:59:59.500000\\\\', \\\\'2018-09-08T11:59:59.500000\\\\'],\\\\n    \\\"debug\\\": debug\\\\n  }\\\\n}\\\\n'}, 'tilingGridId': 0, 'userId': 'cea7e9da-2035-45b1-94c8-361b1c6c2ea2', 'status': 'DONE', 'userAction': 'START', 'bucketName': 'eox-masterdatacube', 'resolution': 60.0, 'description': 'Test Loipersbach', 'created': '2020-03-26T15:42:04.512Z', 'valueEstimate': 133.6707300972133, 'tileCount': 1, 'tileWidthPx': 334, 'tileHeightPx': 334}\", \"only_in_background\": false};\n",
       "\n",
       "                // We have a notification but the window is active\n",
       "                if (notificationPayload.only_in_background && !window.jupyterNotifyIsInBackground) {\n",
       "                    appendUniqueDiv();\n",
       "                    return;\n",
       "                }\n",
       "                if (Notification.permission !== 'denied') {\n",
       "                    if (Notification.permission !== 'granted') { \n",
       "                        Notification.requestPermission(function (permission) {\n",
       "                            if(!('permission' in Notification)) {\n",
       "                                Notification.permission = permission\n",
       "                            }\n",
       "                        })\n",
       "                    }\n",
       "                    if (Notification.permission === 'granted') {\n",
       "                    var notification = new Notification(\"Jupyter Notebook\", notificationPayload)\n",
       "                    appendUniqueDiv()\n",
       "                    notification.onclick = function () {\n",
       "                        window.focus();\n",
       "                        this.close();\n",
       "                        };\n",
       "                    } \n",
       "                }     \n",
       "            }\n",
       "        }\n",
       "    }\n",
       ")\n"
      ],
      "text/plain": [
       "<IPython.core.display.Javascript object>"
      ]
     },
     "metadata": {},
     "output_type": "display_data"
    }
   ],
   "source": [
    "%%notify -o\n",
    "%%time\n",
    "import time\n",
    "\n",
    "response_status = \"\"\n",
    "while response_status not in ['DONE', 'FAILED']:\n",
    "    get_response = oauth.request(\"GET\", generate_url(request_id))\n",
    "    response_status = get_response.json()['status']\n",
    "    time.sleep(1)\n",
    "\n",
    "response_status\n",
    "get_response.json()"
   ]
  },
  {
   "cell_type": "code",
   "execution_count": 18,
   "metadata": {},
   "outputs": [
    {
     "data": {
      "text/plain": [
       "[{'id': 1616,\n",
       "  'requestId': '816826d9-605e-4a95-a38c-84d22152e667',\n",
       "  'geometry': {'type': 'Polygon',\n",
       "   'crs': {'type': 'name',\n",
       "    'properties': {'name': 'urn:ogc:def:crs:EPSG::4326'}},\n",
       "   'coordinates': [[[16.331990925347444, 47.6656586685086],\n",
       "     [16.33660021995273, 47.84592105058218],\n",
       "     [16.60435539307228, 47.84249090325925],\n",
       "     [16.598823619260372, 47.66224999190062],\n",
       "     [16.331990925347444, 47.6656586685086]]]},\n",
       "  'status': 'PROCESSED',\n",
       "  'cost': 159.15658914298547}]"
      ]
     },
     "execution_count": 18,
     "metadata": {},
     "output_type": "execute_result"
    }
   ],
   "source": [
    "tiles = oauth.request('GET', generate_url(request_id, 'tiles')).json()['member']\n",
    "tiles"
   ]
  },
  {
   "cell_type": "code",
   "execution_count": 19,
   "metadata": {},
   "outputs": [
    {
     "data": {
      "text/plain": [
       "{'id': '816826d9-605e-4a95-a38c-84d22152e667',\n",
       " 'processRequest': {'input': {'bounds': {'bbox': [16.446445736463346,\n",
       "     47.680841561177864,\n",
       "     16.49776618971013,\n",
       "     47.72587417451863],\n",
       "    'geometry': None,\n",
       "    'properties': {'crs': 'http://www.opengis.net/def/crs/OGC/1.3/CRS84'}},\n",
       "   'data': [{'location': 'AWS:eu-central-1',\n",
       "     'dataFilter': {'timeRange': {'from': '2018-01-01T00:00:00Z',\n",
       "       'to': '2018-09-15T00:00:00Z'},\n",
       "      'mosaickingOrder': 'mostRecent',\n",
       "      'maxCloudCoverage': 100.0},\n",
       "     'processing': None,\n",
       "     'tileList': None,\n",
       "     'id': None,\n",
       "     'type': 'S2L2A'}]},\n",
       "  'output': {'width': None,\n",
       "   'height': None,\n",
       "   'resx': None,\n",
       "   'resy': None,\n",
       "   'responses': [{'identifier': 'B02', 'format': {'type': 'image/tiff'}},\n",
       "    {'identifier': 'B03', 'format': {'type': 'image/tiff'}},\n",
       "    {'identifier': 'B04', 'format': {'type': 'image/tiff'}},\n",
       "    {'identifier': 'B05', 'format': {'type': 'image/tiff'}},\n",
       "    {'identifier': 'B06', 'format': {'type': 'image/tiff'}},\n",
       "    {'identifier': 'B07', 'format': {'type': 'image/tiff'}},\n",
       "    {'identifier': 'B08', 'format': {'type': 'image/tiff'}},\n",
       "    {'identifier': 'B8A', 'format': {'type': 'image/tiff'}},\n",
       "    {'identifier': 'B11', 'format': {'type': 'image/tiff'}},\n",
       "    {'identifier': 'B12', 'format': {'type': 'image/tiff'}},\n",
       "    {'identifier': 'NDVI', 'format': {'type': 'image/tiff'}},\n",
       "    {'identifier': 'GNDVI', 'format': {'type': 'image/tiff'}},\n",
       "    {'identifier': 'BNDVI', 'format': {'type': 'image/tiff'}},\n",
       "    {'identifier': 'NDWI', 'format': {'type': 'image/tiff'}},\n",
       "    {'identifier': 'CVI', 'format': {'type': 'image/tiff'}},\n",
       "    {'identifier': 'NDSI', 'format': {'type': 'image/tiff'}}]},\n",
       "  'dataProduct': None,\n",
       "  'evalscript': '\\n//VERSION=3\\n\\nvar debug = []\\n\\nvar ic = {  // index components\\n  \\'NDVI\\':  [\"B08\", \"B04\"],\\n  \"GNDVI\": [\"B08\", \"B03\"],\\n  \"BNDVI\": [\"B08\", \"B02\"],\\n  \"NDSI\":  [\"B11\", \"B12\"],\\n  \"NDWI\":  [\"B03\", \"B08\"]\\n}\\n\\nfunction setup(ds) {\\n  return {\\n    input: [{\\n      bands: [\\'B02\\', \\'B03\\', \\'B04\\', \\'B05\\', \\'B06\\', \\'B07\\', \\'B08\\', \\'B8A\\', \\'B11\\', \\'B12\\', \\'SCL\\', \\'dataMask\\'], \\n      units: \"DN\"\\n    }],\\n    output: [        \\n      {id: \\'B02\\', bands: 16, sampleType: SampleType.UINT16},{id: \\'B03\\', bands: 16, sampleType: SampleType.UINT16},{id: \\'B04\\', bands: 16, sampleType: SampleType.UINT16},{id: \\'B05\\', bands: 16, sampleType: SampleType.UINT16},{id: \\'B06\\', bands: 16, sampleType: SampleType.UINT16},{id: \\'B07\\', bands: 16, sampleType: SampleType.UINT16},{id: \\'B08\\', bands: 16, sampleType: SampleType.UINT16},{id: \\'B8A\\', bands: 16, sampleType: SampleType.UINT16},{id: \\'B11\\', bands: 16, sampleType: SampleType.UINT16},{id: \\'B12\\', bands: 16, sampleType: SampleType.UINT16},{id: \\'NDVI\\', bands: 16, sampleType: SampleType.UINT16},{id: \\'GNDVI\\', bands: 16, sampleType: SampleType.UINT16},{id: \\'BNDVI\\', bands: 16, sampleType: SampleType.UINT16},{id: \\'NDWI\\', bands: 16, sampleType: SampleType.UINT16},{id: \\'CVI\\', bands: 16, sampleType: SampleType.UINT16},{id: \\'NDSI\\', bands: 16, sampleType: SampleType.UINT16}\\n    ],\\n    mosaicking: Mosaicking.ORBIT       \\n  }\\n}\\n\\nfunction validate (sample) {\\n  if (sample.dataMask!=1) return false;\\n  \\n  var scl = Math.round(sample.SCL);\\n  \\n  if (scl === 3) { // SC_CLOUD_SHADOW\\n    return false;\\n  } else if (scl === 9) { // SC_CLOUD_HIGH_PROBA\\n    return false; \\n  } else if (scl === 8) { // SC_CLOUD_MEDIUM_PROBA\\n    return false;\\n  } else if (scl === 7) { // SC_CLOUD_LOW_PROBA\\n    //return false;\\n  } else if (scl === 10) { // SC_THIN_CIRRUS\\n    return false;\\n  } else if (scl === 11) { // SC_SNOW_ICE\\n    return false;\\n  } else if (scl === 1) { // SC_SATURATED_DEFECTIVE\\n    return false;\\n  } else if (scl === 2) { // SC_DARK_FEATURE_SHADOW\\n    //return false;\\n  }\\n  return true;\\n}\\n\\nfunction calculateIndex(a,b)\\n{\\n  if ((a+b)==0) return 0;\\n  var val = (a-b)/(a+b);\\n  if (val<0) val = 0;\\n  //TODO - we might need to return false instead of 0; depends on the output format - a value needs to be designated as \"null\"\\n  return val;\\n}\\n\\nfunction interpolatedValue(arr)\\n{\\n  //here we define the function on how to define the proper value - e.g. linear interpolation; we will use average \\n  if (arr.length==0) return 0;\\n  if (arr.length==1) return arr[0];\\n  var sum = 0;\\n  for (j=0;j<arr.length;j++)\\n  {sum+=arr[j];}\\n  return Math.round(sum/arr.length);\\n}\\n\\nvar results = {B02: [],B03: [],B04: [],B05: [],B06: [],B07: [],B08: [],B8A: [],B11: [],B12: [],NDVI: [],GNDVI: [],BNDVI: [],NDWI: [],CVI: [],NDSI: []}\\n\\n// We split each month into two halves. This will make it easier to append months to data cube later\\nvar day_of_new_interval = 16\\nvar endtime = new Date(1536969600000.0) // UNIX epoch in ms\\n\\nfunction evaluatePixel(samples, scenes, inputMetadata, customData, outputMetadata) {\\n  \\n  //Debug part returning \"something\" if there are no  valid samples (no observations)\\n  if (!samples.length)\\n  return {B02: [1],B03: [2],B04: [3],B05: [4],B06: [5],B07: [6],B08: [7],B8A: [8],B11: [9],B12: [10],NDVI: [11],GNDVI: [12],BNDVI: [13],NDWI: [14],CVI: [15],NDSI: [16]}\\n  \\n  var is_in_last_half_of_month = endtime.getDate() >= day_of_new_interval\\n  var i = 0; // interval number\\n  var int_bands = {B02: [],B03: [],B04: [],B05: [],B06: [],B07: [],B08: [],B8A: [],B11: [],B12: []}\\n  \\n  for (var j = 0; j < samples.length; j++) {\\n    \\n    //TODO order should be reversed when we go leastRecent\\n    \\n    // if scene is outside of current half of month, fill result array and change half of month\\n    // algorithm starts with least recent observation\\n    if (( !is_in_last_half_of_month && scenes[j].date.getDate() >= day_of_new_interval) ||\\n    (  is_in_last_half_of_month && scenes[j].date.getDate() <  day_of_new_interval))\\n    {\\n      fillResultArray(i, int_bands)\\n      \\n      //reset values\\n      for (var int_b in int_bands) {\\n        int_bands[int_b] = []\\n      }\\n      \\n      is_in_last_half_of_month = !is_in_last_half_of_month;\\n      i++;\\n    }\\n    \\n    if (validate(samples[j]))\\n    {\\n      // push input samples into their respective arrays\\n      for (var int_b in int_bands) {\\n        int_bands[int_b].push(samples[j][int_b])\\n      }\\n    }\\n    \\n  }\\n  \\n  //execute this for the last interval \\n  fillResultArray(i, int_bands);\\n  \\n  return results\\n}\\n\\nfunction fillResultArray(i, int_bands)\\n{\\n  for (var b in int_bands) {\\n    if(int_bands[b].length==0) results[b][i] = 0\\n    else results[b][i] = interpolatedValue(int_bands[b])\\n  }\\n  \\n  for (var ix of [\\'NDVI\\', \\'GNDVI\\', \\'BNDVI\\', \\'NDWI\\', \\'CVI\\', \\'NDSI\\']) {\\n    if(ic.hasOwnProperty(ix)) {\\n      results[ix][i] = 65535*calculateIndex(\\n        results[ic[ix][0]][i],\\n        results[ic[ix][1]][i]\\n      )\\n    }\\n    if(ix===\"CVI\"){\\n      results[ix][i] = 65535*results[\"B08\"][i]*results[\"B05\"][i] / (results[\"B03\"][i]*results[\"B03\"][i])\\n    }\\n  }\\n}\\n\\nfunction updateOutputMetadata(scenes, inputMetadata, outputMetadata) {\\n  outputMetadata.userData = {\\n    \"date_created\": Date(),\\n    \"metadata\": scenes.map(s => {\\n      s.date = s.date.toString()\\n      return s\\n    }),\\n    \"time\" : [\\'2018-01-01T11:59:59.500000\\', \\'2018-01-15T23:59:59.500000\\', \\'2018-01-31T23:59:59.500000\\', \\'2018-02-15T23:59:59.500000\\', \\'2018-03-08T11:59:59.500000\\', \\'2018-03-23T23:59:59.500000\\', \\'2018-04-08T11:59:59.500000\\', \\'2018-04-23T23:59:59.500000\\', \\'2018-05-15T23:59:59.500000\\', \\'2018-05-31T23:59:59.500000\\', \\'2018-06-15T23:59:59.500000\\', \\'2018-07-08T11:59:59.500000\\', \\'2018-07-23T23:59:59.500000\\', \\'2018-08-08T11:59:59.500000\\', \\'2018-08-23T23:59:59.500000\\', \\'2018-09-08T11:59:59.500000\\'],\\n    \"debug\": debug\\n  }\\n}\\n'},\n",
       " 'tilingGridId': 0,\n",
       " 'userId': 'cea7e9da-2035-45b1-94c8-361b1c6c2ea2',\n",
       " 'status': 'DONE',\n",
       " 'userAction': 'START',\n",
       " 'bucketName': 'eox-masterdatacube',\n",
       " 'resolution': 60.0,\n",
       " 'description': 'Test Loipersbach',\n",
       " 'created': '2020-03-26T15:42:04.512Z',\n",
       " 'valueEstimate': 133.6707300972133,\n",
       " 'tileCount': 1,\n",
       " 'tileWidthPx': 334,\n",
       " 'tileHeightPx': 334}"
      ]
     },
     "execution_count": 19,
     "metadata": {},
     "output_type": "execute_result"
    }
   ],
   "source": [
    "get_response.json()"
   ]
  },
  {
   "cell_type": "code",
   "execution_count": 20,
   "metadata": {},
   "outputs": [
    {
     "name": "stdout",
     "output_type": "stream",
     "text": [
      "Stored 'bucket_name' (str)\n",
      "Stored 'request_id' (str)\n",
      "Stored 'tiles' (list)\n",
      "Stored 'output_bands' (list)\n",
      "Stored 'avg_times' (list)\n"
     ]
    }
   ],
   "source": [
    "%store bucket_name \n",
    "%store request_id \n",
    "%store tiles\n",
    "%store output_bands\n",
    "%store avg_times"
   ]
  },
  {
   "cell_type": "code",
   "execution_count": 21,
   "metadata": {},
   "outputs": [
    {
     "name": "stdout",
     "output_type": "stream",
     "text": [
      "Stored variables and their in-db values:\n",
      "avg_times                -> ['2018-01-01T11:59:59.500000', '2018-01-15T23:59:5\n",
      "bucket_name              -> 'eox-masterdatacube'\n",
      "output_bands             -> ['B02', 'B03', 'B04', 'B05', 'B06', 'B07', 'B08', \n",
      "request_id               -> '816826d9-605e-4a95-a38c-84d22152e667'\n",
      "tiles                    -> [{'id': 1616, 'requestId': '816826d9-605e-4a95-a38\n"
     ]
    }
   ],
   "source": [
    "%store"
   ]
  }
 ],
 "metadata": {
  "kernelspec": {
   "display_name": "Python 3",
   "language": "python",
   "name": "python3"
  },
  "language_info": {
   "codemirror_mode": {
    "name": "ipython",
    "version": 3
   },
   "file_extension": ".py",
   "mimetype": "text/x-python",
   "name": "python",
   "nbconvert_exporter": "python",
   "pygments_lexer": "ipython3",
   "version": "3.7.3"
  }
 },
 "nbformat": 4,
 "nbformat_minor": 4
}
