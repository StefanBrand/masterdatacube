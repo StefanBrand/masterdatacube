{
 "cells": [
  {
   "cell_type": "code",
   "execution_count": 3,
   "metadata": {},
   "outputs": [],
   "source": [
    "# load credentials from environment variables\n",
    "%load_ext dotenv\n",
    "%dotenv\n",
    "\n",
    "# util\n",
    "import numpy as np\n",
    "\n",
    "# date & time\n",
    "from datetime import timezone, date, datetime\n",
    "from dateutil.relativedelta import relativedelta as rdelta\n",
    "from dateutil.rrule import rrule, MONTHLY\n",
    "\n",
    "# output processing and plotting\n",
    "import io\n",
    "import tarfile\n",
    "import rasterio\n",
    "from rasterio.plot import show\n",
    "from matplotlib import pyplot\n",
    "\n",
    "# Oauth\n",
    "from oauthlib.oauth2 import BackendApplicationClient\n",
    "from requests_oauthlib import OAuth2Session"
   ]
  },
  {
   "cell_type": "markdown",
   "metadata": {},
   "source": [
    "## Get authorization token"
   ]
  },
  {
   "cell_type": "code",
   "execution_count": 4,
   "metadata": {},
   "outputs": [],
   "source": [
    "# Your client credentials\n",
    "client_id = %env SH_CLIENT_ID\n",
    "client_secret = %env SH_CLIENT_SECRET\n",
    "\n",
    "# Create a session\n",
    "client = BackendApplicationClient(client_id=client_id)\n",
    "oauth = OAuth2Session(client=client)\n",
    "\n",
    "token = oauth.fetch_token(token_url='https://services.sentinel-hub.com/oauth/token',\n",
    "                          client_id=client_id, client_secret=client_secret)\n",
    "\n",
    "resp = oauth.get(\"https://services.sentinel-hub.com/oauth/tokeninfo\")"
   ]
  },
  {
   "cell_type": "markdown",
   "metadata": {},
   "source": [
    "## Configure request (evalscript)\n",
    "\n",
    "Enter start and end date, input bands, indices. The resulting files will have two time intervals per month, being split at `day_of_new_interval`."
   ]
  },
  {
   "cell_type": "code",
   "execution_count": 5,
   "metadata": {},
   "outputs": [],
   "source": [
    "startdate = date(2018,7,5) # Y,M,D\n",
    "enddate = date(2018,9,16)  # Y,M,D\n",
    "\n",
    "input_bands = [\"B04\",\"B08\", \"B03\"]\n",
    "indices = ['NDVI']\n",
    "\n",
    "day_of_new_interval = 16 # leave this unchanged in most of the cases"
   ]
  },
  {
   "cell_type": "markdown",
   "metadata": {},
   "source": [
    "### Calculate parameters"
   ]
  },
  {
   "cell_type": "code",
   "execution_count": 6,
   "metadata": {
    "scrolled": true
   },
   "outputs": [],
   "source": [
    "starttime = datetime(*startdate.timetuple()[:6])\n",
    "endtime = datetime(*enddate.timetuple()[:6])\n",
    "\n",
    "d=day_of_new_interval\n",
    "full_month_dates = list(rrule(MONTHLY, dtstart=startdate, until=enddate, bymonthday=[1,d-1,d,31]))\n",
    "all_dates = [starttime] + full_month_dates + [endtime] # bounds of all intervals\n",
    "\n",
    "starts = all_dates[0::2]\n",
    "starts = [int(d.timestamp()) for d in starts] # timestamps for arithmetic\n",
    "ends   = [d+rdelta(hour=23, minute=59, second=59) for d in all_dates[1::2]]\n",
    "ends   = [int(d.timestamp()) for d in ends]   # timestamps for arithmetic\n",
    "averages = list(np.mean(list(zip(starts,ends)), axis=1))\n",
    "averages = [datetime.utcfromtimestamp(a) for a in averages]\n",
    "averages = [dt.isoformat() for dt in averages]"
   ]
  },
  {
   "cell_type": "code",
   "execution_count": 7,
   "metadata": {},
   "outputs": [],
   "source": [
    "masks = [\"SCL\", \"dataMask\"] # SCL ... Scene Classification Layer\n",
    "\n",
    "output_bands = input_bands + indices\n",
    "output_array =  ','.join([f\"{{id: '{ob}', bands: {len(averages)}, \"+\n",
    "                          f\"sampleType: SampleType.UINT16}}\" for ob in output_bands])\n",
    "int_bands = '{' + ','.join([f'{ib}: []' for ib in input_bands]) + '}'\n",
    "results_object = '{' + ','.join([f'{ob}: []' for ob in output_bands]) + '}'\n",
    "debug_results = '{' + ','.join([f\"{output_bands[i]}: [{i+1}]\" for i in range(len(output_bands))]) + '}'\n",
    "responses = [{\"identifier\": ob,\"format\": {\"type\": \"image/tiff\"}} for ob in output_bands]"
   ]
  },
  {
   "cell_type": "markdown",
   "metadata": {},
   "source": [
    "### Evalscript & Payload"
   ]
  },
  {
   "cell_type": "code",
   "execution_count": 8,
   "metadata": {
    "scrolled": true
   },
   "outputs": [],
   "source": [
    "#double curly brackets render as single curly brackets in f-strings\n",
    "evalscript = f\"\"\"\n",
    "    //VERSION=3\n",
    "    \n",
    "    var debug = []\n",
    "    \n",
    "    function setup(ds) {{\n",
    "      return {{\n",
    "        input: [{{\n",
    "          bands: {str(input_bands + masks)}, \n",
    "          units: \"DN\"\n",
    "        }}],\n",
    "        output: [        \n",
    "          {output_array}\n",
    "        ],\n",
    "        mosaicking: Mosaicking.ORBIT       \n",
    "      }}\n",
    "    }}\n",
    "\n",
    "    function validate (sample) {{\n",
    "      if (sample.dataMask!=1) return false;\n",
    "\n",
    "      var scl = Math.round(sample.SCL);\n",
    "\n",
    "      if (scl === 3) {{ // SC_CLOUD_SHADOW\n",
    "        return false;\n",
    "      }} else if (scl === 9) {{ // SC_CLOUD_HIGH_PROBA\n",
    "        return false; \n",
    "      }} else if (scl === 8) {{ // SC_CLOUD_MEDIUM_PROBA\n",
    "        return false;\n",
    "      }} else if (scl === 7) {{ // SC_CLOUD_LOW_PROBA\n",
    "        //return false;\n",
    "      }} else if (scl === 10) {{ // SC_THIN_CIRRUS\n",
    "        return false;\n",
    "      }} else if (scl === 11) {{ // SC_SNOW_ICE\n",
    "        return false;\n",
    "      }} else if (scl === 1) {{ // SC_SATURATED_DEFECTIVE\n",
    "        return false;\n",
    "      }} else if (scl === 2) {{ // SC_DARK_FEATURE_SHADOW\n",
    "        //return false;\n",
    "      }}\n",
    "      return true;\n",
    "    }}\n",
    "\n",
    "    function calculateIndex(a,b)\n",
    "    {{\n",
    "      if ((a+b)==0) return 0;\n",
    "      var val = (a-b)/(a+b);\n",
    "      if (val<0) val = 0;\n",
    "      //TODO - we might need to return false instead of 0; depends on the output format - a value needs to be designated as \"null\"\n",
    "      return val;\n",
    "    }}\n",
    "\n",
    "    function interpolatedValue(arr)\n",
    "    {{\n",
    "      //here we define the function on how to define the proper value - e.g. linear interpolation; we will use average \n",
    "      if (arr.length==0) return 0;\n",
    "      if (arr.length==1) return arr[0];\n",
    "      var sum = 0;\n",
    "      for (i=0;i<arr.length;i++)\n",
    "        {{sum+=arr[i];}}\n",
    "      return Math.round(sum/arr.length);\n",
    "    }}\n",
    "    \n",
    "    var results = {results_object}\n",
    "    \n",
    "    // We split each month into two halves. This will make it easier to append months to data cube later\n",
    "    var day_of_new_interval = {day_of_new_interval}\n",
    "    var endtime = new Date({endtime.timestamp()*1000}) // UNIX epoch in ms\n",
    "\n",
    "    function evaluatePixel(samples, scenes, inputMetadata, customData, outputMetadata) {{\n",
    "\n",
    "      //Debug part returning \"something\" if there are no  valid samples (no observations)\n",
    "      if (!samples.length)\n",
    "      return {debug_results}\n",
    "      \n",
    "      var is_in_last_half_of_month = endtime.getDate() >= day_of_new_interval\n",
    "      var interval_number = 0;\n",
    "      var int_bands = {int_bands}\n",
    "\n",
    "      for (var i = 0; i < samples.length; i++) {{\n",
    "        \n",
    "        //TODO order should be reversed when we go leastRecent\n",
    "        \n",
    "        // if scene is outside of current half of month, fill result array and change half of month\n",
    "        // algorithm starts with least recent observation\n",
    "        if (( !is_in_last_half_of_month && scenes[i].date.getDate() >= day_of_new_interval) ||\n",
    "            (  is_in_last_half_of_month && scenes[i].date.getDate() <  day_of_new_interval))\n",
    "        {{\n",
    "          fillResultArray(interval_number, int_bands)\n",
    "\n",
    "          //reset values\n",
    "          for (var int_b in int_bands) {{\n",
    "            int_bands[int_b] = []\n",
    "          }}\n",
    "\n",
    "          is_in_last_half_of_month = !is_in_last_half_of_month;\n",
    "          interval_number++;\n",
    "        }}\n",
    "\n",
    "        if (validate(samples[i]))\n",
    "        {{\n",
    "          // push input samples into their respective arrays\n",
    "          for (var int_b in int_bands) {{\n",
    "            int_bands[int_b].push(samples[i][int_b])\n",
    "          }}\n",
    "        }}\n",
    "\n",
    "      }}\n",
    "\n",
    "      //execute this for the last interval \n",
    "      fillResultArray(interval_number, int_bands);\n",
    "\n",
    "      return results\n",
    "    }}\n",
    "\n",
    "    function fillResultArray(interval_number, int_bands)\n",
    "    {{\n",
    "      for (var b in int_bands) {{\n",
    "        if(int_bands[b].length==0) results[b][interval_number] = 0\n",
    "        else results[b][interval_number] = interpolatedValue(int_bands[b])\n",
    "      }}\n",
    "      \n",
    "      for (var ix of {indices}) {{\n",
    "        //TODO: fix for other indices\n",
    "        results[ix][interval_number] = 65535*calculateIndex(results['B08'][interval_number],results['B04'][interval_number])\n",
    "      }}\n",
    "    }}\n",
    "    \n",
    "    function updateOutputMetadata(scenes, inputMetadata, outputMetadata) {{\n",
    "      outputMetadata.userData = {{\n",
    "        \"date_created\": Date(),\n",
    "        \"metadata\": scenes.map(s => {{\n",
    "          s.date = s.date.toString()\n",
    "          return s\n",
    "        }}),\n",
    "        \"time\" : {averages},\n",
    "        \"debug\": debug\n",
    "      }}\n",
    "    }}\n",
    "\"\"\""
   ]
  },
  {
   "cell_type": "code",
   "execution_count": 9,
   "metadata": {},
   "outputs": [],
   "source": [
    "payload = {\n",
    "  \"processRequest\": {\n",
    "    \"input\": {\n",
    "      \"bounds\": {\n",
    "        \"properties\": {\n",
    "          \"crs\": \"http://www.opengis.net/def/crs/OGC/1.3/CRS84\"\n",
    "        },\n",
    "        \"bbox\": [16.446445736463346, 47.680841561177864, 16.49776618971013, 47.72587417451863]\n",
    "      },\n",
    "      \"data\": [\n",
    "        {\n",
    "          \"location\": \"AWS:eu-central-1\",\n",
    "          \"type\": \"S2L2A\",\n",
    "          \"dataFilter\": {\n",
    "            \"timeRange\": {\n",
    "              \"from\": starttime.isoformat() + 'Z',\n",
    "              \"to\": endtime.isoformat() + 'Z'\n",
    "            },\n",
    "            \"mosaickingOrder\": \"mostRecent\",\n",
    "            \"maxCloudCoverage\": 100,\n",
    "            \"previewMode\": \"DETAIL\"\n",
    "          }\n",
    "        }\n",
    "      ]\n",
    "    },\n",
    "    \"output\": {\n",
    "#       \"width\": 512,\n",
    "#       \"height\": 512,\n",
    "      \"responses\": [*responses#,\n",
    "#         {\n",
    "#           \"identifier\": \"userdata\",\n",
    "#           \"format\": {\n",
    "#             \"type\": \"application/json\"\n",
    "#           }\n",
    "#         }\n",
    "      ]\n",
    "    },\n",
    "    \"evalscript\": evalscript\n",
    "  },\n",
    "  \"tilingGridId\": 0,\n",
    "  \"bucketName\": \"eox-masterdatacube\",\n",
    "  \"resolution\": 60.0,\n",
    "  \"description\": \"Test Loipersbach\"\n",
    "}\n",
    "\n",
    "headers = {\n",
    "  #'Accept': 'application/tar'\n",
    "}"
   ]
  },
  {
   "cell_type": "code",
   "execution_count": 10,
   "metadata": {},
   "outputs": [
    {
     "data": {
      "text/plain": [
       "{}"
      ]
     },
     "execution_count": 10,
     "metadata": {},
     "output_type": "execute_result"
    }
   ],
   "source": [
    "headers"
   ]
  },
  {
   "cell_type": "markdown",
   "metadata": {},
   "source": [
    "## Send request"
   ]
  },
  {
   "cell_type": "code",
   "execution_count": 11,
   "metadata": {},
   "outputs": [],
   "source": [
    "def generate_url(request_id=\"\", action=\"\"):\n",
    "    url = 'https://services.sentinel-hub.com/batch/v1/process/'\n",
    "    if request_id:\n",
    "        url += f'{request_id}/'\n",
    "        if action:\n",
    "            url += f'{action}'\n",
    "    return url"
   ]
  },
  {
   "cell_type": "code",
   "execution_count": 12,
   "metadata": {},
   "outputs": [
    {
     "name": "stdout",
     "output_type": "stream",
     "text": [
      "CPU times: user 3.73 ms, sys: 0 ns, total: 3.73 ms\n",
      "Wall time: 1.03 s\n"
     ]
    }
   ],
   "source": [
    "%%time\n",
    "response = oauth.request(\"POST\", generate_url(), headers=headers, json = payload)"
   ]
  },
  {
   "cell_type": "code",
   "execution_count": 13,
   "metadata": {},
   "outputs": [
    {
     "data": {
      "text/plain": [
       "201"
      ]
     },
     "execution_count": 13,
     "metadata": {},
     "output_type": "execute_result"
    }
   ],
   "source": [
    "response.status_code"
   ]
  },
  {
   "cell_type": "code",
   "execution_count": 14,
   "metadata": {},
   "outputs": [
    {
     "data": {
      "text/plain": [
       "{'id': '6f260844-e480-4976-981a-4087c7204bef',\n",
       " 'processRequest': {'input': {'bounds': {'bbox': [16.446445736463346,\n",
       "     47.680841561177864,\n",
       "     16.49776618971013,\n",
       "     47.72587417451863],\n",
       "    'geometry': None,\n",
       "    'properties': {'crs': 'http://www.opengis.net/def/crs/OGC/1.3/CRS84'}},\n",
       "   'data': [{'location': 'AWS:eu-central-1',\n",
       "     'dataFilter': {'timeRange': {'from': '2018-07-05T00:00:00Z',\n",
       "       'to': '2018-09-16T00:00:00Z'},\n",
       "      'mosaickingOrder': 'mostRecent',\n",
       "      'maxCloudCoverage': 100.0},\n",
       "     'processing': None,\n",
       "     'tileList': None,\n",
       "     'id': None,\n",
       "     'type': 'S2L2A'}]},\n",
       "  'output': {'width': None,\n",
       "   'height': None,\n",
       "   'resx': None,\n",
       "   'resy': None,\n",
       "   'responses': [{'identifier': 'B04', 'format': {'type': 'image/tiff'}},\n",
       "    {'identifier': 'B08', 'format': {'type': 'image/tiff'}},\n",
       "    {'identifier': 'B03', 'format': {'type': 'image/tiff'}},\n",
       "    {'identifier': 'NDVI', 'format': {'type': 'image/tiff'}}]},\n",
       "  'dataProduct': None,\n",
       "  'evalscript': '\\n    //VERSION=3\\n    \\n    var debug = []\\n    \\n    function setup(ds) {\\n      return {\\n        input: [{\\n          bands: [\\'B04\\', \\'B08\\', \\'B03\\', \\'SCL\\', \\'dataMask\\'], \\n          units: \"DN\"\\n        }],\\n        output: [        \\n          {id: \\'B04\\', bands: 6, sampleType: SampleType.UINT16},{id: \\'B08\\', bands: 6, sampleType: SampleType.UINT16},{id: \\'B03\\', bands: 6, sampleType: SampleType.UINT16},{id: \\'NDVI\\', bands: 6, sampleType: SampleType.UINT16}\\n        ],\\n        mosaicking: Mosaicking.ORBIT       \\n      }\\n    }\\n\\n    function validate (sample) {\\n      if (sample.dataMask!=1) return false;\\n\\n      var scl = Math.round(sample.SCL);\\n\\n      if (scl === 3) { // SC_CLOUD_SHADOW\\n        return false;\\n      } else if (scl === 9) { // SC_CLOUD_HIGH_PROBA\\n        return false; \\n      } else if (scl === 8) { // SC_CLOUD_MEDIUM_PROBA\\n        return false;\\n      } else if (scl === 7) { // SC_CLOUD_LOW_PROBA\\n        //return false;\\n      } else if (scl === 10) { // SC_THIN_CIRRUS\\n        return false;\\n      } else if (scl === 11) { // SC_SNOW_ICE\\n        return false;\\n      } else if (scl === 1) { // SC_SATURATED_DEFECTIVE\\n        return false;\\n      } else if (scl === 2) { // SC_DARK_FEATURE_SHADOW\\n        //return false;\\n      }\\n      return true;\\n    }\\n\\n    function calculateIndex(a,b)\\n    {\\n      if ((a+b)==0) return 0;\\n      var val = (a-b)/(a+b);\\n      if (val<0) val = 0;\\n      //TODO - we might need to return false instead of 0; depends on the output format - a value needs to be designated as \"null\"\\n      return val;\\n    }\\n\\n    function interpolatedValue(arr)\\n    {\\n      //here we define the function on how to define the proper value - e.g. linear interpolation; we will use average \\n      if (arr.length==0) return 0;\\n      if (arr.length==1) return arr[0];\\n      var sum = 0;\\n      for (i=0;i<arr.length;i++)\\n        {sum+=arr[i];}\\n      return Math.round(sum/arr.length);\\n    }\\n    \\n    var results = {B04: [],B08: [],B03: [],NDVI: []}\\n    \\n    // We split each month into two halves. This will make it easier to append months to data cube later\\n    var day_of_new_interval = 16\\n    var endtime = new Date(1537056000000.0) // UNIX epoch in ms\\n\\n    function evaluatePixel(samples, scenes, inputMetadata, customData, outputMetadata) {\\n\\n      //Debug part returning \"something\" if there are no  valid samples (no observations)\\n      if (!samples.length)\\n      return {B04: [1],B08: [2],B03: [3],NDVI: [4]}\\n      \\n      var is_in_last_half_of_month = endtime.getDate() >= day_of_new_interval\\n      var interval_number = 0;\\n      var int_bands = {B04: [],B08: [],B03: []}\\n\\n      for (var i = 0; i < samples.length; i++) {\\n        \\n        //TODO order should be reversed when we go leastRecent\\n        \\n        // if scene is outside of current half of month, fill result array and change half of month\\n        // algorithm starts with least recent observation\\n        if (( !is_in_last_half_of_month && scenes[i].date.getDate() >= day_of_new_interval) ||\\n            (  is_in_last_half_of_month && scenes[i].date.getDate() <  day_of_new_interval))\\n        {\\n          fillResultArray(interval_number, int_bands)\\n\\n          //reset values\\n          for (var int_b in int_bands) {\\n            int_bands[int_b] = []\\n          }\\n\\n          is_in_last_half_of_month = !is_in_last_half_of_month;\\n          interval_number++;\\n        }\\n\\n        if (validate(samples[i]))\\n        {\\n          // push input samples into their respective arrays\\n          for (var int_b in int_bands) {\\n            int_bands[int_b].push(samples[i][int_b])\\n          }\\n        }\\n\\n      }\\n\\n      //execute this for the last interval \\n      fillResultArray(interval_number, int_bands);\\n\\n      return results\\n    }\\n\\n    function fillResultArray(interval_number, int_bands)\\n    {\\n      for (var b in int_bands) {\\n        if(int_bands[b].length==0) results[b][interval_number] = 0\\n        else results[b][interval_number] = interpolatedValue(int_bands[b])\\n      }\\n      \\n      for (var ix of [\\'NDVI\\']) {\\n        //TODO: fix for other indices\\n        results[ix][interval_number] = 65535*calculateIndex(results[\\'B08\\'][interval_number],results[\\'B04\\'][interval_number])\\n      }\\n    }\\n    \\n    function updateOutputMetadata(scenes, inputMetadata, outputMetadata) {\\n      outputMetadata.userData = {\\n        \"date_created\": Date(),\\n        \"metadata\": scenes.map(s => {\\n          s.date = s.date.toString()\\n          return s\\n        }),\\n        \"time\" : [\\'2018-07-10T11:59:59.500000\\', \\'2018-07-23T23:59:59.500000\\', \\'2018-08-08T11:59:59.500000\\', \\'2018-08-23T23:59:59.500000\\', \\'2018-09-08T11:59:59.500000\\', \\'2018-09-16T11:59:59.500000\\'],\\n        \"debug\": debug\\n      }\\n    }\\n'},\n",
       " 'tilingGridId': 0,\n",
       " 'userId': 'cea7e9da-2035-45b1-94c8-361b1c6c2ea2',\n",
       " 'status': 'CREATED',\n",
       " 'userAction': 'NONE',\n",
       " 'bucketName': 'eox-masterdatacube',\n",
       " 'resolution': 60.0,\n",
       " 'description': 'Test Loipersbach',\n",
       " 'created': '2020-03-25T13:25:26.580Z',\n",
       " 'valueEstimate': 6.913693719679743,\n",
       " 'tileCount': None,\n",
       " 'tileWidthPx': 334,\n",
       " 'tileHeightPx': 334}"
      ]
     },
     "execution_count": 14,
     "metadata": {},
     "output_type": "execute_result"
    }
   ],
   "source": [
    "response.json()"
   ]
  },
  {
   "cell_type": "code",
   "execution_count": 15,
   "metadata": {},
   "outputs": [
    {
     "data": {
      "text/plain": [
       "'https://services.sentinel-hub.com/batch/v1/process/6f260844-e480-4976-981a-4087c7204bef/analyse'"
      ]
     },
     "execution_count": 15,
     "metadata": {},
     "output_type": "execute_result"
    }
   ],
   "source": [
    "analyse_url = generate_url(response.json()[\"id\"],'analyse')\n",
    "analyse_url"
   ]
  },
  {
   "cell_type": "code",
   "execution_count": 16,
   "metadata": {},
   "outputs": [
    {
     "data": {
      "text/plain": [
       "<Response [204]>"
      ]
     },
     "execution_count": 16,
     "metadata": {},
     "output_type": "execute_result"
    }
   ],
   "source": [
    "analysis_response = oauth.request(\"POST\", analyse_url)\n",
    "analysis_response"
   ]
  },
  {
   "cell_type": "code",
   "execution_count": 20,
   "metadata": {},
   "outputs": [
    {
     "data": {
      "text/plain": [
       "'DONE'"
      ]
     },
     "execution_count": 20,
     "metadata": {},
     "output_type": "execute_result"
    }
   ],
   "source": [
    "get_response = oauth.request(\"GET\", generate_url(response.json()[\"id\"]))\n",
    "get_response.json()['status']"
   ]
  },
  {
   "cell_type": "code",
   "execution_count": 18,
   "metadata": {},
   "outputs": [
    {
     "data": {
      "text/plain": [
       "<Response [204]>"
      ]
     },
     "execution_count": 18,
     "metadata": {},
     "output_type": "execute_result"
    }
   ],
   "source": [
    "oauth.request(\"POST\", generate_url(response.json()[\"id\"], 'start'))"
   ]
  },
  {
   "cell_type": "code",
   "execution_count": 19,
   "metadata": {},
   "outputs": [
    {
     "data": {
      "text/plain": [
       "140151580657648"
      ]
     },
     "execution_count": 19,
     "metadata": {},
     "output_type": "execute_result"
    }
   ],
   "source": [
    "id(response)"
   ]
  }
 ],
 "metadata": {
  "kernelspec": {
   "display_name": "Python 3",
   "language": "python",
   "name": "python3"
  },
  "language_info": {
   "codemirror_mode": {
    "name": "ipython",
    "version": 3
   },
   "file_extension": ".py",
   "mimetype": "text/x-python",
   "name": "python",
   "nbconvert_exporter": "python",
   "pygments_lexer": "ipython3",
   "version": "3.7.3"
  }
 },
 "nbformat": 4,
 "nbformat_minor": 4
}
