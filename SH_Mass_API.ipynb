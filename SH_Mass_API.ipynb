{
 "cells": [
  {
   "cell_type": "code",
   "execution_count": 1,
   "metadata": {},
   "outputs": [
    {
     "name": "stdout",
     "output_type": "stream",
     "text": [
      "Uninstalling jupyternotify-0.1.15:\n",
      "  Successfully uninstalled jupyternotify-0.1.15\n",
      "Collecting git+https://github.com/cphyc/jupyter-notify.git\n",
      "  Cloning https://github.com/cphyc/jupyter-notify.git to /tmp/pip-req-build-k_999jma\n",
      "  Running command git clone -q https://github.com/cphyc/jupyter-notify.git /tmp/pip-req-build-k_999jma\n",
      "Requirement already satisfied: ipython in /opt/conda/lib/python3.7/site-packages (from jupyternotify==0.1.15) (7.6.1)\n",
      "Requirement already satisfied: jupyter in /opt/conda/lib/python3.7/site-packages (from jupyternotify==0.1.15) (1.0.0)\n",
      "Requirement already satisfied: setuptools>=18.5 in /opt/conda/lib/python3.7/site-packages (from ipython->jupyternotify==0.1.15) (41.0.1)\n",
      "Requirement already satisfied: pickleshare in /opt/conda/lib/python3.7/site-packages (from ipython->jupyternotify==0.1.15) (0.7.5)\n",
      "Requirement already satisfied: pexpect; sys_platform != \"win32\" in /opt/conda/lib/python3.7/site-packages (from ipython->jupyternotify==0.1.15) (4.7.0)\n",
      "Requirement already satisfied: pygments in /opt/conda/lib/python3.7/site-packages (from ipython->jupyternotify==0.1.15) (2.4.2)\n",
      "Requirement already satisfied: decorator in /opt/conda/lib/python3.7/site-packages (from ipython->jupyternotify==0.1.15) (4.4.0)\n",
      "Requirement already satisfied: prompt-toolkit<2.1.0,>=2.0.0 in /opt/conda/lib/python3.7/site-packages (from ipython->jupyternotify==0.1.15) (2.0.9)\n",
      "Requirement already satisfied: traitlets>=4.2 in /opt/conda/lib/python3.7/site-packages (from ipython->jupyternotify==0.1.15) (4.3.2)\n",
      "Requirement already satisfied: backcall in /opt/conda/lib/python3.7/site-packages (from ipython->jupyternotify==0.1.15) (0.1.0)\n",
      "Requirement already satisfied: jedi>=0.10 in /opt/conda/lib/python3.7/site-packages (from ipython->jupyternotify==0.1.15) (0.14.1)\n",
      "Requirement already satisfied: ipykernel in /opt/conda/lib/python3.7/site-packages (from jupyter->jupyternotify==0.1.15) (5.1.1)\n",
      "Requirement already satisfied: nbconvert in /opt/conda/lib/python3.7/site-packages (from jupyter->jupyternotify==0.1.15) (5.5.0)\n",
      "Requirement already satisfied: jupyter-console in /opt/conda/lib/python3.7/site-packages (from jupyter->jupyternotify==0.1.15) (6.1.0)\n",
      "Requirement already satisfied: qtconsole in /opt/conda/lib/python3.7/site-packages (from jupyter->jupyternotify==0.1.15) (4.7.1)\n",
      "Requirement already satisfied: ipywidgets in /opt/conda/lib/python3.7/site-packages (from jupyter->jupyternotify==0.1.15) (7.5.0)\n",
      "Requirement already satisfied: notebook in /opt/conda/lib/python3.7/site-packages (from jupyter->jupyternotify==0.1.15) (5.7.8)\n",
      "Requirement already satisfied: ptyprocess>=0.5 in /opt/conda/lib/python3.7/site-packages (from pexpect; sys_platform != \"win32\"->ipython->jupyternotify==0.1.15) (0.6.0)\n",
      "Requirement already satisfied: wcwidth in /opt/conda/lib/python3.7/site-packages (from prompt-toolkit<2.1.0,>=2.0.0->ipython->jupyternotify==0.1.15) (0.1.7)\n",
      "Requirement already satisfied: six>=1.9.0 in /opt/conda/lib/python3.7/site-packages (from prompt-toolkit<2.1.0,>=2.0.0->ipython->jupyternotify==0.1.15) (1.12.0)\n",
      "Requirement already satisfied: ipython_genutils in /opt/conda/lib/python3.7/site-packages (from traitlets>=4.2->ipython->jupyternotify==0.1.15) (0.2.0)\n",
      "Requirement already satisfied: parso>=0.5.0 in /opt/conda/lib/python3.7/site-packages (from jedi>=0.10->ipython->jupyternotify==0.1.15) (0.5.1)\n",
      "Requirement already satisfied: jupyter-client in /opt/conda/lib/python3.7/site-packages (from ipykernel->jupyter->jupyternotify==0.1.15) (5.3.1)\n",
      "Requirement already satisfied: tornado>=4.2 in /opt/conda/lib/python3.7/site-packages (from ipykernel->jupyter->jupyternotify==0.1.15) (6.0.3)\n",
      "Requirement already satisfied: pandocfilters>=1.4.1 in /opt/conda/lib/python3.7/site-packages (from nbconvert->jupyter->jupyternotify==0.1.15) (1.4.2)\n",
      "Requirement already satisfied: defusedxml in /opt/conda/lib/python3.7/site-packages (from nbconvert->jupyter->jupyternotify==0.1.15) (0.5.0)\n",
      "Requirement already satisfied: bleach in /opt/conda/lib/python3.7/site-packages (from nbconvert->jupyter->jupyternotify==0.1.15) (3.1.0)\n",
      "Requirement already satisfied: entrypoints>=0.2.2 in /opt/conda/lib/python3.7/site-packages (from nbconvert->jupyter->jupyternotify==0.1.15) (0.3)\n",
      "Requirement already satisfied: nbformat>=4.4 in /opt/conda/lib/python3.7/site-packages (from nbconvert->jupyter->jupyternotify==0.1.15) (4.4.0)\n",
      "Requirement already satisfied: jupyter-core in /opt/conda/lib/python3.7/site-packages (from nbconvert->jupyter->jupyternotify==0.1.15) (4.4.0)\n",
      "Requirement already satisfied: mistune>=0.8.1 in /opt/conda/lib/python3.7/site-packages (from nbconvert->jupyter->jupyternotify==0.1.15) (0.8.4)\n",
      "Requirement already satisfied: jinja2>=2.4 in /opt/conda/lib/python3.7/site-packages (from nbconvert->jupyter->jupyternotify==0.1.15) (2.10.1)\n",
      "Requirement already satisfied: testpath in /opt/conda/lib/python3.7/site-packages (from nbconvert->jupyter->jupyternotify==0.1.15) (0.4.2)\n",
      "Requirement already satisfied: qtpy in /opt/conda/lib/python3.7/site-packages (from qtconsole->jupyter->jupyternotify==0.1.15) (1.9.0)\n",
      "Requirement already satisfied: widgetsnbextension~=3.5.0 in /opt/conda/lib/python3.7/site-packages (from ipywidgets->jupyter->jupyternotify==0.1.15) (3.5.0)\n",
      "Requirement already satisfied: terminado>=0.8.1 in /opt/conda/lib/python3.7/site-packages (from notebook->jupyter->jupyternotify==0.1.15) (0.8.2)\n",
      "Requirement already satisfied: Send2Trash in /opt/conda/lib/python3.7/site-packages (from notebook->jupyter->jupyternotify==0.1.15) (1.5.0)\n",
      "Requirement already satisfied: prometheus-client in /opt/conda/lib/python3.7/site-packages (from notebook->jupyter->jupyternotify==0.1.15) (0.7.1)\n",
      "Requirement already satisfied: pyzmq>=17 in /opt/conda/lib/python3.7/site-packages (from notebook->jupyter->jupyternotify==0.1.15) (18.0.2)\n",
      "Requirement already satisfied: python-dateutil>=2.1 in /opt/conda/lib/python3.7/site-packages (from jupyter-client->ipykernel->jupyter->jupyternotify==0.1.15) (2.8.0)\n",
      "Requirement already satisfied: webencodings in /opt/conda/lib/python3.7/site-packages (from bleach->nbconvert->jupyter->jupyternotify==0.1.15) (0.5.1)\n",
      "Requirement already satisfied: jsonschema!=2.5.0,>=2.4 in /opt/conda/lib/python3.7/site-packages (from nbformat>=4.4->nbconvert->jupyter->jupyternotify==0.1.15) (3.0.1)\n",
      "Requirement already satisfied: MarkupSafe>=0.23 in /opt/conda/lib/python3.7/site-packages (from jinja2>=2.4->nbconvert->jupyter->jupyternotify==0.1.15) (1.1.1)\n",
      "Requirement already satisfied: attrs>=17.4.0 in /opt/conda/lib/python3.7/site-packages (from jsonschema!=2.5.0,>=2.4->nbformat>=4.4->nbconvert->jupyter->jupyternotify==0.1.15) (19.1.0)\n",
      "Requirement already satisfied: pyrsistent>=0.14.0 in /opt/conda/lib/python3.7/site-packages (from jsonschema!=2.5.0,>=2.4->nbformat>=4.4->nbconvert->jupyter->jupyternotify==0.1.15) (0.15.3)\n",
      "Building wheels for collected packages: jupyternotify\n",
      "  Building wheel for jupyternotify (setup.py) ... \u001b[?25ldone\n",
      "\u001b[?25h  Stored in directory: /tmp/pip-ephem-wheel-cache-0lsipjmg/wheels/06/14/b3/01f4b7bbd1dc28a3e33d5163d145316c6714d9db6dd327947a\n",
      "Successfully built jupyternotify\n",
      "Installing collected packages: jupyternotify\n",
      "Successfully installed jupyternotify-0.1.15\n"
     ]
    },
    {
     "data": {
      "application/javascript": [
       "if (!(\"Notification\" in window)) {\n",
       "    alert(\"This browser does not support desktop notifications, so the %%notify magic will not work.\");\n",
       "} else if (Notification.permission !== 'granted' && Notification.permission !== 'denied') {\n",
       "    Notification.requestPermission(function (permission) {\n",
       "        if(!('permission' in Notification)) {\n",
       "            Notification.permission = permission;\n",
       "        }\n",
       "    })\n",
       "}\n",
       "\n",
       "if(!window.jQuery) {\n",
       "    var jq = document.createElement('script');\n",
       "    jq.src = \"//ajax.googleapis.com/ajax/libs/jquery/2.1.4/jquery.min.js\";\n",
       "    document.getElementsByTagName('head')[0].appendChild(jq);\n",
       "}\n",
       "\n",
       "// Detect if the window is out of focus.\n",
       "window.jupyterNotifyIsInBackground = undefined;\n",
       "(function() {\n",
       "    // Check document.hidden support\n",
       "    var hidden;\n",
       "    if (typeof document.hidden !== \"undefined\") { // Opera 12.10 and Firefox 18 and later support\n",
       "      hidden = \"hidden\";\n",
       "    } else if (typeof document.msHidden !== \"undefined\") {\n",
       "      hidden = \"msHidden\";\n",
       "    } else if (typeof document.webkitHidden !== \"undefined\") {\n",
       "      hidden = \"webkitHidden\";\n",
       "    }\n",
       "\n",
       "    // Set initial background state\n",
       "    if (document[hidden]) {\n",
       "      window.jupyterNotifyIsInBackground = true;\n",
       "    } else {\n",
       "      window.jupyterNotifyIsInBackground = false;\n",
       "    }\n",
       "\n",
       "    window.addEventListener('blur', function() { window.jupyterNotifyIsInBackground = true; }, false);\n",
       "    window.addEventListener('focus', function() { window.jupyterNotifyIsInBackground = false; }, false);\n",
       "})();\n"
      ],
      "text/plain": [
       "<IPython.core.display.Javascript object>"
      ]
     },
     "metadata": {},
     "output_type": "display_data"
    }
   ],
   "source": [
    "!pip uninstall jupyternotify -y\n",
    "!pip install git+https://github.com/cphyc/jupyter-notify.git\n",
    "%reload_ext jupyternotify"
   ]
  },
  {
   "cell_type": "code",
   "execution_count": 2,
   "metadata": {},
   "outputs": [],
   "source": [
    "# load credentials from environment variables\n",
    "%load_ext dotenv\n",
    "%dotenv\n",
    "\n",
    "# util\n",
    "import numpy as np\n",
    "\n",
    "# date & time\n",
    "from datetime import timezone, date, datetime\n",
    "from dateutil.relativedelta import relativedelta as rdelta\n",
    "from dateutil.rrule import rrule, MONTHLY\n",
    "\n",
    "# output processing and plotting\n",
    "import io\n",
    "import tarfile\n",
    "import rasterio\n",
    "from rasterio.plot import show\n",
    "from matplotlib import pyplot\n",
    "\n",
    "# Oauth\n",
    "from oauthlib.oauth2 import BackendApplicationClient\n",
    "from requests_oauthlib import OAuth2Session"
   ]
  },
  {
   "cell_type": "markdown",
   "metadata": {},
   "source": [
    "## Get authorization token"
   ]
  },
  {
   "cell_type": "code",
   "execution_count": 4,
   "metadata": {},
   "outputs": [],
   "source": [
    "# Your client credentials\n",
    "client_id = %env SH_CLIENT_ID\n",
    "client_secret = %env SH_CLIENT_SECRET\n",
    "\n",
    "# Create a session\n",
    "client = BackendApplicationClient(client_id=client_id)\n",
    "oauth = OAuth2Session(client=client)\n",
    "\n",
    "token = oauth.fetch_token(token_url='https://services.sentinel-hub.com/oauth/token',\n",
    "                          client_id=client_id, client_secret=client_secret)\n",
    "\n",
    "resp = oauth.get(\"https://services.sentinel-hub.com/oauth/tokeninfo\")"
   ]
  },
  {
   "cell_type": "markdown",
   "metadata": {},
   "source": [
    "## Configure request (evalscript)\n",
    "\n",
    "Enter start and end date, input bands, indices. The resulting files will have two time intervals per month, being split at `day_of_new_interval`."
   ]
  },
  {
   "cell_type": "code",
   "execution_count": 5,
   "metadata": {},
   "outputs": [],
   "source": [
    "startdate = date(2018,7,5) # Y,M,D\n",
    "enddate = date(2018,9,16)  # Y,M,D\n",
    "\n",
    "input_bands = [\"B04\",\"B08\", \"B03\"]\n",
    "indices = ['NDVI']\n",
    "\n",
    "day_of_new_interval = 16 # leave this unchanged in most of the cases"
   ]
  },
  {
   "cell_type": "markdown",
   "metadata": {},
   "source": [
    "### Calculate parameters"
   ]
  },
  {
   "cell_type": "code",
   "execution_count": 6,
   "metadata": {
    "scrolled": true
   },
   "outputs": [],
   "source": [
    "starttime = datetime(*startdate.timetuple()[:6])\n",
    "endtime = datetime(*enddate.timetuple()[:6])\n",
    "\n",
    "d=day_of_new_interval\n",
    "full_month_dates = list(rrule(MONTHLY, dtstart=startdate, until=enddate, bymonthday=[1,d-1,d,31]))\n",
    "all_dates = [starttime] + full_month_dates + [endtime] # bounds of all intervals\n",
    "\n",
    "starts = all_dates[0::2]\n",
    "starts = [int(d.timestamp()) for d in starts] # timestamps for arithmetic\n",
    "ends   = [d+rdelta(hour=23, minute=59, second=59) for d in all_dates[1::2]]\n",
    "ends   = [int(d.timestamp()) for d in ends]   # timestamps for arithmetic\n",
    "averages = list(np.mean(list(zip(starts,ends)), axis=1))\n",
    "averages = [datetime.utcfromtimestamp(a) for a in averages]\n",
    "averages = [dt.isoformat() for dt in averages]"
   ]
  },
  {
   "cell_type": "code",
   "execution_count": 7,
   "metadata": {},
   "outputs": [],
   "source": [
    "masks = [\"SCL\", \"dataMask\"] # SCL ... Scene Classification Layer\n",
    "\n",
    "output_bands = input_bands + indices\n",
    "output_array =  ','.join([f\"{{id: '{ob}', bands: {len(averages)}, \"+\n",
    "                          f\"sampleType: SampleType.UINT16}}\" for ob in output_bands])\n",
    "int_bands = '{' + ','.join([f'{ib}: []' for ib in input_bands]) + '}'\n",
    "results_object = '{' + ','.join([f'{ob}: []' for ob in output_bands]) + '}'\n",
    "debug_results = '{' + ','.join([f\"{output_bands[i]}: [{i+1}]\" for i in range(len(output_bands))]) + '}'\n",
    "responses = [{\"identifier\": ob,\"format\": {\"type\": \"image/tiff\"}} for ob in output_bands]"
   ]
  },
  {
   "cell_type": "markdown",
   "metadata": {},
   "source": [
    "### Evalscript & Payload"
   ]
  },
  {
   "cell_type": "code",
   "execution_count": 8,
   "metadata": {
    "scrolled": true
   },
   "outputs": [],
   "source": [
    "#double curly brackets render as single curly brackets in f-strings\n",
    "evalscript = f\"\"\"\n",
    "    //VERSION=3\n",
    "    \n",
    "    var debug = []\n",
    "    \n",
    "    function setup(ds) {{\n",
    "      return {{\n",
    "        input: [{{\n",
    "          bands: {str(input_bands + masks)}, \n",
    "          units: \"DN\"\n",
    "        }}],\n",
    "        output: [        \n",
    "          {output_array}\n",
    "        ],\n",
    "        mosaicking: Mosaicking.ORBIT       \n",
    "      }}\n",
    "    }}\n",
    "\n",
    "    function validate (sample) {{\n",
    "      if (sample.dataMask!=1) return false;\n",
    "\n",
    "      var scl = Math.round(sample.SCL);\n",
    "\n",
    "      if (scl === 3) {{ // SC_CLOUD_SHADOW\n",
    "        return false;\n",
    "      }} else if (scl === 9) {{ // SC_CLOUD_HIGH_PROBA\n",
    "        return false; \n",
    "      }} else if (scl === 8) {{ // SC_CLOUD_MEDIUM_PROBA\n",
    "        return false;\n",
    "      }} else if (scl === 7) {{ // SC_CLOUD_LOW_PROBA\n",
    "        //return false;\n",
    "      }} else if (scl === 10) {{ // SC_THIN_CIRRUS\n",
    "        return false;\n",
    "      }} else if (scl === 11) {{ // SC_SNOW_ICE\n",
    "        return false;\n",
    "      }} else if (scl === 1) {{ // SC_SATURATED_DEFECTIVE\n",
    "        return false;\n",
    "      }} else if (scl === 2) {{ // SC_DARK_FEATURE_SHADOW\n",
    "        //return false;\n",
    "      }}\n",
    "      return true;\n",
    "    }}\n",
    "\n",
    "    function calculateIndex(a,b)\n",
    "    {{\n",
    "      if ((a+b)==0) return 0;\n",
    "      var val = (a-b)/(a+b);\n",
    "      if (val<0) val = 0;\n",
    "      //TODO - we might need to return false instead of 0; depends on the output format - a value needs to be designated as \"null\"\n",
    "      return val;\n",
    "    }}\n",
    "\n",
    "    function interpolatedValue(arr)\n",
    "    {{\n",
    "      //here we define the function on how to define the proper value - e.g. linear interpolation; we will use average \n",
    "      if (arr.length==0) return 0;\n",
    "      if (arr.length==1) return arr[0];\n",
    "      var sum = 0;\n",
    "      for (i=0;i<arr.length;i++)\n",
    "        {{sum+=arr[i];}}\n",
    "      return Math.round(sum/arr.length);\n",
    "    }}\n",
    "    \n",
    "    var results = {results_object}\n",
    "    \n",
    "    // We split each month into two halves. This will make it easier to append months to data cube later\n",
    "    var day_of_new_interval = {day_of_new_interval}\n",
    "    var endtime = new Date({endtime.timestamp()*1000}) // UNIX epoch in ms\n",
    "\n",
    "    function evaluatePixel(samples, scenes, inputMetadata, customData, outputMetadata) {{\n",
    "\n",
    "      //Debug part returning \"something\" if there are no  valid samples (no observations)\n",
    "      if (!samples.length)\n",
    "      return {debug_results}\n",
    "      \n",
    "      var is_in_last_half_of_month = endtime.getDate() >= day_of_new_interval\n",
    "      var interval_number = 0;\n",
    "      var int_bands = {int_bands}\n",
    "\n",
    "      for (var i = 0; i < samples.length; i++) {{\n",
    "        \n",
    "        //TODO order should be reversed when we go leastRecent\n",
    "        \n",
    "        // if scene is outside of current half of month, fill result array and change half of month\n",
    "        // algorithm starts with least recent observation\n",
    "        if (( !is_in_last_half_of_month && scenes[i].date.getDate() >= day_of_new_interval) ||\n",
    "            (  is_in_last_half_of_month && scenes[i].date.getDate() <  day_of_new_interval))\n",
    "        {{\n",
    "          fillResultArray(interval_number, int_bands)\n",
    "\n",
    "          //reset values\n",
    "          for (var int_b in int_bands) {{\n",
    "            int_bands[int_b] = []\n",
    "          }}\n",
    "\n",
    "          is_in_last_half_of_month = !is_in_last_half_of_month;\n",
    "          interval_number++;\n",
    "        }}\n",
    "\n",
    "        if (validate(samples[i]))\n",
    "        {{\n",
    "          // push input samples into their respective arrays\n",
    "          for (var int_b in int_bands) {{\n",
    "            int_bands[int_b].push(samples[i][int_b])\n",
    "          }}\n",
    "        }}\n",
    "\n",
    "      }}\n",
    "\n",
    "      //execute this for the last interval \n",
    "      fillResultArray(interval_number, int_bands);\n",
    "\n",
    "      return results\n",
    "    }}\n",
    "\n",
    "    function fillResultArray(interval_number, int_bands)\n",
    "    {{\n",
    "      for (var b in int_bands) {{\n",
    "        if(int_bands[b].length==0) results[b][interval_number] = 0\n",
    "        else results[b][interval_number] = interpolatedValue(int_bands[b])\n",
    "      }}\n",
    "      \n",
    "      for (var ix of {indices}) {{\n",
    "        //TODO: fix for other indices\n",
    "        results[ix][interval_number] = 65535*calculateIndex(results['B08'][interval_number],results['B04'][interval_number])\n",
    "      }}\n",
    "    }}\n",
    "    \n",
    "    function updateOutputMetadata(scenes, inputMetadata, outputMetadata) {{\n",
    "      outputMetadata.userData = {{\n",
    "        \"date_created\": Date(),\n",
    "        \"metadata\": scenes.map(s => {{\n",
    "          s.date = s.date.toString()\n",
    "          return s\n",
    "        }}),\n",
    "        \"time\" : {averages},\n",
    "        \"debug\": debug\n",
    "      }}\n",
    "    }}\n",
    "\"\"\""
   ]
  },
  {
   "cell_type": "code",
   "execution_count": 9,
   "metadata": {},
   "outputs": [],
   "source": [
    "payload = {\n",
    "  \"processRequest\": {\n",
    "    \"input\": {\n",
    "      \"bounds\": {\n",
    "        \"properties\": {\n",
    "          \"crs\": \"http://www.opengis.net/def/crs/OGC/1.3/CRS84\"\n",
    "        },\n",
    "        \"bbox\": [16.446445736463346, 47.680841561177864, 16.49776618971013, 47.72587417451863]\n",
    "      },\n",
    "      \"data\": [\n",
    "        {\n",
    "          \"location\": \"AWS:eu-central-1\",\n",
    "          \"type\": \"S2L2A\",\n",
    "          \"dataFilter\": {\n",
    "            \"timeRange\": {\n",
    "              \"from\": starttime.isoformat() + 'Z',\n",
    "              \"to\": endtime.isoformat() + 'Z'\n",
    "            },\n",
    "            \"mosaickingOrder\": \"mostRecent\",\n",
    "            \"maxCloudCoverage\": 100,\n",
    "            \"previewMode\": \"DETAIL\"\n",
    "          }\n",
    "        }\n",
    "      ]\n",
    "    },\n",
    "    \"output\": {\n",
    "#       \"width\": 512,\n",
    "#       \"height\": 512,\n",
    "      \"responses\": [*responses#,\n",
    "#         {\n",
    "#           \"identifier\": \"userdata\",\n",
    "#           \"format\": {\n",
    "#             \"type\": \"application/json\"\n",
    "#           }\n",
    "#         }\n",
    "      ]\n",
    "    },\n",
    "    \"evalscript\": evalscript\n",
    "  },\n",
    "  \"tilingGridId\": 0,\n",
    "  \"bucketName\": \"eox-masterdatacube\",\n",
    "  \"resolution\": 60.0,\n",
    "  \"description\": \"Test Loipersbach\"\n",
    "}\n",
    "\n",
    "headers = {\n",
    "  #'Accept': 'application/tar'\n",
    "}"
   ]
  },
  {
   "cell_type": "code",
   "execution_count": 10,
   "metadata": {},
   "outputs": [
    {
     "data": {
      "text/plain": [
       "{}"
      ]
     },
     "execution_count": 10,
     "metadata": {},
     "output_type": "execute_result"
    }
   ],
   "source": [
    "headers"
   ]
  },
  {
   "cell_type": "markdown",
   "metadata": {},
   "source": [
    "## Send request"
   ]
  },
  {
   "cell_type": "code",
   "execution_count": 11,
   "metadata": {},
   "outputs": [],
   "source": [
    "def generate_url(request_id=\"\", action=\"\"):\n",
    "    url = 'https://services.sentinel-hub.com/batch/v1/process/'\n",
    "    if request_id:\n",
    "        url += f'{request_id}/'\n",
    "        if action:\n",
    "            url += f'{action}'\n",
    "    return url"
   ]
  },
  {
   "cell_type": "code",
   "execution_count": 12,
   "metadata": {},
   "outputs": [
    {
     "name": "stdout",
     "output_type": "stream",
     "text": [
      "CPU times: user 3.73 ms, sys: 0 ns, total: 3.73 ms\n",
      "Wall time: 1.03 s\n"
     ]
    }
   ],
   "source": [
    "%%time\n",
    "response = oauth.request(\"POST\", generate_url(), headers=headers, json = payload)"
   ]
  },
  {
   "cell_type": "code",
   "execution_count": 13,
   "metadata": {},
   "outputs": [
    {
     "data": {
      "text/plain": [
       "201"
      ]
     },
     "execution_count": 13,
     "metadata": {},
     "output_type": "execute_result"
    }
   ],
   "source": [
    "response.status_code"
   ]
  },
  {
   "cell_type": "code",
   "execution_count": 14,
   "metadata": {},
   "outputs": [
    {
     "data": {
      "text/plain": [
       "{'id': '6f260844-e480-4976-981a-4087c7204bef',\n",
       " 'processRequest': {'input': {'bounds': {'bbox': [16.446445736463346,\n",
       "     47.680841561177864,\n",
       "     16.49776618971013,\n",
       "     47.72587417451863],\n",
       "    'geometry': None,\n",
       "    'properties': {'crs': 'http://www.opengis.net/def/crs/OGC/1.3/CRS84'}},\n",
       "   'data': [{'location': 'AWS:eu-central-1',\n",
       "     'dataFilter': {'timeRange': {'from': '2018-07-05T00:00:00Z',\n",
       "       'to': '2018-09-16T00:00:00Z'},\n",
       "      'mosaickingOrder': 'mostRecent',\n",
       "      'maxCloudCoverage': 100.0},\n",
       "     'processing': None,\n",
       "     'tileList': None,\n",
       "     'id': None,\n",
       "     'type': 'S2L2A'}]},\n",
       "  'output': {'width': None,\n",
       "   'height': None,\n",
       "   'resx': None,\n",
       "   'resy': None,\n",
       "   'responses': [{'identifier': 'B04', 'format': {'type': 'image/tiff'}},\n",
       "    {'identifier': 'B08', 'format': {'type': 'image/tiff'}},\n",
       "    {'identifier': 'B03', 'format': {'type': 'image/tiff'}},\n",
       "    {'identifier': 'NDVI', 'format': {'type': 'image/tiff'}}]},\n",
       "  'dataProduct': None,\n",
       "  'evalscript': '\\n    //VERSION=3\\n    \\n    var debug = []\\n    \\n    function setup(ds) {\\n      return {\\n        input: [{\\n          bands: [\\'B04\\', \\'B08\\', \\'B03\\', \\'SCL\\', \\'dataMask\\'], \\n          units: \"DN\"\\n        }],\\n        output: [        \\n          {id: \\'B04\\', bands: 6, sampleType: SampleType.UINT16},{id: \\'B08\\', bands: 6, sampleType: SampleType.UINT16},{id: \\'B03\\', bands: 6, sampleType: SampleType.UINT16},{id: \\'NDVI\\', bands: 6, sampleType: SampleType.UINT16}\\n        ],\\n        mosaicking: Mosaicking.ORBIT       \\n      }\\n    }\\n\\n    function validate (sample) {\\n      if (sample.dataMask!=1) return false;\\n\\n      var scl = Math.round(sample.SCL);\\n\\n      if (scl === 3) { // SC_CLOUD_SHADOW\\n        return false;\\n      } else if (scl === 9) { // SC_CLOUD_HIGH_PROBA\\n        return false; \\n      } else if (scl === 8) { // SC_CLOUD_MEDIUM_PROBA\\n        return false;\\n      } else if (scl === 7) { // SC_CLOUD_LOW_PROBA\\n        //return false;\\n      } else if (scl === 10) { // SC_THIN_CIRRUS\\n        return false;\\n      } else if (scl === 11) { // SC_SNOW_ICE\\n        return false;\\n      } else if (scl === 1) { // SC_SATURATED_DEFECTIVE\\n        return false;\\n      } else if (scl === 2) { // SC_DARK_FEATURE_SHADOW\\n        //return false;\\n      }\\n      return true;\\n    }\\n\\n    function calculateIndex(a,b)\\n    {\\n      if ((a+b)==0) return 0;\\n      var val = (a-b)/(a+b);\\n      if (val<0) val = 0;\\n      //TODO - we might need to return false instead of 0; depends on the output format - a value needs to be designated as \"null\"\\n      return val;\\n    }\\n\\n    function interpolatedValue(arr)\\n    {\\n      //here we define the function on how to define the proper value - e.g. linear interpolation; we will use average \\n      if (arr.length==0) return 0;\\n      if (arr.length==1) return arr[0];\\n      var sum = 0;\\n      for (i=0;i<arr.length;i++)\\n        {sum+=arr[i];}\\n      return Math.round(sum/arr.length);\\n    }\\n    \\n    var results = {B04: [],B08: [],B03: [],NDVI: []}\\n    \\n    // We split each month into two halves. This will make it easier to append months to data cube later\\n    var day_of_new_interval = 16\\n    var endtime = new Date(1537056000000.0) // UNIX epoch in ms\\n\\n    function evaluatePixel(samples, scenes, inputMetadata, customData, outputMetadata) {\\n\\n      //Debug part returning \"something\" if there are no  valid samples (no observations)\\n      if (!samples.length)\\n      return {B04: [1],B08: [2],B03: [3],NDVI: [4]}\\n      \\n      var is_in_last_half_of_month = endtime.getDate() >= day_of_new_interval\\n      var interval_number = 0;\\n      var int_bands = {B04: [],B08: [],B03: []}\\n\\n      for (var i = 0; i < samples.length; i++) {\\n        \\n        //TODO order should be reversed when we go leastRecent\\n        \\n        // if scene is outside of current half of month, fill result array and change half of month\\n        // algorithm starts with least recent observation\\n        if (( !is_in_last_half_of_month && scenes[i].date.getDate() >= day_of_new_interval) ||\\n            (  is_in_last_half_of_month && scenes[i].date.getDate() <  day_of_new_interval))\\n        {\\n          fillResultArray(interval_number, int_bands)\\n\\n          //reset values\\n          for (var int_b in int_bands) {\\n            int_bands[int_b] = []\\n          }\\n\\n          is_in_last_half_of_month = !is_in_last_half_of_month;\\n          interval_number++;\\n        }\\n\\n        if (validate(samples[i]))\\n        {\\n          // push input samples into their respective arrays\\n          for (var int_b in int_bands) {\\n            int_bands[int_b].push(samples[i][int_b])\\n          }\\n        }\\n\\n      }\\n\\n      //execute this for the last interval \\n      fillResultArray(interval_number, int_bands);\\n\\n      return results\\n    }\\n\\n    function fillResultArray(interval_number, int_bands)\\n    {\\n      for (var b in int_bands) {\\n        if(int_bands[b].length==0) results[b][interval_number] = 0\\n        else results[b][interval_number] = interpolatedValue(int_bands[b])\\n      }\\n      \\n      for (var ix of [\\'NDVI\\']) {\\n        //TODO: fix for other indices\\n        results[ix][interval_number] = 65535*calculateIndex(results[\\'B08\\'][interval_number],results[\\'B04\\'][interval_number])\\n      }\\n    }\\n    \\n    function updateOutputMetadata(scenes, inputMetadata, outputMetadata) {\\n      outputMetadata.userData = {\\n        \"date_created\": Date(),\\n        \"metadata\": scenes.map(s => {\\n          s.date = s.date.toString()\\n          return s\\n        }),\\n        \"time\" : [\\'2018-07-10T11:59:59.500000\\', \\'2018-07-23T23:59:59.500000\\', \\'2018-08-08T11:59:59.500000\\', \\'2018-08-23T23:59:59.500000\\', \\'2018-09-08T11:59:59.500000\\', \\'2018-09-16T11:59:59.500000\\'],\\n        \"debug\": debug\\n      }\\n    }\\n'},\n",
       " 'tilingGridId': 0,\n",
       " 'userId': 'cea7e9da-2035-45b1-94c8-361b1c6c2ea2',\n",
       " 'status': 'CREATED',\n",
       " 'userAction': 'NONE',\n",
       " 'bucketName': 'eox-masterdatacube',\n",
       " 'resolution': 60.0,\n",
       " 'description': 'Test Loipersbach',\n",
       " 'created': '2020-03-25T13:25:26.580Z',\n",
       " 'valueEstimate': 6.913693719679743,\n",
       " 'tileCount': None,\n",
       " 'tileWidthPx': 334,\n",
       " 'tileHeightPx': 334}"
      ]
     },
     "execution_count": 14,
     "metadata": {},
     "output_type": "execute_result"
    }
   ],
   "source": [
    "response.json()"
   ]
  },
  {
   "cell_type": "code",
   "execution_count": 14,
   "metadata": {
    "jupyter": {
     "source_hidden": true
    }
   },
   "outputs": [
    {
     "data": {
      "text/plain": [
       "<Response [204]>"
      ]
     },
     "execution_count": 14,
     "metadata": {},
     "output_type": "execute_result"
    }
   ],
   "source": [
    "analysis_response = oauth.request(\"POST\", generate_url(response.json()[\"id\"],'analyse'))\n",
    "analysis_response"
   ]
  },
  {
   "cell_type": "code",
   "execution_count": 15,
   "metadata": {},
   "outputs": [
    {
     "data": {
      "text/plain": [
       "<Response [204]>"
      ]
     },
     "execution_count": 15,
     "metadata": {},
     "output_type": "execute_result"
    }
   ],
   "source": [
    "oauth.request(\"POST\", generate_url(response.json()[\"id\"], 'start'))"
   ]
  },
  {
   "cell_type": "code",
   "execution_count": 18,
   "metadata": {},
   "outputs": [
    {
     "name": "stdout",
     "output_type": "stream",
     "text": [
      "CPU times: user 3.02 ms, sys: 409 µs, total: 3.43 ms\n",
      "Wall time: 1.01 s\n"
     ]
    },
    {
     "data": {
      "text/plain": [
       "'DONE'"
      ]
     },
     "execution_count": 18,
     "metadata": {},
     "output_type": "execute_result"
    },
    {
     "data": {
      "application/javascript": [
       "$(document).ready(\n",
       "    function() {\n",
       "        function appendUniqueDiv(){\n",
       "            // append a div with our uuid so we can check that it's already\n",
       "            // been sent and avoid duplicates on page reload\n",
       "            var notifiedDiv = document.createElement(\"div\")\n",
       "            notifiedDiv.id = \"8be01eec-9d07-48ef-8cfa-88a915c1986d\"\n",
       "            element.append(notifiedDiv)\n",
       "        }\n",
       "\n",
       "        // only send notifications if the pageload is complete; this will\n",
       "        // help stop extra notifications when a saved notebook is loaded,\n",
       "        // which during testing gives us state \"interactive\", not \"complete\"\n",
       "        if (document.readyState === 'complete') {\n",
       "            // check for the div that signifies that the notification\n",
       "            // was already sent\n",
       "            if (document.getElementById(\"8be01eec-9d07-48ef-8cfa-88a915c1986d\") === null) {\n",
       "                var notificationPayload = {\"requireInteraction\": false, \"icon\": \"/static/base/images/favicon.ico\", \"body\": \"DONE\", \"only_in_background\": false};\n",
       "\n",
       "                // We have a notification but the window is active\n",
       "                if (notificationPayload.only_in_background && !window.jupyterNotifyIsInBackground) {\n",
       "                    appendUniqueDiv();\n",
       "                    return;\n",
       "                }\n",
       "                if (Notification.permission !== 'denied') {\n",
       "                    if (Notification.permission !== 'granted') { \n",
       "                        Notification.requestPermission(function (permission) {\n",
       "                            if(!('permission' in Notification)) {\n",
       "                                Notification.permission = permission\n",
       "                            }\n",
       "                        })\n",
       "                    }\n",
       "                    if (Notification.permission === 'granted') {\n",
       "                    var notification = new Notification(\"Jupyter Notebook\", notificationPayload)\n",
       "                    appendUniqueDiv()\n",
       "                    notification.onclick = function () {\n",
       "                        window.focus();\n",
       "                        this.close();\n",
       "                        };\n",
       "                    } \n",
       "                }     \n",
       "            }\n",
       "        }\n",
       "    }\n",
       ")\n"
      ],
      "text/plain": [
       "<IPython.core.display.Javascript object>"
      ]
     },
     "metadata": {},
     "output_type": "display_data"
    }
   ],
   "source": [
    "%%notify -o\n",
    "%%time\n",
    "import time\n",
    "\n",
    "response_status = \"\"\n",
    "while response_status not in ['DONE', 'FAILED']:\n",
    "    get_response = oauth.request(\"GET\", generate_url(response.json()[\"id\"]))\n",
    "    response_status = get_response.json()['status']\n",
    "    time.sleep(1)\n",
    "\n",
    "response_status"
   ]
  },
  {
   "cell_type": "code",
   "execution_count": 17,
   "metadata": {},
   "outputs": [
    {
     "data": {
      "text/plain": [
       "{'id': '31f61ff9-e0af-4bfc-af2b-cd8d73fa719c',\n",
       " 'processRequest': {'input': {'bounds': {'bbox': [14.318395625014208,\n",
       "     48.359153946428485,\n",
       "     14.506361110382839,\n",
       "     48.543395524629055],\n",
       "    'geometry': None,\n",
       "    'properties': {'crs': 'http://www.opengis.net/def/crs/OGC/1.3/CRS84'}},\n",
       "   'data': [{'location': None,\n",
       "     'dataFilter': {'timeRange': {'from': '2018-07-01T00:00:00Z',\n",
       "       'to': '2018-07-15T00:00:00Z'},\n",
       "      'mosaickingOrder': 'mostRecent',\n",
       "      'maxCloudCoverage': 100.0},\n",
       "     'processing': None,\n",
       "     'tileList': None,\n",
       "     'id': None,\n",
       "     'type': 'S2L2A'}]},\n",
       "  'output': {'width': None,\n",
       "   'height': None,\n",
       "   'resx': None,\n",
       "   'resy': None,\n",
       "   'responses': [{'identifier': 'B04', 'format': {'type': 'image/tiff'}},\n",
       "    {'identifier': 'B08', 'format': {'type': 'image/tiff'}},\n",
       "    {'identifier': 'B03', 'format': {'type': 'image/tiff'}},\n",
       "    {'identifier': 'NDVI', 'format': {'type': 'image/tiff'}}]},\n",
       "  'dataProduct': None,\n",
       "  'evalscript': '\\n    //VERSION=3\\n    \\n    var debug = []\\n    \\n    function setup(ds) {\\n      return {\\n        input: [{\\n          bands: [\\'B04\\', \\'B08\\', \\'B03\\', \\'SCL\\', \\'dataMask\\'], \\n          units: \"DN\"\\n        }],\\n        output: [        \\n          {id: \\'B04\\', bands: 2, sampleType: SampleType.UINT16},{id: \\'B08\\', bands: 2, sampleType: SampleType.UINT16},{id: \\'B03\\', bands: 2, sampleType: SampleType.UINT16},{id: \\'NDVI\\', bands: 2, sampleType: SampleType.UINT16}\\n        ],\\n        mosaicking: Mosaicking.ORBIT       \\n      }\\n    }\\n\\n    function validate (sample) {\\n      if (sample.dataMask!=1) return false;\\n\\n      var scl = Math.round(sample.SCL);\\n\\n      if (scl === 3) { // SC_CLOUD_SHADOW\\n        return false;\\n      } else if (scl === 9) { // SC_CLOUD_HIGH_PROBA\\n        return false; \\n      } else if (scl === 8) { // SC_CLOUD_MEDIUM_PROBA\\n        return false;\\n      } else if (scl === 7) { // SC_CLOUD_LOW_PROBA\\n        //return false;\\n      } else if (scl === 10) { // SC_THIN_CIRRUS\\n        return false;\\n      } else if (scl === 11) { // SC_SNOW_ICE\\n        return false;\\n      } else if (scl === 1) { // SC_SATURATED_DEFECTIVE\\n        return false;\\n      } else if (scl === 2) { // SC_DARK_FEATURE_SHADOW\\n        //return false;\\n      }\\n      return true;\\n    }\\n\\n    function calculateIndex(a,b)\\n    {\\n      if ((a+b)==0) return 0;\\n      var val = (a-b)/(a+b);\\n      if (val<0) val = 0;\\n      //TODO - we might need to return false instead of 0; depends on the output format - a value needs to be designated as \"null\"\\n      return val;\\n    }\\n\\n    function interpolatedValue(arr)\\n    {\\n      //here we define the function on how to define the proper value - e.g. linear interpolation; we will use average \\n      if (arr.length==0) return 0;\\n      if (arr.length==1) return arr[0];\\n      var sum = 0;\\n      for (i=0;i<arr.length;i++)\\n        {sum+=arr[i];}\\n      return Math.round(sum/arr.length);\\n    }\\n    \\n    var results = {B04: [],B08: [],B03: [],NDVI: []}\\n    \\n    // We split each month into two halves. This will make it easier to append months to data cube later\\n    var day_of_new_interval = 16\\n    var endtime = new Date(1531612800000.0) // UNIX epoch in ms\\n\\n    function evaluatePixel(samples, scenes, inputMetadata, customData, outputMetadata) {\\n\\n      //Debug part returning \"something\" if there are no  valid samples (no observations)\\n      if (!samples.length)\\n      return {B04: [1],B08: [2],B03: [3],NDVI: [4]}\\n      \\n      var is_in_last_half_of_month = endtime.getDate() >= day_of_new_interval\\n      var interval_number = 0;\\n      var int_bands = {B04: [],B08: [],B03: []}\\n\\n      for (var i = 0; i < samples.length; i++) {\\n        \\n        //TODO order should be reversed when we go leastRecent\\n        \\n        // if scene is outside of current half of month, fill result array and change half of month\\n        // algorithm starts with least recent observation\\n        if (( !is_in_last_half_of_month && scenes[i].date.getDate() >= day_of_new_interval) ||\\n            (  is_in_last_half_of_month && scenes[i].date.getDate() <  day_of_new_interval))\\n        {\\n          fillResultArray(interval_number, int_bands)\\n\\n          //reset values\\n          for (var int_b in int_bands) {\\n            int_bands[int_b] = []\\n          }\\n\\n          is_in_last_half_of_month = !is_in_last_half_of_month;\\n          interval_number++;\\n        }\\n\\n        if (validate(samples[i]))\\n        {\\n          // push input samples into their respective arrays\\n          for (var int_b in int_bands) {\\n            int_bands[int_b].push(samples[i][int_b])\\n          }\\n        }\\n\\n      }\\n\\n      //execute this for the last interval \\n      fillResultArray(interval_number, int_bands);\\n\\n      return results\\n    }\\n\\n    function fillResultArray(interval_number, int_bands)\\n    {\\n      for (var b in int_bands) {\\n        if(int_bands[b].length==0) results[b][interval_number] = 0\\n        else results[b][interval_number] = interpolatedValue(int_bands[b])\\n      }\\n      \\n      for (var ix of [\\'NDVI\\']) {\\n        //TODO: fix for other indices\\n        results[ix][interval_number] = 65535*calculateIndex(results[\\'B08\\'][interval_number],results[\\'B04\\'][interval_number])\\n      }\\n    }\\n    \\n    function updateOutputMetadata(scenes, inputMetadata, outputMetadata) {\\n      outputMetadata.userData = {\\n        \"date_created\": Date(),\\n        \"metadata\": scenes.map(s => {\\n          s.date = s.date.toString()\\n          return s\\n        }),\\n        \"time\" : [\\'2018-07-01T11:59:59.500000\\', \\'2018-07-15T11:59:59.500000\\'],\\n        \"debug\": debug\\n      }\\n    }\\n'},\n",
       " 'tilingGridId': 0,\n",
       " 'userId': 'cea7e9da-2035-45b1-94c8-361b1c6c2ea2',\n",
       " 'status': 'DONE',\n",
       " 'userAction': 'START',\n",
       " 'bucketName': 'eox-masterdatacube',\n",
       " 'resolution': 60.0,\n",
       " 'description': 'Max NDVI over OOE',\n",
       " 'created': '2020-03-25T13:19:58.330Z',\n",
       " 'valueEstimate': 10.59152592329095,\n",
       " 'tileCount': 4,\n",
       " 'tileWidthPx': 334,\n",
       " 'tileHeightPx': 334}"
      ]
     },
     "execution_count": 17,
     "metadata": {},
     "output_type": "execute_result"
    }
   ],
   "source": [
    "get_response.json()"
   ]
  }
 ],
 "metadata": {
  "kernelspec": {
   "display_name": "Python 3",
   "language": "python",
   "name": "python3"
  },
  "language_info": {
   "codemirror_mode": {
    "name": "ipython",
    "version": 3
   },
   "file_extension": ".py",
   "mimetype": "text/x-python",
   "name": "python",
   "nbconvert_exporter": "python",
   "pygments_lexer": "ipython3",
   "version": "3.7.3"
  }
 },
 "nbformat": 4,
 "nbformat_minor": 4
}
