{
 "cells": [
  {
   "cell_type": "code",
   "execution_count": 1,
   "metadata": {},
   "outputs": [],
   "source": [
    "# load credentials from environment variables\n",
    "%load_ext dotenv\n",
    "%dotenv\n",
    "\n",
    "# util\n",
    "import boto3\n",
    "\n",
    "# date & time\n",
    "from datetime import date, datetime\n",
    "from util import date_interval_endpoints as endpoints\n",
    "\n",
    "# Oauth\n",
    "from oauthlib.oauth2 import BackendApplicationClient\n",
    "from requests_oauthlib import OAuth2Session"
   ]
  },
  {
   "cell_type": "markdown",
   "metadata": {},
   "source": [
    "## Get authorization token"
   ]
  },
  {
   "cell_type": "code",
   "execution_count": 2,
   "metadata": {},
   "outputs": [],
   "source": [
    "# Your client credentials\n",
    "client_id = %env SH_CLIENT_ID\n",
    "client_secret = %env SH_CLIENT_SECRET\n",
    "\n",
    "# Create a session\n",
    "client = BackendApplicationClient(client_id=client_id)\n",
    "oauth = OAuth2Session(client=client)\n",
    "\n",
    "token = oauth.fetch_token(token_url='https://services.sentinel-hub.com/oauth/token',\n",
    "                          client_id=client_id, client_secret=client_secret)\n",
    "\n",
    "resp = oauth.get(\"https://services.sentinel-hub.com/oauth/tokeninfo\")"
   ]
  },
  {
   "cell_type": "markdown",
   "metadata": {},
   "source": [
    "## Configure request (evalscript)\n",
    "\n",
    "Enter start and end date, input bands, indices. The resulting files will have two time intervals per month, being split at `day_of_new_interval`."
   ]
  },
  {
   "cell_type": "code",
   "execution_count": 3,
   "metadata": {},
   "outputs": [],
   "source": [
    "startdate = date(2017,9,1) # Y,M,D\n",
    "enddate = date(2018,11,30)  # Y,M,D\n",
    "\n",
    "input_bands = [\n",
    "    \"B02\",\n",
    "    \"B03\",\n",
    "    \"B04\",\n",
    "    \"B05\",\n",
    "    \"B06\",\n",
    "    \"B07\",\n",
    "    \"B08\",\n",
    "    \"B8A\",\n",
    "    \"B11\",\n",
    "    \"B12\"\n",
    "]\n",
    "\n",
    "\n",
    "indices = [\n",
    "    \"NDVI\",\n",
    "    \"GNDVI\",\n",
    "    \"BNDVI\",\n",
    "    \"CVI\",\n",
    "    \"NDSI\",\n",
    "    \"NDWI\"\n",
    "]\n",
    "\n",
    "bucket_name = \"eox-masterdatacube\"\n",
    "\n",
    "day_of_new_interval = 16 # leave this unchanged in most of the cases"
   ]
  },
  {
   "cell_type": "markdown",
   "metadata": {},
   "source": [
    "### Calculate parameters"
   ]
  },
  {
   "cell_type": "code",
   "execution_count": 4,
   "metadata": {
    "scrolled": true
   },
   "outputs": [],
   "source": [
    "eps = endpoints(startdate, enddate, day_of_new_interval)\n",
    "\n",
    "timestamps  = [int(d.timestamp()) for d in eps]   # timestamps for arithmetic\n",
    "avg_times = [(left+right)/2 for left,right in zip(timestamps[::2],timestamps[1::2])]\n",
    "avg_times = [datetime.utcfromtimestamp(a) for a in avg_times]\n",
    "avg_times = [dt.isoformat() for dt in avg_times]"
   ]
  },
  {
   "cell_type": "code",
   "execution_count": 5,
   "metadata": {},
   "outputs": [],
   "source": [
    "masks = [\"SCL\", \"dataMask\"] # SCL ... Scene Classification Layer\n",
    "\n",
    "output_bands = input_bands + indices\n",
    "output_array =  [ { 'id': \"\\\"\" + ob + \"\\\"\", 'bands': len(avg_times), \"sampleType\": \"SampleType.UINT16\"} for ob in output_bands ]\n",
    "for oa in output_array:\n",
    "    if oa[\"id\"] == '\"CVI\"':\n",
    "        oa[\"sampleType\"] = \"SampleType.FLOAT32\"\n",
    "output_array = str(output_array).replace(\"'\", '')\n",
    "\n",
    "int_bands = '{' + ','.join([f'{ib}: []' for ib in input_bands]) + '}'\n",
    "results_object = '{' + ','.join([f'{ob}: []' for ob in output_bands]) + '}'\n",
    "debug_results = '{' + ','.join([f\"{output_bands[i]}: [{i+1}]\" for i in range(len(output_bands))]) + '}'\n",
    "responses = [{\"identifier\": ob,\"format\": {\"type\": \"image/tiff\"}} for ob in output_bands]"
   ]
  },
  {
   "cell_type": "markdown",
   "metadata": {},
   "source": [
    "### Evalscript & Payload"
   ]
  },
  {
   "cell_type": "code",
   "execution_count": 6,
   "metadata": {
    "scrolled": true
   },
   "outputs": [],
   "source": [
    "with open('evalscript.js', 'r') as file:\n",
    "    evalscript = file.read()\n",
    "    \n",
    "evalscript = evalscript.format(\n",
    "    bands              =str(input_bands+masks),\n",
    "    output_array       =output_array,\n",
    "    results_object     =results_object,\n",
    "    day_of_new_interval=day_of_new_interval,\n",
    "    enddate_unix       =datetime(*enddate.timetuple()[:3],23,59,59).timestamp()*1000,\n",
    "    debug_results      =debug_results,\n",
    "    int_bands          =int_bands,\n",
    "    indices            =indices,\n",
    "    avg_times          =avg_times\n",
    ")"
   ]
  },
  {
   "cell_type": "code",
   "execution_count": 7,
   "metadata": {},
   "outputs": [],
   "source": [
    "mab_geometry = { \"type\": \"Polygon\", \"coordinates\": \n",
    "    [\n",
    "        [\n",
    "            [ 14.249086675661697, 48.549686576488739, 0.0 ],\n",
    "            [ 14.804694846753847, 48.546347802635076, 0.0 ],\n",
    "            [ 14.804740209647099, 48.662420784507489, 0.0 ],\n",
    "            [ 14.802209327231056, 48.752811114695149, 0.0 ],\n",
    "            [ 16.224291241591107, 48.74506103134155, 0.0 ],\n",
    "            [ 16.19780424032631, 47.621347235969026, 0.0 ],\n",
    "            [ 14.263435524016538, 47.627863161515464, 0.0 ],\n",
    "            [ 14.249086675661697, 48.549686576488739, 0.0 ]\n",
    "        ]\n",
    "    ]\n",
    "}\n",
    "\n",
    "payload = {\n",
    "  \"processRequest\": {\n",
    "    \"input\": {\n",
    "      \"bounds\": {\n",
    "        \"properties\": {\n",
    "          \"crs\": \"http://www.opengis.net/def/crs/OGC/1.3/CRS84\"\n",
    "        },\n",
    "        \"geometry\": mab_geometry\n",
    "      },\n",
    "      \"data\": [\n",
    "        {\n",
    "          \"location\": \"AWS:eu-central-1\",\n",
    "          \"type\": \"S2L2A\",\n",
    "          \"dataFilter\": {\n",
    "            \"timeRange\": {\n",
    "              \"from\": eps[0].isoformat() + 'Z', # starttime\n",
    "              \"to\": eps[-1].isoformat() + 'Z'   # endtime\n",
    "            },\n",
    "            \"mosaickingOrder\": \"mostRecent\",\n",
    "            \"maxCloudCoverage\": 100,\n",
    "            \"previewMode\": \"DETAIL\"\n",
    "          }\n",
    "        }\n",
    "      ]\n",
    "    },\n",
    "    \"output\": {\n",
    "      \"responses\": [*responses]\n",
    "    },\n",
    "    \"evalscript\": evalscript\n",
    "  },\n",
    "  \"tilingGridId\": 0,\n",
    "  \"bucketName\": bucket_name,\n",
    "  \"resolution\": 10.0,\n",
    "  \"description\": f\"Test MAB\"\n",
    "}\n",
    "\n",
    "headers = {\n",
    "  #'Accept': 'application/tar'\n",
    "}"
   ]
  },
  {
   "cell_type": "markdown",
   "metadata": {},
   "source": [
    "## Send request"
   ]
  },
  {
   "cell_type": "code",
   "execution_count": 8,
   "metadata": {},
   "outputs": [
    {
     "name": "stdout",
     "output_type": "stream",
     "text": [
      "Status of request 787be67b-696a-4853-9a93-0366449ef1df: CREATED\n",
      "Value Estimate: 492111.426\n",
      "Processing started.\n",
      "Metadata saved to bucket\n"
     ]
    }
   ],
   "source": [
    "url = 'https://services.sentinel-hub.com/batch/v1/process/'\n",
    "\n",
    "response = oauth.request(\"POST\", url, headers=headers, json = payload).json()\n",
    "request_id = response[\"id\"]\n",
    "vE = response[\"valueEstimate\"]\n",
    "print(f\"\"\"Status of request {request_id}: {response['status']}\n",
    "Value Estimate: {vE:.3f}\"\"\")\n",
    "\n",
    "oauth.request(\"POST\", f'{url}{request_id}/start')\n",
    "print('Processing started.')\n",
    "\n",
    "s3 = boto3.resource('s3')\n",
    "bk = s3.Bucket(bucket_name)\n",
    "\n",
    "bk.put_object(Key=request_id + '/userdata.json', Body=json.dumps({\n",
    "    'bands': output_bands,\n",
    "    'request_id': request_id,\n",
    "#     'tiles': tiles,\n",
    "    'time': avg_times\n",
    "}))\n",
    "print('Metadata saved to bucket')"
   ]
  }
 ],
 "metadata": {
  "kernelspec": {
   "display_name": "Python 3",
   "language": "python",
   "name": "python3"
  },
  "language_info": {
   "codemirror_mode": {
    "name": "ipython",
    "version": 3
   },
   "file_extension": ".py",
   "mimetype": "text/x-python",
   "name": "python",
   "nbconvert_exporter": "python",
   "pygments_lexer": "ipython3",
   "version": "3.7.6"
  }
 },
 "nbformat": 4,
 "nbformat_minor": 4
}
