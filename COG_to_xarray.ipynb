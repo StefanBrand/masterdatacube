{
 "cells": [
  {
   "cell_type": "code",
   "execution_count": 1,
   "metadata": {},
   "outputs": [],
   "source": [
    "import xarray as xr\n",
    "import numpy as np\n",
    "import glob\n",
    "import json\n",
    "\n",
    "%matplotlib inline"
   ]
  },
  {
   "cell_type": "code",
   "execution_count": 5,
   "metadata": {},
   "outputs": [
    {
     "data": {
      "text/html": [
       "<pre>&lt;xarray.Dataset&gt;\n",
       "Dimensions:  (band: 16, x: 512, y: 512)\n",
       "Coordinates:\n",
       "  * band     (band) int64 1 2 3 4 5 6 7 8 9 10 11 12 13 14 15 16\n",
       "  * y        (y) float64 47.73 47.73 47.73 47.73 ... 47.68 47.68 47.68 47.68\n",
       "  * x        (x) float64 16.45 16.45 16.45 16.45 16.45 ... 16.5 16.5 16.5 16.5\n",
       "Data variables:\n",
       "    NDVI     (band, y, x) uint16 ...\n",
       "    B03      (band, y, x) uint16 ...\n",
       "    B08      (band, y, x) uint16 ...\n",
       "    B04      (band, y, x) uint16 ...</pre>"
      ],
      "text/plain": [
       "<xarray.Dataset>\n",
       "Dimensions:  (band: 16, x: 512, y: 512)\n",
       "Coordinates:\n",
       "  * band     (band) int64 1 2 3 4 5 6 7 8 9 10 11 12 13 14 15 16\n",
       "  * y        (y) float64 47.73 47.73 47.73 47.73 ... 47.68 47.68 47.68 47.68\n",
       "  * x        (x) float64 16.45 16.45 16.45 16.45 16.45 ... 16.5 16.5 16.5 16.5\n",
       "Data variables:\n",
       "    NDVI     (band, y, x) uint16 ...\n",
       "    B03      (band, y, x) uint16 ...\n",
       "    B08      (band, y, x) uint16 ...\n",
       "    B04      (band, y, x) uint16 ..."
      ]
     },
     "execution_count": 5,
     "metadata": {},
     "output_type": "execute_result"
    }
   ],
   "source": [
    "directory = '../testing/'\n",
    "filenames = [filename.split('/')[-1].split('.')[-2:] for filename in glob.glob(directory + '*.tif')]\n",
    "arrs = {file: xr.open_rasterio(f'{directory}{file}.{ext}') for file, ext in filenames}\n",
    "ds = xr.Dataset(arrs)\n",
    "ds"
   ]
  },
  {
   "cell_type": "code",
   "execution_count": 6,
   "metadata": {},
   "outputs": [
    {
     "data": {
      "text/html": [
       "<pre>&lt;xarray.Dataset&gt;\n",
       "Dimensions:  (lat: 512, lon: 512, time: 16)\n",
       "Coordinates:\n",
       "  * time     (time) datetime64[ns] 2018-01-01T11:59:59.500000 ... 2018-09-08T11:59:59.500000\n",
       "  * lat      (lat) float64 47.73 47.73 47.73 47.73 ... 47.68 47.68 47.68 47.68\n",
       "  * lon      (lon) float64 16.45 16.45 16.45 16.45 16.45 ... 16.5 16.5 16.5 16.5\n",
       "Data variables:\n",
       "    NDVI     (time, lat, lon) uint16 ...\n",
       "    B03      (time, lat, lon) uint16 ...\n",
       "    B08      (time, lat, lon) uint16 ...\n",
       "    B04      (time, lat, lon) uint16 ...</pre>"
      ],
      "text/plain": [
       "<xarray.Dataset>\n",
       "Dimensions:  (lat: 512, lon: 512, time: 16)\n",
       "Coordinates:\n",
       "  * time     (time) datetime64[ns] 2018-01-01T11:59:59.500000 ... 2018-09-08T11:59:59.500000\n",
       "  * lat      (lat) float64 47.73 47.73 47.73 47.73 ... 47.68 47.68 47.68 47.68\n",
       "  * lon      (lon) float64 16.45 16.45 16.45 16.45 16.45 ... 16.5 16.5 16.5 16.5\n",
       "Data variables:\n",
       "    NDVI     (time, lat, lon) uint16 ...\n",
       "    B03      (time, lat, lon) uint16 ...\n",
       "    B08      (time, lat, lon) uint16 ...\n",
       "    B04      (time, lat, lon) uint16 ..."
      ]
     },
     "execution_count": 6,
     "metadata": {},
     "output_type": "execute_result"
    }
   ],
   "source": [
    "ds = ds.rename({'band': 'time', 'y': 'lat', 'x': 'lon'})\n",
    "with open(f'{directory}userdata.json') as f:\n",
    "    userdata = json.load(f)\n",
    "    ds.coords['time'] = [np.datetime64(t) for t in userdata['time']]\n",
    "\n",
    "# ds.coords['time']\n",
    "ds"
   ]
  },
  {
   "cell_type": "code",
   "execution_count": 27,
   "metadata": {},
   "outputs": [
    {
     "data": {
      "text/plain": [
       "[<matplotlib.lines.Line2D at 0x7fead3419a20>]"
      ]
     },
     "execution_count": 27,
     "metadata": {},
     "output_type": "execute_result"
    },
    {
     "data": {
      "image/png": "[encoded data removed]",
      "text/plain": [
       "<Figure size 432x288 with 1 Axes>"
      ]
     },
     "metadata": {
      "needs_background": "light"
     },
     "output_type": "display_data"
    }
   ],
   "source": [
    "ds.isel(lat=200, lon=200)\n",
    "da.where(da.NDVI > 0).NDVI.plot.line('b-^')"
   ]
  }
 ],
 "metadata": {
  "kernelspec": {
   "display_name": "Python 3",
   "language": "python",
   "name": "python3"
  },
  "language_info": {
   "codemirror_mode": {
    "name": "ipython",
    "version": 3
   },
   "file_extension": ".py",
   "mimetype": "text/x-python",
   "name": "python",
   "nbconvert_exporter": "python",
   "pygments_lexer": "ipython3",
   "version": "3.7.3"
  }
 },
 "nbformat": 4,
 "nbformat_minor": 4
}
