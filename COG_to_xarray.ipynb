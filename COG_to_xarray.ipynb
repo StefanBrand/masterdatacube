{
 "cells": [
  {
   "cell_type": "code",
   "execution_count": 2,
   "metadata": {},
   "outputs": [],
   "source": [
    "import xarray as xr\n",
    "import numpy as np\n",
    "import glob\n",
    "\n",
    "%matplotlib inline"
   ]
  },
  {
   "cell_type": "code",
   "execution_count": 16,
   "metadata": {},
   "outputs": [
    {
     "data": {
      "text/html": [
       "<pre>&lt;xarray.Dataset&gt;\n",
       "Dimensions:  (time: 24, x: 512, y: 512)\n",
       "Coordinates:\n",
       "  * time     (time) datetime64[ns] 2018-01-01 2018-01-02 ... 2018-01-24\n",
       "  * y        (y) float64 47.73 47.73 47.73 47.73 ... 47.68 47.68 47.68 47.68\n",
       "  * x        (x) float64 16.45 16.45 16.45 16.45 16.45 ... 16.5 16.5 16.5 16.5\n",
       "Data variables:\n",
       "    NDVI     (time, y, x) uint16 ...\n",
       "    B03      (time, y, x) uint16 ...\n",
       "    B02      (time, y, x) float64 0.0 0.0 0.0 0.0 0.0 ... nan nan nan nan nan\n",
       "    B08      (time, y, x) uint16 ...\n",
       "    B04      (time, y, x) uint16 ...</pre>"
      ],
      "text/plain": [
       "<xarray.Dataset>\n",
       "Dimensions:  (time: 24, x: 512, y: 512)\n",
       "Coordinates:\n",
       "  * time     (time) datetime64[ns] 2018-01-01 2018-01-02 ... 2018-01-24\n",
       "  * y        (y) float64 47.73 47.73 47.73 47.73 ... 47.68 47.68 47.68 47.68\n",
       "  * x        (x) float64 16.45 16.45 16.45 16.45 16.45 ... 16.5 16.5 16.5 16.5\n",
       "Data variables:\n",
       "    NDVI     (time, y, x) uint16 ...\n",
       "    B03      (time, y, x) uint16 ...\n",
       "    B02      (time, y, x) float64 0.0 0.0 0.0 0.0 0.0 ... nan nan nan nan nan\n",
       "    B08      (time, y, x) uint16 ...\n",
       "    B04      (time, y, x) uint16 ..."
      ]
     },
     "execution_count": 16,
     "metadata": {},
     "output_type": "execute_result"
    }
   ],
   "source": [
    "directory = '../testing/'\n",
    "filenames = [filename.split('/')[-1].split('.')[-2:] for filename in glob.glob(directory + '*.tif')]\n",
    "arrs = {file: xr.open_rasterio(f'{directory}{file}.{ext}') for file, ext in filenames}\n",
    "ds = xr.Dataset(arrs)\n",
    "\n",
    "ds = ds.rename({'band': 'time'})\n",
    "ds.coords['time'] = [np.datetime64(f'2018-01-{i:02}') for i in range(1,25)]\n",
    "ds.coords['time']"
   ]
  },
  {
   "cell_type": "code",
   "execution_count": 18,
   "metadata": {},
   "outputs": [
    {
     "data": {
      "text/html": [
       "<pre>&lt;xarray.Dataset&gt;\n",
       "Dimensions:  (time: 24, x: 512, y: 512)\n",
       "Coordinates:\n",
       "  * time     (time) datetime64[ns] 2018-01-01 2018-01-02 ... 2018-01-24\n",
       "  * y        (y) float64 47.73 47.73 47.73 47.73 ... 47.68 47.68 47.68 47.68\n",
       "  * x        (x) float64 16.45 16.45 16.45 16.45 16.45 ... 16.5 16.5 16.5 16.5\n",
       "Data variables:\n",
       "    NDVI     (time, y, x) uint16 ...\n",
       "    B03      (time, y, x) uint16 ...\n",
       "    B02      (time, y, x) float64 0.0 0.0 0.0 0.0 0.0 ... nan nan nan nan nan\n",
       "    B08      (time, y, x) uint16 ...\n",
       "    B04      (time, y, x) uint16 ...</pre>"
      ],
      "text/plain": [
       "<xarray.Dataset>\n",
       "Dimensions:  (time: 24, x: 512, y: 512)\n",
       "Coordinates:\n",
       "  * time     (time) datetime64[ns] 2018-01-01 2018-01-02 ... 2018-01-24\n",
       "  * y        (y) float64 47.73 47.73 47.73 47.73 ... 47.68 47.68 47.68 47.68\n",
       "  * x        (x) float64 16.45 16.45 16.45 16.45 16.45 ... 16.5 16.5 16.5 16.5\n",
       "Data variables:\n",
       "    NDVI     (time, y, x) uint16 ...\n",
       "    B03      (time, y, x) uint16 ...\n",
       "    B02      (time, y, x) float64 0.0 0.0 0.0 0.0 0.0 ... nan nan nan nan nan\n",
       "    B08      (time, y, x) uint16 ...\n",
       "    B04      (time, y, x) uint16 ..."
      ]
     },
     "execution_count": 18,
     "metadata": {},
     "output_type": "execute_result"
    },
    {
     "data": {
      "image/png": "[encoded data removed]",
      "text/plain": [
       "<Figure size 432x288 with 1 Axes>"
      ]
     },
     "metadata": {
      "needs_background": "light"
     },
     "output_type": "display_data"
    }
   ],
   "source": [
    "ds.isel(x=0, y=0).B04.plot()\n",
    "ds"
   ]
  }
 ],
 "metadata": {
  "kernelspec": {
   "display_name": "Python 3",
   "language": "python",
   "name": "python3"
  },
  "language_info": {
   "codemirror_mode": {
    "name": "ipython",
    "version": 3
   },
   "file_extension": ".py",
   "mimetype": "text/x-python",
   "name": "python",
   "nbconvert_exporter": "python",
   "pygments_lexer": "ipython3",
   "version": "3.7.3"
  }
 },
 "nbformat": 4,
 "nbformat_minor": 4
}
