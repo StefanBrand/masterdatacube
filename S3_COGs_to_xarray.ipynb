{
 "cells": [
  {
   "cell_type": "code",
   "execution_count": 1,
   "metadata": {},
   "outputs": [],
   "source": [
    "import xarray as xr\n",
    "import numpy as np\n",
    "import glob\n",
    "import json\n",
    "\n",
    "%matplotlib inline"
   ]
  },
  {
   "cell_type": "code",
   "execution_count": 2,
   "metadata": {},
   "outputs": [
    {
     "data": {
      "text/plain": [
       "[{'id': 1616,\n",
       "  'requestId': '816826d9-605e-4a95-a38c-84d22152e667',\n",
       "  'geometry': {'type': 'Polygon',\n",
       "   'crs': {'type': 'name',\n",
       "    'properties': {'name': 'urn:ogc:def:crs:EPSG::4326'}},\n",
       "   'coordinates': [[[16.331990925347444, 47.6656586685086],\n",
       "     [16.33660021995273, 47.84592105058218],\n",
       "     [16.60435539307228, 47.84249090325925],\n",
       "     [16.598823619260372, 47.66224999190062],\n",
       "     [16.331990925347444, 47.6656586685086]]]},\n",
       "  'status': 'PROCESSED',\n",
       "  'cost': 159.15658914298547}]"
      ]
     },
     "execution_count": 2,
     "metadata": {},
     "output_type": "execute_result"
    }
   ],
   "source": [
    "%store -r\n",
    "tiles"
   ]
  },
  {
   "cell_type": "code",
   "execution_count": 3,
   "metadata": {},
   "outputs": [],
   "source": [
    "dss = []\n",
    "for t in tiles:\n",
    "    arrs = {ob: xr.open_rasterio(f's3://{bucket_name}/{request_id}/{t[\"id\"]}/{ob}.tif') for ob in output_bands}\n",
    "    dss.append(xr.Dataset(arrs))\n",
    "ds = xr.combine_by_coords(dss)"
   ]
  },
  {
   "cell_type": "code",
   "execution_count": 4,
   "metadata": {},
   "outputs": [
    {
     "data": {
      "text/html": [
       "<pre>&lt;xarray.Dataset&gt;\n",
       "Dimensions:  (time: 16, x: 334, y: 334)\n",
       "Coordinates:\n",
       "  * time     (time) datetime64[ns] 2018-01-01T11:59:59.500000 ... 2018-09-08T11:59:59.500000\n",
       "  * y        (y) float64 5.3e+06 5.3e+06 5.3e+06 ... 5.28e+06 5.28e+06 5.28e+06\n",
       "  * x        (x) float64 6e+05 6.001e+05 6.002e+05 ... 6.199e+05 6.2e+05 6.2e+05\n",
       "Data variables:\n",
       "    B02      (time, y, x) uint16 ...\n",
       "    B03      (time, y, x) uint16 ...\n",
       "    B04      (time, y, x) uint16 ...\n",
       "    B05      (time, y, x) uint16 ...\n",
       "    B06      (time, y, x) uint16 ...\n",
       "    B07      (time, y, x) uint16 ...\n",
       "    B08      (time, y, x) uint16 ...\n",
       "    B8A      (time, y, x) uint16 ...\n",
       "    B11      (time, y, x) uint16 ...\n",
       "    B12      (time, y, x) uint16 ...\n",
       "    NDVI     (time, y, x) uint16 ...\n",
       "    GNDVI    (time, y, x) uint16 ...\n",
       "    BNDVI    (time, y, x) uint16 ...\n",
       "    NDWI     (time, y, x) uint16 ...\n",
       "    CVI      (time, y, x) uint16 ...\n",
       "    NDSI     (time, y, x) uint16 ...</pre>"
      ],
      "text/plain": [
       "<xarray.Dataset>\n",
       "Dimensions:  (time: 16, x: 334, y: 334)\n",
       "Coordinates:\n",
       "  * time     (time) datetime64[ns] 2018-01-01T11:59:59.500000 ... 2018-09-08T11:59:59.500000\n",
       "  * y        (y) float64 5.3e+06 5.3e+06 5.3e+06 ... 5.28e+06 5.28e+06 5.28e+06\n",
       "  * x        (x) float64 6e+05 6.001e+05 6.002e+05 ... 6.199e+05 6.2e+05 6.2e+05\n",
       "Data variables:\n",
       "    B02      (time, y, x) uint16 ...\n",
       "    B03      (time, y, x) uint16 ...\n",
       "    B04      (time, y, x) uint16 ...\n",
       "    B05      (time, y, x) uint16 ...\n",
       "    B06      (time, y, x) uint16 ...\n",
       "    B07      (time, y, x) uint16 ...\n",
       "    B08      (time, y, x) uint16 ...\n",
       "    B8A      (time, y, x) uint16 ...\n",
       "    B11      (time, y, x) uint16 ...\n",
       "    B12      (time, y, x) uint16 ...\n",
       "    NDVI     (time, y, x) uint16 ...\n",
       "    GNDVI    (time, y, x) uint16 ...\n",
       "    BNDVI    (time, y, x) uint16 ...\n",
       "    NDWI     (time, y, x) uint16 ...\n",
       "    CVI      (time, y, x) uint16 ...\n",
       "    NDSI     (time, y, x) uint16 ..."
      ]
     },
     "execution_count": 4,
     "metadata": {},
     "output_type": "execute_result"
    }
   ],
   "source": [
    "ds = ds.rename({'band': 'time'})#, 'y': 'lat', 'x': 'lon'})\n",
    "ds.coords['time'] = [np.datetime64(t) for t in avg_times]\n",
    "ds"
   ]
  },
  {
   "cell_type": "code",
   "execution_count": 5,
   "metadata": {},
   "outputs": [
    {
     "name": "stderr",
     "output_type": "stream",
     "text": [
      "/opt/conda/lib/python3.7/site-packages/pandas/plotting/_converter.py:129: FutureWarning: Using an implicitly registered datetime converter for a matplotlib plotting method. The converter was registered by pandas on import. Future versions of pandas will require you to explicitly register matplotlib converters.\n",
      "\n",
      "To register the converters:\n",
      "\t>>> from pandas.plotting import register_matplotlib_converters\n",
      "\t>>> register_matplotlib_converters()\n",
      "  warnings.warn(msg, FutureWarning)\n"
     ]
    },
    {
     "data": {
      "text/plain": [
       "[<matplotlib.lines.Line2D at 0x7f78cebf5e10>]"
      ]
     },
     "execution_count": 5,
     "metadata": {},
     "output_type": "execute_result"
    },
    {
     "data": {
      "image/png": "[encoded data removed]",
      "text/plain": [
       "<Figure size 432x288 with 1 Axes>"
      ]
     },
     "metadata": {
      "needs_background": "light"
     },
     "output_type": "display_data"
    }
   ],
   "source": [
    "ds.isel(x=0, y=0).NDVI.plot.line('b-o')"
   ]
  }
 ],
 "metadata": {
  "kernelspec": {
   "display_name": "Python 3",
   "language": "python",
   "name": "python3"
  },
  "language_info": {
   "codemirror_mode": {
    "name": "ipython",
    "version": 3
   },
   "file_extension": ".py",
   "mimetype": "text/x-python",
   "name": "python",
   "nbconvert_exporter": "python",
   "pygments_lexer": "ipython3",
   "version": "3.7.3"
  }
 },
 "nbformat": 4,
 "nbformat_minor": 4
}
