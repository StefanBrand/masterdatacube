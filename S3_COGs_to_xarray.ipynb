{
 "cells": [
  {
   "cell_type": "code",
   "execution_count": 1,
   "metadata": {},
   "outputs": [],
   "source": [
    "import xarray as xr\n",
    "import numpy as np\n",
    "import glob\n",
    "import json\n",
    "import boto3\n",
    "import io\n",
    "\n",
    "%matplotlib inline"
   ]
  },
  {
   "cell_type": "code",
   "execution_count": 2,
   "metadata": {},
   "outputs": [
    {
     "name": "stdout",
     "output_type": "stream",
     "text": [
      "Stored variables and their in-db values:\n",
      "bucket_name             -> 'eox-masterdatacube'\n",
      "request_id              -> 'b7c79f5a-69f0-46c2-aad3-ccb33eebfec1'\n"
     ]
    }
   ],
   "source": [
    "%store -r\n",
    "# bucket_name = \n",
    "# request_id = \n",
    "%store"
   ]
  },
  {
   "cell_type": "code",
   "execution_count": 3,
   "metadata": {},
   "outputs": [],
   "source": [
    "s3 = boto3.resource('s3')\n",
    "bucket = s3.Bucket(bucket_name)\n",
    "userdata_obj = bucket.Object(f'{request_id}/userdata.json')\n",
    "file_stream = io.BytesIO()\n",
    "userdata_obj.download_fileobj(file_stream) # load userdata.json into file_stream\n",
    "userdata = json.loads(file_stream.getvalue())"
   ]
  },
  {
   "cell_type": "code",
   "execution_count": 4,
   "metadata": {},
   "outputs": [],
   "source": [
    "dss = []\n",
    "for t in userdata['tiles']:\n",
    "    arrs = {b: xr.open_rasterio(f's3://{bucket_name}/{request_id}/{t[\"id\"]}/{b}.tif') for b in userdata['bands']}\n",
    "    dss.append(xr.Dataset(arrs))\n",
    "ds = xr.combine_by_coords(dss)"
   ]
  },
  {
   "cell_type": "code",
   "execution_count": 5,
   "metadata": {},
   "outputs": [
    {
     "data": {
      "text/html": [
       "<pre>&lt;xarray.Dataset&gt;\n",
       "Dimensions:  (time: 2, x: 334, y: 334)\n",
       "Coordinates:\n",
       "  * time     (time) datetime64[ns] 2018-09-01T11:59:59.500000 2018-09-15T11:59:59.500000\n",
       "  * y        (y) float64 5.3e+06 5.3e+06 5.3e+06 ... 5.28e+06 5.28e+06 5.28e+06\n",
       "  * x        (x) float64 6e+05 6.001e+05 6.002e+05 ... 6.199e+05 6.2e+05 6.2e+05\n",
       "Data variables:\n",
       "    B02      (time, y, x) uint16 ...\n",
       "    B03      (time, y, x) uint16 ...\n",
       "    B04      (time, y, x) uint16 ...\n",
       "    B05      (time, y, x) uint16 ...\n",
       "    B06      (time, y, x) uint16 ...\n",
       "    B07      (time, y, x) uint16 ...\n",
       "    B08      (time, y, x) uint16 ...\n",
       "    B8A      (time, y, x) uint16 ...\n",
       "    B11      (time, y, x) uint16 ...\n",
       "    B12      (time, y, x) uint16 ...\n",
       "    NDVI     (time, y, x) uint16 ...\n",
       "    GNDVI    (time, y, x) uint16 ...\n",
       "    BNDVI    (time, y, x) uint16 ...\n",
       "    NDWI     (time, y, x) uint16 ...\n",
       "    CVI      (time, y, x) uint16 ...\n",
       "    NDSI     (time, y, x) uint16 ...</pre>"
      ],
      "text/plain": [
       "<xarray.Dataset>\n",
       "Dimensions:  (time: 2, x: 334, y: 334)\n",
       "Coordinates:\n",
       "  * time     (time) datetime64[ns] 2018-09-01T11:59:59.500000 2018-09-15T11:59:59.500000\n",
       "  * y        (y) float64 5.3e+06 5.3e+06 5.3e+06 ... 5.28e+06 5.28e+06 5.28e+06\n",
       "  * x        (x) float64 6e+05 6.001e+05 6.002e+05 ... 6.199e+05 6.2e+05 6.2e+05\n",
       "Data variables:\n",
       "    B02      (time, y, x) uint16 ...\n",
       "    B03      (time, y, x) uint16 ...\n",
       "    B04      (time, y, x) uint16 ...\n",
       "    B05      (time, y, x) uint16 ...\n",
       "    B06      (time, y, x) uint16 ...\n",
       "    B07      (time, y, x) uint16 ...\n",
       "    B08      (time, y, x) uint16 ...\n",
       "    B8A      (time, y, x) uint16 ...\n",
       "    B11      (time, y, x) uint16 ...\n",
       "    B12      (time, y, x) uint16 ...\n",
       "    NDVI     (time, y, x) uint16 ...\n",
       "    GNDVI    (time, y, x) uint16 ...\n",
       "    BNDVI    (time, y, x) uint16 ...\n",
       "    NDWI     (time, y, x) uint16 ...\n",
       "    CVI      (time, y, x) uint16 ...\n",
       "    NDSI     (time, y, x) uint16 ..."
      ]
     },
     "execution_count": 5,
     "metadata": {},
     "output_type": "execute_result"
    }
   ],
   "source": [
    "ds = ds.rename({'band': 'time'})#, 'y': 'lat', 'x': 'lon'})\n",
    "ds.coords['time'] = [np.datetime64(t) for t in userdata['time']]\n",
    "ds"
   ]
  },
  {
   "cell_type": "code",
   "execution_count": 6,
   "metadata": {},
   "outputs": [
    {
     "name": "stderr",
     "output_type": "stream",
     "text": [
      "/opt/conda/lib/python3.7/site-packages/pandas/plotting/_converter.py:129: FutureWarning: Using an implicitly registered datetime converter for a matplotlib plotting method. The converter was registered by pandas on import. Future versions of pandas will require you to explicitly register matplotlib converters.\n",
      "\n",
      "To register the converters:\n",
      "\t>>> from pandas.plotting import register_matplotlib_converters\n",
      "\t>>> register_matplotlib_converters()\n",
      "  warnings.warn(msg, FutureWarning)\n"
     ]
    },
    {
     "data": {
      "text/plain": [
       "[<matplotlib.lines.Line2D at 0x7ff45b9fd4e0>]"
      ]
     },
     "execution_count": 6,
     "metadata": {},
     "output_type": "execute_result"
    },
    {
     "data": {
      "image/png": "[encoded data removed]",
      "text/plain": [
       "<Figure size 432x288 with 1 Axes>"
      ]
     },
     "metadata": {
      "needs_background": "light"
     },
     "output_type": "display_data"
    }
   ],
   "source": [
    "ds.isel(x=0, y=0).NDVI.plot.line('b-o')"
   ]
  }
 ],
 "metadata": {
  "kernelspec": {
   "display_name": "Python 3",
   "language": "python",
   "name": "python3"
  },
  "language_info": {
   "codemirror_mode": {
    "name": "ipython",
    "version": 3
   },
   "file_extension": ".py",
   "mimetype": "text/x-python",
   "name": "python",
   "nbconvert_exporter": "python",
   "pygments_lexer": "ipython3",
   "version": "3.7.3"
  }
 },
 "nbformat": 4,
 "nbformat_minor": 4
}
