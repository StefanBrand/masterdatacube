{
 "cells": [
  {
   "cell_type": "code",
   "execution_count": 1,
   "metadata": {},
   "outputs": [
    {
     "data": {
      "text/markdown": [
       "API credentials have automatically been injected for your active subscriptions.  \n",
       "The following environment variables are now available:\n",
       "* `SH_CLIENT_NAME`\n",
       "* `SH_CLIENT_SECRET`\n",
       "* `SH_INSTANCE_ID`\n",
       "* `SH_CLIENT_ID`\n",
       "\n",
       "The following additional environment variables have been loaded from `~/custom.env`:\n",
       "* `AWS_BUCKET`\n",
       "------\n"
      ],
      "text/plain": [
       "<IPython.core.display.Markdown object>"
      ]
     },
     "metadata": {},
     "output_type": "display_data"
    }
   ],
   "source": [
    "import xarray as xr\n",
    "import numpy as np\n",
    "import json, boto3, io\n",
    "\n",
    "from edc import setup_environment_variables\n",
    "\n",
    "%matplotlib inline\n",
    "\n",
    "setup_environment_variables()"
   ]
  },
  {
   "cell_type": "markdown",
   "metadata": {},
   "source": [
    "## Configuration"
   ]
  },
  {
   "cell_type": "code",
   "execution_count": 2,
   "metadata": {},
   "outputs": [],
   "source": [
    "bucket_name=%env AWS_BUCKET\n",
    "request_id = '3c26bf5d-2c8c-47e4-bd32-e81414511f8c'"
   ]
  },
  {
   "cell_type": "markdown",
   "metadata": {},
   "source": [
    "## Get Metadata"
   ]
  },
  {
   "cell_type": "code",
   "execution_count": 3,
   "metadata": {},
   "outputs": [],
   "source": [
    "s3 = boto3.resource('s3')\n",
    "bk = s3.Bucket(bucket_name)\n",
    "\n",
    "userdata_obj = bk.Object(f'{request_id}/userdata.json')\n",
    "userdata = json.load(userdata_obj.get()['Body'])\n",
    "\n",
    "tiles = set([o.key.split('/')[1] for o in bk.objects.all().filter(Prefix=request_id) if not '.json' in o.key])"
   ]
  },
  {
   "cell_type": "markdown",
   "metadata": {},
   "source": [
    "## Create xarray from datacube"
   ]
  },
  {
   "cell_type": "code",
   "execution_count": 4,
   "metadata": {},
   "outputs": [
    {
     "data": {
      "text/html": [
       "<pre>&lt;xarray.Dataset&gt;\n",
       "Dimensions:  (time: 14, x: 2004, y: 2004)\n",
       "Coordinates:\n",
       "  * time     (time) datetime64[ns] 2018-04-08T11:59:59.500000 ... 2018-11-15T23:59:59.500000\n",
       "  * y        (y) float64 5.28e+06 5.28e+06 5.28e+06 ... 5.26e+06 5.26e+06\n",
       "  * x        (x) float64 5.801e+05 5.802e+05 5.802e+05 ... 6.002e+05 6.002e+05\n",
       "Data variables:\n",
       "    B02      (time, y, x) uint16 ...\n",
       "    B03      (time, y, x) uint16 ...\n",
       "    B04      (time, y, x) uint16 ...\n",
       "    B05      (time, y, x) uint16 ...\n",
       "    B06      (time, y, x) uint16 ...\n",
       "    B07      (time, y, x) uint16 ...\n",
       "    B08      (time, y, x) uint16 ...\n",
       "    B8A      (time, y, x) uint16 ...\n",
       "    B11      (time, y, x) uint16 ...\n",
       "    B12      (time, y, x) uint16 ...\n",
       "    NDVI     (time, y, x) uint16 ...\n",
       "    GNDVI    (time, y, x) uint16 ...\n",
       "    BNDVI    (time, y, x) uint16 ...\n",
       "    CVI      (time, y, x) float32 ...\n",
       "    NDSI     (time, y, x) uint16 ...\n",
       "    NDWI     (time, y, x) uint16 ...</pre>"
      ],
      "text/plain": [
       "<xarray.Dataset>\n",
       "Dimensions:  (time: 14, x: 2004, y: 2004)\n",
       "Coordinates:\n",
       "  * time     (time) datetime64[ns] 2018-04-08T11:59:59.500000 ... 2018-11-15T23:59:59.500000\n",
       "  * y        (y) float64 5.28e+06 5.28e+06 5.28e+06 ... 5.26e+06 5.26e+06\n",
       "  * x        (x) float64 5.801e+05 5.802e+05 5.802e+05 ... 6.002e+05 6.002e+05\n",
       "Data variables:\n",
       "    B02      (time, y, x) uint16 ...\n",
       "    B03      (time, y, x) uint16 ...\n",
       "    B04      (time, y, x) uint16 ...\n",
       "    B05      (time, y, x) uint16 ...\n",
       "    B06      (time, y, x) uint16 ...\n",
       "    B07      (time, y, x) uint16 ...\n",
       "    B08      (time, y, x) uint16 ...\n",
       "    B8A      (time, y, x) uint16 ...\n",
       "    B11      (time, y, x) uint16 ...\n",
       "    B12      (time, y, x) uint16 ...\n",
       "    NDVI     (time, y, x) uint16 ...\n",
       "    GNDVI    (time, y, x) uint16 ...\n",
       "    BNDVI    (time, y, x) uint16 ...\n",
       "    CVI      (time, y, x) float32 ...\n",
       "    NDSI     (time, y, x) uint16 ...\n",
       "    NDWI     (time, y, x) uint16 ..."
      ]
     },
     "execution_count": 4,
     "metadata": {},
     "output_type": "execute_result"
    }
   ],
   "source": [
    "dss = []\n",
    "for t in tiles:\n",
    "    arrs = {b: xr.open_rasterio(f's3://{bucket_name}/{request_id}/{t}/{b}.tif') for b in userdata['bands']}\n",
    "    dss.append(xr.Dataset(arrs))\n",
    "    break # Kernel dies with big data cubes...\n",
    "ds = xr.combine_by_coords(dss)\n",
    "\n",
    "ds = ds.rename({'band': 'time'})#, 'y': 'lat', 'x': 'lon'})\n",
    "ds.coords['time'] = [np.datetime64(t) for t in userdata['time']]\n",
    "ds"
   ]
  },
  {
   "cell_type": "markdown",
   "metadata": {},
   "source": [
    "## Visualize"
   ]
  },
  {
   "cell_type": "code",
   "execution_count": 5,
   "metadata": {},
   "outputs": [
    {
     "name": "stderr",
     "output_type": "stream",
     "text": [
      "/opt/conda/lib/python3.7/site-packages/pandas/plotting/_matplotlib/converter.py:103: FutureWarning: Using an implicitly registered datetime converter for a matplotlib plotting method. The converter was registered by pandas on import. Future versions of pandas will require you to explicitly register matplotlib converters.\n",
      "\n",
      "To register the converters:\n",
      "\t>>> from pandas.plotting import register_matplotlib_converters\n",
      "\t>>> register_matplotlib_converters()\n",
      "  warnings.warn(msg, FutureWarning)\n"
     ]
    },
    {
     "data": {
      "text/html": [
       "<pre>&lt;xarray.DataArray &#x27;CVI&#x27; (time: 14, y: 2004, x: 2004)&gt;\n",
       "[56224224 values with dtype=float32]\n",
       "Coordinates:\n",
       "  * time     (time) datetime64[ns] 2018-04-08T11:59:59.500000 ... 2018-11-15T23:59:59.500000\n",
       "  * y        (y) float64 5.28e+06 5.28e+06 5.28e+06 ... 5.26e+06 5.26e+06\n",
       "  * x        (x) float64 5.801e+05 5.802e+05 5.802e+05 ... 6.002e+05 6.002e+05\n",
       "Attributes:\n",
       "    transform:               (10.0, 0.0, 580140.0, 0.0, -10.0, 5280000.0)\n",
       "    crs:                     +init=epsg:32633\n",
       "    res:                     (10.0, 10.0)\n",
       "    is_tiled:                1\n",
       "    nodatavals:              (nan, nan, nan, nan, nan, nan, nan, nan, nan, na...\n",
       "    scales:                  (1.0, 1.0, 1.0, 1.0, 1.0, 1.0, 1.0, 1.0, 1.0, 1....\n",
       "    offsets:                 (0.0, 0.0, 0.0, 0.0, 0.0, 0.0, 0.0, 0.0, 0.0, 0....\n",
       "    AREA_OR_POINT:           Area\n",
       "    TIFFTAG_RESOLUTIONUNIT:  1 (unitless)\n",
       "    TIFFTAG_XRESOLUTION:     1\n",
       "    TIFFTAG_YRESOLUTION:     1</pre>"
      ],
      "text/plain": [
       "<xarray.DataArray 'CVI' (time: 14, y: 2004, x: 2004)>\n",
       "[56224224 values with dtype=float32]\n",
       "Coordinates:\n",
       "  * time     (time) datetime64[ns] 2018-04-08T11:59:59.500000 ... 2018-11-15T23:59:59.500000\n",
       "  * y        (y) float64 5.28e+06 5.28e+06 5.28e+06 ... 5.26e+06 5.26e+06\n",
       "  * x        (x) float64 5.801e+05 5.802e+05 5.802e+05 ... 6.002e+05 6.002e+05\n",
       "Attributes:\n",
       "    transform:               (10.0, 0.0, 580140.0, 0.0, -10.0, 5280000.0)\n",
       "    crs:                     +init=epsg:32633\n",
       "    res:                     (10.0, 10.0)\n",
       "    is_tiled:                1\n",
       "    nodatavals:              (nan, nan, nan, nan, nan, nan, nan, nan, nan, na...\n",
       "    scales:                  (1.0, 1.0, 1.0, 1.0, 1.0, 1.0, 1.0, 1.0, 1.0, 1....\n",
       "    offsets:                 (0.0, 0.0, 0.0, 0.0, 0.0, 0.0, 0.0, 0.0, 0.0, 0....\n",
       "    AREA_OR_POINT:           Area\n",
       "    TIFFTAG_RESOLUTIONUNIT:  1 (unitless)\n",
       "    TIFFTAG_XRESOLUTION:     1\n",
       "    TIFFTAG_YRESOLUTION:     1"
      ]
     },
     "execution_count": 5,
     "metadata": {},
     "output_type": "execute_result"
    },
    {
     "data": {
      "image/png": "[encoded data removed]",
      "text/plain": [
       "<Figure size 432x288 with 1 Axes>"
      ]
     },
     "metadata": {
      "needs_background": "light"
     },
     "output_type": "display_data"
    }
   ],
   "source": [
    "ds.isel(x=0, y=0).CVI.plot.line('b-o')\n",
    "\n",
    "ds.CVI"
   ]
  }
 ],
 "metadata": {
  "kernelspec": {
   "display_name": "Python 3",
   "language": "python",
   "name": "python3"
  },
  "language_info": {
   "codemirror_mode": {
    "name": "ipython",
    "version": 3
   },
   "file_extension": ".py",
   "mimetype": "text/x-python",
   "name": "python",
   "nbconvert_exporter": "python",
   "pygments_lexer": "ipython3",
   "version": "3.7.6"
  }
 },
 "nbformat": 4,
 "nbformat_minor": 4
}
