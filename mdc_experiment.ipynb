{
 "cells": [
  {
   "cell_type": "code",
   "execution_count": 28,
   "metadata": {},
   "outputs": [
    {
     "name": "stdout",
     "output_type": "stream",
     "text": [
      "The dotenv extension is already loaded. To reload it, use:\n",
      "  %reload_ext dotenv\n"
     ]
    }
   ],
   "source": [
    "# load credentials from environment variables\n",
    "%load_ext dotenv\n",
    "%dotenv\n",
    "\n",
    "from xcube_sh.cube import open_cube\n",
    "from xcube_sh.config import CubeConfig\n",
    "from xcube_sh.observers import Observers"
   ]
  },
  {
   "cell_type": "code",
   "execution_count": 43,
   "metadata": {},
   "outputs": [
    {
     "name": "stdout",
     "output_type": "stream",
     "text": [
      "Received chunk (0, 0, 0) for band B04: took 1583.62 ms\n",
      "Received chunk (1, 0, 0) for band B04: took 2838.19 ms\n",
      "Received chunk (2, 0, 0) for band B04: took 1813.20 ms\n",
      "Writing cube to ooe_B04.zarr...\n",
      "Received chunk (1, 0, 0) for band B04: took 1360.07 ms\n",
      "Received chunk (0, 0, 0) for band B04: took 1841.93 ms\n",
      "Received chunk (2, 0, 0) for band B04: took 1400.93 ms\n",
      "Cube written to ooe_B04.zarr, took 4.17 seconds.\n",
      "Number of requests: 3\n",
      "Request duration min: 1360.07 ms\n",
      "Request duration max: 1841.93 ms\n",
      "Request duration median: 1400.93 ms\n",
      "Request duration mean: 1534.31 ms\n",
      "Request duration std.dev.: 218.16 ms\n",
      "CPU times: user 98.8 ms, sys: 17.3 ms, total: 116 ms\n",
      "Wall time: 5.86 s\n",
      "14648\tB04.zarr\n",
      "14648\tooe_B04.zarr\n"
     ]
    }
   ],
   "source": [
    "\n",
    "\n",
    "!rm -r *.zarr\n",
    "request_collector = Observers.request_dumper()\n",
    "\n",
    "for band in ['B04']:\n",
    "    config = CubeConfig(\n",
    "        dataset_name=\"S2L2A\",\n",
    "        band_names=[band],\n",
    "        geometry=(14.318395625014208,48.359153946428485,14.506361110382839,48.543395524629055),\n",
    "        #tile_size=[1024, 12],\n",
    "        crs='http://www.opengis.net/def/crs/EPSG/0/4326',\n",
    "        spatial_res=0.000134,\n",
    "        time_range=['2018-01-01', '2018-01-31'],\n",
    "        time_period='2W'\n",
    "    )\n",
    "    open_cube(config, observer=request_collector).to_zarr(f'{band}.zarr')\n",
    "    #print(request_collector.stats.duration_mean*request_collector.stats.num_requests)\n",
    "    %time !xcube sh gen S2L2A -v -o ooe_{band}.zarr -b {band} -g 14.318395625014208,48.359153946428485,14.506361110382839,48.543395524629055 -r 0.000134 -t 2018-01-01,2018-01-31 -p 2W 2>/dev/null\n",
    "    \n",
    "!du *.zarr -s"
   ]
  }
 ],
 "metadata": {
  "kernelspec": {
   "display_name": "Python 3",
   "language": "python",
   "name": "python3"
  },
  "language_info": {
   "codemirror_mode": {
    "name": "ipython",
    "version": 3
   },
   "file_extension": ".py",
   "mimetype": "text/x-python",
   "name": "python",
   "nbconvert_exporter": "python",
   "pygments_lexer": "ipython3",
   "version": "3.7.3"
  }
 },
 "nbformat": 4,
 "nbformat_minor": 4
}
