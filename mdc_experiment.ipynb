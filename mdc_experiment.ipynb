{
 "cells": [
  {
   "cell_type": "code",
   "execution_count": 21,
   "metadata": {},
   "outputs": [
    {
     "name": "stdout",
     "output_type": "stream",
     "text": [
      "The dotenv extension is already loaded. To reload it, use:\n",
      "  %reload_ext dotenv\n"
     ]
    }
   ],
   "source": [
    "# load credentials from environment variables\n",
    "%load_ext dotenv\n",
    "%dotenv"
   ]
  },
  {
   "cell_type": "code",
   "execution_count": 25,
   "metadata": {},
   "outputs": [
    {
     "name": "stdout",
     "output_type": "stream",
     "text": [
      "Writing cube to ooe_B02.zarr...\n",
      "Cube written to ooe_B02.zarr, took 6.20 seconds.\n",
      "CPU times: user 132 ms, sys: 21.4 ms, total: 154 ms\n",
      "Wall time: 8.03 s\n"
     ]
    }
   ],
   "source": [
    "\n",
    "for band in ['B02']:\n",
    "    !rm -r *.zarr\n",
    "    %time !xcube sh gen S2L2A -o ooe_{band}.zarr -b {band} -g 14.318395625014208,48.359153946428485,14.506361110382839,48.543395524629055 -r 0.000134 -t 2018-01-01,2018-01-31 -p 2W 2>/dev/null"
   ]
  }
 ],
 "metadata": {
  "kernelspec": {
   "display_name": "Python 3",
   "language": "python",
   "name": "python3"
  },
  "language_info": {
   "codemirror_mode": {
    "name": "ipython",
    "version": 3
   },
   "file_extension": ".py",
   "mimetype": "text/x-python",
   "name": "python",
   "nbconvert_exporter": "python",
   "pygments_lexer": "ipython3",
   "version": "3.7.3"
  }
 },
 "nbformat": 4,
 "nbformat_minor": 4
}
