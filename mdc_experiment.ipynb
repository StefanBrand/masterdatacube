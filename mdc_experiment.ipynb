{
 "cells": [
  {
   "cell_type": "code",
   "execution_count": 88,
   "metadata": {},
   "outputs": [
    {
     "name": "stdout",
     "output_type": "stream",
     "text": [
      "The dotenv extension is already loaded. To reload it, use:\n",
      "  %reload_ext dotenv\n",
      "The line_profiler extension is already loaded. To reload it, use:\n",
      "  %reload_ext line_profiler\n",
      "The memory_profiler extension is already loaded. To reload it, use:\n",
      "  %reload_ext memory_profiler\n"
     ]
    }
   ],
   "source": [
    "# load credentials from environment variables\n",
    "%load_ext dotenv\n",
    "%load_ext line_profiler\n",
    "%load_ext memory_profiler\n",
    "%dotenv\n",
    "\n",
    "from xcube_sh.cube import open_cube\n",
    "from xcube_sh.config import CubeConfig\n",
    "from xcube_sh.observers import Observers\n",
    "\n",
    "import time"
   ]
  },
  {
   "cell_type": "code",
   "execution_count": 50,
   "metadata": {},
   "outputs": [],
   "source": [
    "request_collector = Observers.request_dumper()\n",
    "\n",
    "geometries = {\n",
    "    'ooe': (14.318395625014208,48.359153946428485,14.506361110382839,48.543395524629055)\n",
    "}"
   ]
  },
  {
   "cell_type": "code",
   "execution_count": 95,
   "metadata": {},
   "outputs": [],
   "source": [
    "\n",
    "def write_cube(geometry_id, time_range):\n",
    "    '''\n",
    "    This will write a zarr file using the specified parameters.\n",
    "    \n",
    "    # Input\n",
    "    \n",
    "    string geometry_id\n",
    "    list[date_string start, date_string end] time_range\n",
    "    \n",
    "    \n",
    "    # Example: \n",
    "    \n",
    "    write_cube('ooe', ['2018-01-01', '2018-01-31']\n",
    "    )\n",
    "    '''\n",
    "    \n",
    "    bands = ['B04']\n",
    "    config = CubeConfig(\n",
    "        dataset_name=\"S2L2A\",\n",
    "        band_names=bands,\n",
    "        geometry=geometries[geometry_id],\n",
    "        #tile_size=[1024, 12],\n",
    "        crs='http://www.opengis.net/def/crs/EPSG/0/4326',\n",
    "        spatial_res=0.000134,\n",
    "        time_range=time_range,\n",
    "        time_period='2W'\n",
    "    )\n",
    "    open_cube(config, observer=request_collector).to_zarr(f'{geometry_id}_{\"_\".join(time_range)}.zarr')\n",
    "    "
   ]
  },
  {
   "cell_type": "code",
   "execution_count": 96,
   "metadata": {},
   "outputs": [
    {
     "name": "stdout",
     "output_type": "stream",
     "text": [
      "Received chunk (0, 0, 0) for band B04: took 1389.36 ms\n",
      "Received chunk (1, 0, 0) for band B04: took 1414.50 ms\n",
      "Received chunk (2, 0, 0) for band B04: took 1730.22 ms\n",
      "CPU times: user 1.47 s, sys: 96.1 ms, total: 1.57 s\n",
      "Wall time: 5.02 s\n",
      "14648\tooe_2018-01-01_2018-01-31.zarr\n"
     ]
    }
   ],
   "source": [
    "\n",
    "!rm -r *.zarr\n",
    "\n",
    "\n",
    "#for band in ['B04']:\n",
    "%time write_cube('ooe', ['2018-01-01', '2018-01-31'])\n",
    "!du *.zarr -s"
   ]
  }
 ],
 "metadata": {
  "kernelspec": {
   "display_name": "Python 3",
   "language": "python",
   "name": "python3"
  },
  "language_info": {
   "codemirror_mode": {
    "name": "ipython",
    "version": 3
   },
   "file_extension": ".py",
   "mimetype": "text/x-python",
   "name": "python",
   "nbconvert_exporter": "python",
   "pygments_lexer": "ipython3",
   "version": "3.7.3"
  }
 },
 "nbformat": 4,
 "nbformat_minor": 4
}
